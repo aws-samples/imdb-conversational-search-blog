{
 "cells": [
  {
   "cell_type": "code",
   "execution_count": 19,
   "id": "8ff56409-f18b-48c8-894c-8bb31a8043d9",
   "metadata": {
    "tags": []
   },
   "outputs": [
    {
     "name": "stdout",
     "output_type": "stream",
     "text": [
      "Collecting opensearch-py\n",
      "  Using cached opensearch_py-2.2.0-py2.py3-none-any.whl (291 kB)\n",
      "Requirement already satisfied: requests<3.0.0,>=2.4.0 in /opt/conda/lib/python3.10/site-packages (from opensearch-py) (2.28.2)\n",
      "Requirement already satisfied: certifi>=2022.12.07 in /opt/conda/lib/python3.10/site-packages (from opensearch-py) (2022.12.7)\n",
      "Requirement already satisfied: urllib3<2,>=1.21.1 in /opt/conda/lib/python3.10/site-packages (from opensearch-py) (1.26.15)\n",
      "Requirement already satisfied: python-dateutil in /opt/conda/lib/python3.10/site-packages (from opensearch-py) (2.8.2)\n",
      "Requirement already satisfied: six in /opt/conda/lib/python3.10/site-packages (from opensearch-py) (1.16.0)\n",
      "Requirement already satisfied: charset-normalizer<4,>=2 in /opt/conda/lib/python3.10/site-packages (from requests<3.0.0,>=2.4.0->opensearch-py) (2.0.4)\n",
      "Requirement already satisfied: idna<4,>=2.5 in /opt/conda/lib/python3.10/site-packages (from requests<3.0.0,>=2.4.0->opensearch-py) (3.3)\n",
      "Installing collected packages: opensearch-py\n",
      "Successfully installed opensearch-py-2.2.0\n",
      "\u001b[33mWARNING: Running pip as the 'root' user can result in broken permissions and conflicting behaviour with the system package manager. It is recommended to use a virtual environment instead: https://pip.pypa.io/warnings/venv\u001b[0m\u001b[33m\n",
      "\u001b[0m\n",
      "\u001b[1m[\u001b[0m\u001b[34;49mnotice\u001b[0m\u001b[1;39;49m]\u001b[0m\u001b[39;49m A new release of pip is available: \u001b[0m\u001b[31;49m23.0.1\u001b[0m\u001b[39;49m -> \u001b[0m\u001b[32;49m23.1.2\u001b[0m\n",
      "\u001b[1m[\u001b[0m\u001b[34;49mnotice\u001b[0m\u001b[1;39;49m]\u001b[0m\u001b[39;49m To update, run: \u001b[0m\u001b[32;49mpip install --upgrade pip\u001b[0m\n"
     ]
    }
   ],
   "source": [
    "!pip install opensearch-py"
   ]
  },
  {
   "cell_type": "code",
   "execution_count": 6,
   "id": "37de1b0c-89f9-4614-9221-b9baf97eb664",
   "metadata": {
    "tags": []
   },
   "outputs": [
    {
     "name": "stdout",
     "output_type": "stream",
     "text": [
      "Collecting sentence_transformers\n",
      "  Using cached sentence_transformers-2.2.2-py3-none-any.whl\n",
      "Requirement already satisfied: transformers<5.0.0,>=4.6.0 in /opt/conda/lib/python3.10/site-packages (from sentence_transformers) (4.29.2)\n",
      "Collecting torchvision\n",
      "  Using cached torchvision-0.15.2-cp310-cp310-manylinux1_x86_64.whl (6.0 MB)\n",
      "Requirement already satisfied: scikit-learn in /opt/conda/lib/python3.10/site-packages (from sentence_transformers) (1.0.1)\n",
      "Requirement already satisfied: scipy in /opt/conda/lib/python3.10/site-packages (from sentence_transformers) (1.9.1)\n",
      "Requirement already satisfied: huggingface-hub>=0.4.0 in /opt/conda/lib/python3.10/site-packages (from sentence_transformers) (0.15.1)\n",
      "Collecting torch>=1.6.0\n"
     ]
    }
   ],
   "source": [
    "!pip install sentence_transformers"
   ]
  },
  {
   "cell_type": "code",
   "execution_count": 4,
   "id": "33cd4979-332c-4f29-ac28-f55395b69ff8",
   "metadata": {
    "tags": []
   },
   "outputs": [],
   "source": [
    "import sys\n",
    "sys.path.append(\"..\")\n",
    "from src.movie_utils import get_trending_content\n",
    "import ai21\n",
    "import json\n",
    "import src.endpoint as endpoint\n",
    "import src.langchain_qa_chat as langchain_qa_chat\n",
    "from langchain.prompts import PromptTemplate\n",
    "import boto3\n",
    "from requests_aws4auth import AWS4Auth\n",
    "from opensearchpy import OpenSearch, RequestsHttpConnection"
   ]
  },
  {
   "cell_type": "code",
   "execution_count": 5,
   "id": "5bc72737-1122-4d52-aa01-cb98afbea000",
   "metadata": {
    "tags": []
   },
   "outputs": [],
   "source": [
    "with open(\"../tmdb.txt\", \"r\") as file:\n",
    "    api_key = file.read().strip()"
   ]
  },
  {
   "cell_type": "code",
   "execution_count": 6,
   "id": "ebabdb0f-b735-4c32-9bd5-942b39ed2a94",
   "metadata": {
    "tags": []
   },
   "outputs": [],
   "source": [
    "def initialize_ops(\n",
    "    host=\"vpc-llm-imdb-search-wdv7w5ydpuuzhekveyxmnhsnw4.us-east-1.es.amazonaws.com\",\n",
    "    port=443,\n",
    "    region=\"us-east-1\",\n",
    "    service=\"es\",\n",
    "):\n",
    "    \"\"\"\n",
    "    Initialize opensearch instance with specific host, port, and region\n",
    "    \"\"\"\n",
    "    # For example, my-test-domain.us-east-1.es.amazonaws.com  # e.g. us-west-1\n",
    "    credentials = boto3.Session().get_credentials()\n",
    "    awsauth = AWS4Auth(\n",
    "        credentials.access_key,\n",
    "        credentials.secret_key,\n",
    "        region,\n",
    "        service,\n",
    "        session_token=credentials.token,\n",
    "    )\n",
    "\n",
    "    ops = OpenSearch(\n",
    "        hosts=[{\"host\": host, \"port\": 443}],\n",
    "        http_auth=awsauth,\n",
    "        use_ssl=True,\n",
    "        verify_certs=True,\n",
    "        connection_class=RequestsHttpConnection,\n",
    "        timeout=10,\n",
    "    )\n",
    "\n",
    "    return ops"
   ]
  },
  {
   "cell_type": "code",
   "execution_count": 7,
   "id": "00e865e2-cfd6-406a-88d0-1246e4c0480b",
   "metadata": {
    "tags": []
   },
   "outputs": [],
   "source": [
    "trending_res = get_trending_content(api_key)"
   ]
  },
  {
   "cell_type": "code",
   "execution_count": 8,
   "id": "aa0da651-15df-4ce7-8164-c4bf91232b3f",
   "metadata": {
    "tags": []
   },
   "outputs": [],
   "source": [
    "instruction = \"\"\"There are eight columns with names given in double quotes \"title\" for movies, \"stars\" for actors, \"rating\", \"directors\", \"producers\", \"keywords\", \"location\" and \"genres\" in \\\\\n",
    "    the opensearch/elasticsearch cluster. The columns \"stars\", \"director\", \"keywords\" and \"producer\" have arrays so use Terms query otherwise use term query. Use size 15 for all queries unless stated. For columns stars, directors, producers,location use `<column_name>.keyword` in the query instead of column_name.  Use `Terms` query for columns stars, directors, genres, producers and location. If you use `bool` query, check inside the terms query for columns stars, directors, genres, producers and location inside the bool.\n",
    "   \n",
    "    Use the following query template to answer the question below. There can be multiple Term or Terms queries inside the \"must\" array\n",
    "    {{\"query\":{{\"bool\":{{\"must\":[{{\"terms\":{{\"<column>.keyword\":[\"<entity>\"] }}}}]}}}}, \"sort\": [{{\"rating\": {{\"order\": \"desc\",\"missing\":\"_last\",\"unmapped_type\" : \"long\"}}}}]}}\n",
    "    \n",
    "    If there are multiple entities in the question use a separate dict in the must clause for each entity. For example, \n",
    "    {{\"query\":{{\"bool\":{{\"must\":[{{\"terms\":{{\"<column>.keyword\":[\"<entity1>\"]}}}},{{\"terms\":{{\"<column>.keyword\":[\"<entity2>\"]}}}}]}}}}, \"sort\": [{{\"rating\": {{\"order\": \"desc\",\"missing\":\"_last\",\"unmapped_type\" : \"long\"}}}}]}}\n",
    "    \n",
    "    For example, the query would be {{\"query\":{{\"bool\":{{\"must\":[{{\"terms\":{{\"stars.keyword\":[\"Tom Cruise\"]}}}},{{\"terms\":{{\"stars.keyword\":[\"Nicole Kidman\"]}}}}]}}}}}}\n",
    "\n",
    "    For the question given below, use the query do the following\n",
    "    1. Extract the entities from the question and map each entity to columns \"stars\",\"directors\", \"producers, \"keywords\" and \"genres\"\n",
    "    2. Form a query to answer the following question in double quotes based on the query template above and no other information. \"must\" clause inside the query with arrays must have a single entity only.\n",
    "\n",
    "    \"{0}\"\n",
    "\n",
    "    Show what you have deduced in each step\n",
    "    Answer:\n",
    "    \"\"\""
   ]
  },
  {
   "cell_type": "code",
   "execution_count": 9,
   "id": "33cfb0c5-a845-44b8-a8d6-9624bcdb66cf",
   "metadata": {
    "tags": []
   },
   "outputs": [],
   "source": [
    "instruction = instruction.format(\"What are movies starring Tom Cruise?\")"
   ]
  },
  {
   "cell_type": "code",
   "execution_count": 10,
   "id": "42aa03de-4a53-4dee-bcf9-8b46fa606980",
   "metadata": {
    "tags": []
   },
   "outputs": [
    {
     "name": "stdout",
     "output_type": "stream",
     "text": [
      "There are eight columns with names given in double quotes \"title\" for movies, \"stars\" for actors, \"rating\", \"directors\", \"producers\", \"keywords\", \"location\" and \"genres\" in \\\n",
      "    the opensearch/elasticsearch cluster. The columns \"stars\", \"director\", \"keywords\" and \"producer\" have arrays so use Terms query otherwise use term query. Use size 15 for all queries unless stated. For columns stars, directors, producers,location use `<column_name>.keyword` in the query instead of column_name.  Use `Terms` query for columns stars, directors, genres, producers and location. If you use `bool` query, check inside the terms query for columns stars, directors, genres, producers and location inside the bool.\n",
      "   \n",
      "    Use the following query template to answer the question below. There can be multiple Term or Terms queries inside the \"must\" array\n",
      "    {\"query\":{\"bool\":{\"must\":[{\"terms\":{\"<column>.keyword\":[\"<entity>\"] }}]}}, \"sort\": [{\"rating\": {\"order\": \"desc\",\"missing\":\"_last\",\"unmapped_type\" : \"long\"}}]}\n",
      "    \n",
      "    If there are multiple entities in the question use a separate dict in the must clause for each entity. For example, \n",
      "    {\"query\":{\"bool\":{\"must\":[{\"terms\":{\"<column>.keyword\":[\"<entity1>\"]}},{\"terms\":{\"<column>.keyword\":[\"<entity2>\"]}}]}}, \"sort\": [{\"rating\": {\"order\": \"desc\",\"missing\":\"_last\",\"unmapped_type\" : \"long\"}}]}\n",
      "    \n",
      "    For example, the query would be {\"query\":{\"bool\":{\"must\":[{\"terms\":{\"stars.keyword\":[\"Tom Cruise\"]}},{\"terms\":{\"stars.keyword\":[\"Nicole Kidman\"]}}]}}}\n",
      "\n",
      "    For the question given below, use the query do the following\n",
      "    1. Extract the entities from the question and map each entity to columns \"stars\",\"directors\", \"producers, \"keywords\" and \"genres\"\n",
      "    2. Form a query to answer the following question in double quotes based on the query template above and no other information. \"must\" clause inside the query with arrays must have a single entity only.\n",
      "\n",
      "    \"What are movies starring Tom Cruise?\"\n",
      "\n",
      "    Show what you have deduced in each step\n",
      "    Answer:\n",
      "    \n"
     ]
    }
   ],
   "source": [
    "print(instruction)"
   ]
  },
  {
   "cell_type": "code",
   "execution_count": 11,
   "id": "029c09d3-bdcf-43c6-bbbb-45d468c2c854",
   "metadata": {
    "tags": []
   },
   "outputs": [],
   "source": [
    "def extract_json(x):\n",
    "    \"\"\"\n",
    "    Extract json object within input\n",
    "    Args:\n",
    "        x(str): input json object\n",
    "    Return:\n",
    "        str: components within the json\n",
    "    \"\"\"\n",
    "    for i, j in enumerate(x):\n",
    "        if j == \"{\":\n",
    "            break\n",
    "    for j, k in enumerate(list(reversed(x))):\n",
    "        if k == \"}\":\n",
    "            break\n",
    "    return x[i : len(x) - j]"
   ]
  },
  {
   "cell_type": "code",
   "execution_count": 12,
   "id": "a8dbb742-db66-421f-ba75-59b11f069588",
   "metadata": {
    "tags": []
   },
   "outputs": [],
   "source": [
    "prompt_template = \"\"\"Use the following pieces of context to extract movies based on the question at the end. If you don't know the answer, just say that you don't know, don't try to make up an answer.\n",
    "{context}\n",
    "Question: {question}\n",
    "Helpful Answer:\"\"\"\n",
    "QA_PROMPT = PromptTemplate(\n",
    "    template=prompt_template,\n",
    "    input_variables=[\"context\", \"question\"],\n",
    "    validate_template=False,\n",
    ")"
   ]
  },
  {
   "cell_type": "markdown",
   "id": "030c9677-5e4e-4505-96cd-3291204c8252",
   "metadata": {},
   "source": [
    "### LLM Testing"
   ]
  },
  {
   "cell_type": "code",
   "execution_count": 13,
   "id": "a1e4a05e-183a-42ad-ab48-47f64ddacdbb",
   "metadata": {
    "tags": []
   },
   "outputs": [],
   "source": [
    "from langchain.llms.bedrock import Bedrock\n",
    "from langchain.chains import ConversationChain\n",
    "from langchain.memory import ConversationBufferMemory\n",
    "from langchain.prompts.prompt import PromptTemplate\n",
    "import boto3"
   ]
  },
  {
   "cell_type": "markdown",
   "id": "1cb62423-1868-40ba-a208-a2b739ef7744",
   "metadata": {},
   "source": [
    "#### Jumbo Instruct"
   ]
  },
  {
   "cell_type": "code",
   "execution_count": 14,
   "id": "aa9c168a-20d9-43a5-b726-f4514e8fc1d3",
   "metadata": {
    "tags": []
   },
   "outputs": [],
   "source": [
    "llm = endpoint.sagemaker_endpoint_ai21('j2-jumbo-instruct')\n",
    "search_chain = langchain_qa_chat.chain_qa(llm, verbose=False, prompt=QA_PROMPT)"
   ]
  },
  {
   "cell_type": "code",
   "execution_count": 15,
   "id": "53e35dfd-28a3-4058-aa09-82f773b94520",
   "metadata": {
    "tags": []
   },
   "outputs": [
    {
     "ename": "ValueError",
     "evalue": "Error raised by inference endpoint: An error occurred (ValidationError) when calling the InvokeEndpoint operation: Endpoint j2-jumbo-instruct of account 613305653031 not found.",
     "output_type": "error",
     "traceback": [
      "\u001b[0;31m---------------------------------------------------------------------------\u001b[0m",
      "\u001b[0;31mValidationError\u001b[0m                           Traceback (most recent call last)",
      "File \u001b[0;32m/opt/conda/lib/python3.10/site-packages/langchain/llms/sagemaker_endpoint.py:236\u001b[0m, in \u001b[0;36mSagemakerEndpoint._call\u001b[0;34m(self, prompt, stop, run_manager, **kwargs)\u001b[0m\n\u001b[1;32m    235\u001b[0m \u001b[38;5;28;01mtry\u001b[39;00m:\n\u001b[0;32m--> 236\u001b[0m     response \u001b[38;5;241m=\u001b[39m \u001b[38;5;28;43mself\u001b[39;49m\u001b[38;5;241;43m.\u001b[39;49m\u001b[43mclient\u001b[49m\u001b[38;5;241;43m.\u001b[39;49m\u001b[43minvoke_endpoint\u001b[49m\u001b[43m(\u001b[49m\n\u001b[1;32m    237\u001b[0m \u001b[43m        \u001b[49m\u001b[43mEndpointName\u001b[49m\u001b[38;5;241;43m=\u001b[39;49m\u001b[38;5;28;43mself\u001b[39;49m\u001b[38;5;241;43m.\u001b[39;49m\u001b[43mendpoint_name\u001b[49m\u001b[43m,\u001b[49m\n\u001b[1;32m    238\u001b[0m \u001b[43m        \u001b[49m\u001b[43mBody\u001b[49m\u001b[38;5;241;43m=\u001b[39;49m\u001b[43mbody\u001b[49m\u001b[43m,\u001b[49m\n\u001b[1;32m    239\u001b[0m \u001b[43m        \u001b[49m\u001b[43mContentType\u001b[49m\u001b[38;5;241;43m=\u001b[39;49m\u001b[43mcontent_type\u001b[49m\u001b[43m,\u001b[49m\n\u001b[1;32m    240\u001b[0m \u001b[43m        \u001b[49m\u001b[43mAccept\u001b[49m\u001b[38;5;241;43m=\u001b[39;49m\u001b[43maccepts\u001b[49m\u001b[43m,\u001b[49m\n\u001b[1;32m    241\u001b[0m \u001b[43m        \u001b[49m\u001b[38;5;241;43m*\u001b[39;49m\u001b[38;5;241;43m*\u001b[39;49m\u001b[43m_endpoint_kwargs\u001b[49m\u001b[43m,\u001b[49m\n\u001b[1;32m    242\u001b[0m \u001b[43m    \u001b[49m\u001b[43m)\u001b[49m\n\u001b[1;32m    243\u001b[0m \u001b[38;5;28;01mexcept\u001b[39;00m \u001b[38;5;167;01mException\u001b[39;00m \u001b[38;5;28;01mas\u001b[39;00m e:\n",
      "File \u001b[0;32m/opt/conda/lib/python3.10/site-packages/botocore/client.py:530\u001b[0m, in \u001b[0;36mClientCreator._create_api_method.<locals>._api_call\u001b[0;34m(self, *args, **kwargs)\u001b[0m\n\u001b[1;32m    529\u001b[0m \u001b[38;5;66;03m# The \"self\" in this scope is referring to the BaseClient.\u001b[39;00m\n\u001b[0;32m--> 530\u001b[0m \u001b[38;5;28;01mreturn\u001b[39;00m \u001b[38;5;28;43mself\u001b[39;49m\u001b[38;5;241;43m.\u001b[39;49m\u001b[43m_make_api_call\u001b[49m\u001b[43m(\u001b[49m\u001b[43moperation_name\u001b[49m\u001b[43m,\u001b[49m\u001b[43m \u001b[49m\u001b[43mkwargs\u001b[49m\u001b[43m)\u001b[49m\n",
      "File \u001b[0;32m/opt/conda/lib/python3.10/site-packages/botocore/client.py:964\u001b[0m, in \u001b[0;36mBaseClient._make_api_call\u001b[0;34m(self, operation_name, api_params)\u001b[0m\n\u001b[1;32m    963\u001b[0m     error_class \u001b[38;5;241m=\u001b[39m \u001b[38;5;28mself\u001b[39m\u001b[38;5;241m.\u001b[39mexceptions\u001b[38;5;241m.\u001b[39mfrom_code(error_code)\n\u001b[0;32m--> 964\u001b[0m     \u001b[38;5;28;01mraise\u001b[39;00m error_class(parsed_response, operation_name)\n\u001b[1;32m    965\u001b[0m \u001b[38;5;28;01melse\u001b[39;00m:\n",
      "\u001b[0;31mValidationError\u001b[0m: An error occurred (ValidationError) when calling the InvokeEndpoint operation: Endpoint j2-jumbo-instruct of account 613305653031 not found.",
      "\nDuring handling of the above exception, another exception occurred:\n",
      "\u001b[0;31mValueError\u001b[0m                                Traceback (most recent call last)",
      "Cell \u001b[0;32mIn[15], line 1\u001b[0m\n\u001b[0;32m----> 1\u001b[0m \u001b[43mllm\u001b[49m\u001b[43m(\u001b[49m\u001b[43minstruction\u001b[49m\u001b[43m)\u001b[49m\n",
      "File \u001b[0;32m/opt/conda/lib/python3.10/site-packages/langchain/llms/base.py:338\u001b[0m, in \u001b[0;36mBaseLLM.__call__\u001b[0;34m(self, prompt, stop, callbacks, **kwargs)\u001b[0m\n\u001b[1;32m    331\u001b[0m \u001b[38;5;28;01mif\u001b[39;00m \u001b[38;5;129;01mnot\u001b[39;00m \u001b[38;5;28misinstance\u001b[39m(prompt, \u001b[38;5;28mstr\u001b[39m):\n\u001b[1;32m    332\u001b[0m     \u001b[38;5;28;01mraise\u001b[39;00m \u001b[38;5;167;01mValueError\u001b[39;00m(\n\u001b[1;32m    333\u001b[0m         \u001b[38;5;124m\"\u001b[39m\u001b[38;5;124mArgument `prompt` is expected to be a string. Instead found \u001b[39m\u001b[38;5;124m\"\u001b[39m\n\u001b[1;32m    334\u001b[0m         \u001b[38;5;124mf\u001b[39m\u001b[38;5;124m\"\u001b[39m\u001b[38;5;132;01m{\u001b[39;00m\u001b[38;5;28mtype\u001b[39m(prompt)\u001b[38;5;132;01m}\u001b[39;00m\u001b[38;5;124m. If you want to run the LLM on multiple prompts, use \u001b[39m\u001b[38;5;124m\"\u001b[39m\n\u001b[1;32m    335\u001b[0m         \u001b[38;5;124m\"\u001b[39m\u001b[38;5;124m`generate` instead.\u001b[39m\u001b[38;5;124m\"\u001b[39m\n\u001b[1;32m    336\u001b[0m     )\n\u001b[1;32m    337\u001b[0m \u001b[38;5;28;01mreturn\u001b[39;00m (\n\u001b[0;32m--> 338\u001b[0m     \u001b[38;5;28;43mself\u001b[39;49m\u001b[38;5;241;43m.\u001b[39;49m\u001b[43mgenerate\u001b[49m\u001b[43m(\u001b[49m\u001b[43m[\u001b[49m\u001b[43mprompt\u001b[49m\u001b[43m]\u001b[49m\u001b[43m,\u001b[49m\u001b[43m \u001b[49m\u001b[43mstop\u001b[49m\u001b[38;5;241;43m=\u001b[39;49m\u001b[43mstop\u001b[49m\u001b[43m,\u001b[49m\u001b[43m \u001b[49m\u001b[43mcallbacks\u001b[49m\u001b[38;5;241;43m=\u001b[39;49m\u001b[43mcallbacks\u001b[49m\u001b[43m,\u001b[49m\u001b[43m \u001b[49m\u001b[38;5;241;43m*\u001b[39;49m\u001b[38;5;241;43m*\u001b[39;49m\u001b[43mkwargs\u001b[49m\u001b[43m)\u001b[49m\n\u001b[1;32m    339\u001b[0m     \u001b[38;5;241m.\u001b[39mgenerations[\u001b[38;5;241m0\u001b[39m][\u001b[38;5;241m0\u001b[39m]\n\u001b[1;32m    340\u001b[0m     \u001b[38;5;241m.\u001b[39mtext\n\u001b[1;32m    341\u001b[0m )\n",
      "File \u001b[0;32m/opt/conda/lib/python3.10/site-packages/langchain/llms/base.py:206\u001b[0m, in \u001b[0;36mBaseLLM.generate\u001b[0;34m(self, prompts, stop, callbacks, tags, **kwargs)\u001b[0m\n\u001b[1;32m    204\u001b[0m \u001b[38;5;28;01mexcept\u001b[39;00m (\u001b[38;5;167;01mKeyboardInterrupt\u001b[39;00m, \u001b[38;5;167;01mException\u001b[39;00m) \u001b[38;5;28;01mas\u001b[39;00m e:\n\u001b[1;32m    205\u001b[0m     run_manager\u001b[38;5;241m.\u001b[39mon_llm_error(e)\n\u001b[0;32m--> 206\u001b[0m     \u001b[38;5;28;01mraise\u001b[39;00m e\n\u001b[1;32m    207\u001b[0m run_manager\u001b[38;5;241m.\u001b[39mon_llm_end(output)\n\u001b[1;32m    208\u001b[0m \u001b[38;5;28;01mif\u001b[39;00m run_manager:\n",
      "File \u001b[0;32m/opt/conda/lib/python3.10/site-packages/langchain/llms/base.py:198\u001b[0m, in \u001b[0;36mBaseLLM.generate\u001b[0;34m(self, prompts, stop, callbacks, tags, **kwargs)\u001b[0m\n\u001b[1;32m    193\u001b[0m run_manager \u001b[38;5;241m=\u001b[39m callback_manager\u001b[38;5;241m.\u001b[39mon_llm_start(\n\u001b[1;32m    194\u001b[0m     dumpd(\u001b[38;5;28mself\u001b[39m), prompts, invocation_params\u001b[38;5;241m=\u001b[39mparams, options\u001b[38;5;241m=\u001b[39moptions\n\u001b[1;32m    195\u001b[0m )\n\u001b[1;32m    196\u001b[0m \u001b[38;5;28;01mtry\u001b[39;00m:\n\u001b[1;32m    197\u001b[0m     output \u001b[38;5;241m=\u001b[39m (\n\u001b[0;32m--> 198\u001b[0m         \u001b[38;5;28;43mself\u001b[39;49m\u001b[38;5;241;43m.\u001b[39;49m\u001b[43m_generate\u001b[49m\u001b[43m(\u001b[49m\n\u001b[1;32m    199\u001b[0m \u001b[43m            \u001b[49m\u001b[43mprompts\u001b[49m\u001b[43m,\u001b[49m\u001b[43m \u001b[49m\u001b[43mstop\u001b[49m\u001b[38;5;241;43m=\u001b[39;49m\u001b[43mstop\u001b[49m\u001b[43m,\u001b[49m\u001b[43m \u001b[49m\u001b[43mrun_manager\u001b[49m\u001b[38;5;241;43m=\u001b[39;49m\u001b[43mrun_manager\u001b[49m\u001b[43m,\u001b[49m\u001b[43m \u001b[49m\u001b[38;5;241;43m*\u001b[39;49m\u001b[38;5;241;43m*\u001b[39;49m\u001b[43mkwargs\u001b[49m\n\u001b[1;32m    200\u001b[0m \u001b[43m        \u001b[49m\u001b[43m)\u001b[49m\n\u001b[1;32m    201\u001b[0m         \u001b[38;5;28;01mif\u001b[39;00m new_arg_supported\n\u001b[1;32m    202\u001b[0m         \u001b[38;5;28;01melse\u001b[39;00m \u001b[38;5;28mself\u001b[39m\u001b[38;5;241m.\u001b[39m_generate(prompts, stop\u001b[38;5;241m=\u001b[39mstop, \u001b[38;5;241m*\u001b[39m\u001b[38;5;241m*\u001b[39mkwargs)\n\u001b[1;32m    203\u001b[0m     )\n\u001b[1;32m    204\u001b[0m \u001b[38;5;28;01mexcept\u001b[39;00m (\u001b[38;5;167;01mKeyboardInterrupt\u001b[39;00m, \u001b[38;5;167;01mException\u001b[39;00m) \u001b[38;5;28;01mas\u001b[39;00m e:\n\u001b[1;32m    205\u001b[0m     run_manager\u001b[38;5;241m.\u001b[39mon_llm_error(e)\n",
      "File \u001b[0;32m/opt/conda/lib/python3.10/site-packages/langchain/llms/base.py:498\u001b[0m, in \u001b[0;36mLLM._generate\u001b[0;34m(self, prompts, stop, run_manager, **kwargs)\u001b[0m\n\u001b[1;32m    495\u001b[0m new_arg_supported \u001b[38;5;241m=\u001b[39m inspect\u001b[38;5;241m.\u001b[39msignature(\u001b[38;5;28mself\u001b[39m\u001b[38;5;241m.\u001b[39m_call)\u001b[38;5;241m.\u001b[39mparameters\u001b[38;5;241m.\u001b[39mget(\u001b[38;5;124m\"\u001b[39m\u001b[38;5;124mrun_manager\u001b[39m\u001b[38;5;124m\"\u001b[39m)\n\u001b[1;32m    496\u001b[0m \u001b[38;5;28;01mfor\u001b[39;00m prompt \u001b[38;5;129;01min\u001b[39;00m prompts:\n\u001b[1;32m    497\u001b[0m     text \u001b[38;5;241m=\u001b[39m (\n\u001b[0;32m--> 498\u001b[0m         \u001b[38;5;28;43mself\u001b[39;49m\u001b[38;5;241;43m.\u001b[39;49m\u001b[43m_call\u001b[49m\u001b[43m(\u001b[49m\u001b[43mprompt\u001b[49m\u001b[43m,\u001b[49m\u001b[43m \u001b[49m\u001b[43mstop\u001b[49m\u001b[38;5;241;43m=\u001b[39;49m\u001b[43mstop\u001b[49m\u001b[43m,\u001b[49m\u001b[43m \u001b[49m\u001b[43mrun_manager\u001b[49m\u001b[38;5;241;43m=\u001b[39;49m\u001b[43mrun_manager\u001b[49m\u001b[43m,\u001b[49m\u001b[43m \u001b[49m\u001b[38;5;241;43m*\u001b[39;49m\u001b[38;5;241;43m*\u001b[39;49m\u001b[43mkwargs\u001b[49m\u001b[43m)\u001b[49m\n\u001b[1;32m    499\u001b[0m         \u001b[38;5;28;01mif\u001b[39;00m new_arg_supported\n\u001b[1;32m    500\u001b[0m         \u001b[38;5;28;01melse\u001b[39;00m \u001b[38;5;28mself\u001b[39m\u001b[38;5;241m.\u001b[39m_call(prompt, stop\u001b[38;5;241m=\u001b[39mstop, \u001b[38;5;241m*\u001b[39m\u001b[38;5;241m*\u001b[39mkwargs)\n\u001b[1;32m    501\u001b[0m     )\n\u001b[1;32m    502\u001b[0m     generations\u001b[38;5;241m.\u001b[39mappend([Generation(text\u001b[38;5;241m=\u001b[39mtext)])\n\u001b[1;32m    503\u001b[0m \u001b[38;5;28;01mreturn\u001b[39;00m LLMResult(generations\u001b[38;5;241m=\u001b[39mgenerations)\n",
      "File \u001b[0;32m/opt/conda/lib/python3.10/site-packages/langchain/llms/sagemaker_endpoint.py:244\u001b[0m, in \u001b[0;36mSagemakerEndpoint._call\u001b[0;34m(self, prompt, stop, run_manager, **kwargs)\u001b[0m\n\u001b[1;32m    236\u001b[0m     response \u001b[38;5;241m=\u001b[39m \u001b[38;5;28mself\u001b[39m\u001b[38;5;241m.\u001b[39mclient\u001b[38;5;241m.\u001b[39minvoke_endpoint(\n\u001b[1;32m    237\u001b[0m         EndpointName\u001b[38;5;241m=\u001b[39m\u001b[38;5;28mself\u001b[39m\u001b[38;5;241m.\u001b[39mendpoint_name,\n\u001b[1;32m    238\u001b[0m         Body\u001b[38;5;241m=\u001b[39mbody,\n\u001b[0;32m   (...)\u001b[0m\n\u001b[1;32m    241\u001b[0m         \u001b[38;5;241m*\u001b[39m\u001b[38;5;241m*\u001b[39m_endpoint_kwargs,\n\u001b[1;32m    242\u001b[0m     )\n\u001b[1;32m    243\u001b[0m \u001b[38;5;28;01mexcept\u001b[39;00m \u001b[38;5;167;01mException\u001b[39;00m \u001b[38;5;28;01mas\u001b[39;00m e:\n\u001b[0;32m--> 244\u001b[0m     \u001b[38;5;28;01mraise\u001b[39;00m \u001b[38;5;167;01mValueError\u001b[39;00m(\u001b[38;5;124mf\u001b[39m\u001b[38;5;124m\"\u001b[39m\u001b[38;5;124mError raised by inference endpoint: \u001b[39m\u001b[38;5;132;01m{\u001b[39;00me\u001b[38;5;132;01m}\u001b[39;00m\u001b[38;5;124m\"\u001b[39m)\n\u001b[1;32m    246\u001b[0m text \u001b[38;5;241m=\u001b[39m \u001b[38;5;28mself\u001b[39m\u001b[38;5;241m.\u001b[39mcontent_handler\u001b[38;5;241m.\u001b[39mtransform_output(response[\u001b[38;5;124m\"\u001b[39m\u001b[38;5;124mBody\u001b[39m\u001b[38;5;124m\"\u001b[39m])\n\u001b[1;32m    247\u001b[0m \u001b[38;5;28;01mif\u001b[39;00m stop \u001b[38;5;129;01mis\u001b[39;00m \u001b[38;5;129;01mnot\u001b[39;00m \u001b[38;5;28;01mNone\u001b[39;00m:\n\u001b[1;32m    248\u001b[0m     \u001b[38;5;66;03m# This is a bit hacky, but I can't figure out a better way to enforce\u001b[39;00m\n\u001b[1;32m    249\u001b[0m     \u001b[38;5;66;03m# stop tokens when making calls to the sagemaker endpoint.\u001b[39;00m\n",
      "\u001b[0;31mValueError\u001b[0m: Error raised by inference endpoint: An error occurred (ValidationError) when calling the InvokeEndpoint operation: Endpoint j2-jumbo-instruct of account 613305653031 not found."
     ]
    }
   ],
   "source": [
    "llm(instruction)"
   ]
  },
  {
   "cell_type": "markdown",
   "id": "9d8f3b42-6557-4152-a04f-e7bf37474551",
   "metadata": {},
   "source": [
    "#### Bedrock"
   ]
  },
  {
   "cell_type": "code",
   "execution_count": 16,
   "id": "03b5d79f-9f9d-4335-a377-dd117249460e",
   "metadata": {
    "tags": []
   },
   "outputs": [],
   "source": [
    "def create_claude_body(input_text = \"some text\", token_count = 4096, temp = 0.05, topP = 1, stop_sequences=[]):\n",
    "    body = {\n",
    "       \"prompt\": input_text,\n",
    "        \"max_tokens_to_sample\": 300,\n",
    "        \"temperature\": temp,\n",
    "        \"top_k\": 250,\n",
    "        \"top_p\":topP,\n",
    "        \"stop_sequences\":[]   \n",
    "       } \n",
    "    return body"
   ]
  },
  {
   "cell_type": "code",
   "execution_count": 17,
   "id": "9c090e97-f6f0-4b58-8c0a-e56184550427",
   "metadata": {
    "tags": []
   },
   "outputs": [],
   "source": [
    "bedrock = boto3.client('bedrock' , 'us-east-1')"
   ]
  },
  {
   "cell_type": "code",
   "execution_count": 18,
   "id": "e1a5e94a-79dd-43c5-92d6-18452f3ac303",
   "metadata": {
    "tags": []
   },
   "outputs": [],
   "source": [
    "llm = endpoint.amazon_bedrock_llm(modelId='anthropic.claude-v1', verbose=False)"
   ]
  },
  {
   "cell_type": "code",
   "execution_count": 19,
   "id": "f6f098d8-f997-4fa4-abae-a765fe1c4536",
   "metadata": {
    "tags": []
   },
   "outputs": [],
   "source": [
    "llm.model_kwargs = {\n",
    "        \"max_tokens_to_sample\": 300,\n",
    "        \"temperature\": 0.0,\n",
    "        \"top_k\": 250,\n",
    "        \"top_p\":1,\n",
    "        \"stop_sequences\":[]   \n",
    "       } "
   ]
  },
  {
   "cell_type": "code",
   "execution_count": 20,
   "id": "509a50a0-5742-4510-b156-df8552797fb3",
   "metadata": {
    "tags": []
   },
   "outputs": [],
   "source": [
    "response = llm(instruction)"
   ]
  },
  {
   "cell_type": "code",
   "execution_count": 21,
   "id": "13c525c4-3ecd-4816-8700-653014778876",
   "metadata": {
    "tags": []
   },
   "outputs": [],
   "source": [
    "query = json.loads(extract_json(\"\".join(response.split(\"2.\")[-1])))\n",
    "if query.get(\"size\", \"Not Found\") == \"Not Found\":\n",
    "    query[\"size\"] = 50\n",
    "\n",
    "if query.get(\"sort\", \"Not Found\") == \"Not Found\":\n",
    "    query[\"sort\"] = [\n",
    "        {\"rating\": {\"order\": \"desc\", \"missing\": \"_last\", \"unmapped_type\": \"long\"}}\n",
    "    ]"
   ]
  },
  {
   "cell_type": "markdown",
   "id": "8f95a5cf-361c-4898-ba5c-34d1846192bd",
   "metadata": {
    "tags": []
   },
   "source": [
    "#### Previous Code"
   ]
  },
  {
   "cell_type": "code",
   "execution_count": 20,
   "id": "3a58bed9-7f93-43f8-bfb7-26c3510bdddd",
   "metadata": {
    "tags": []
   },
   "outputs": [
    {
     "ename": "BadRequest",
     "evalue": "Failed with http status code: 400 (BadRequest). Details: Endpoint j2-jumbo-instruct of account 613305653031 not found.",
     "output_type": "error",
     "traceback": [
      "\u001b[0;31m---------------------------------------------------------------------------\u001b[0m",
      "\u001b[0;31mValidationError\u001b[0m                           Traceback (most recent call last)",
      "File \u001b[0;32m/opt/conda/lib/python3.10/site-packages/ai21/AWS_utils.py:17\u001b[0m, in \u001b[0;36minvoke_sm_endpoint\u001b[0;34m(endpoint_name, input_json)\u001b[0m\n\u001b[1;32m     16\u001b[0m \u001b[38;5;28;01mtry\u001b[39;00m:\n\u001b[0;32m---> 17\u001b[0m     response \u001b[38;5;241m=\u001b[39m \u001b[43msm_runtime\u001b[49m\u001b[38;5;241;43m.\u001b[39;49m\u001b[43minvoke_endpoint\u001b[49m\u001b[43m(\u001b[49m\n\u001b[1;32m     18\u001b[0m \u001b[43m        \u001b[49m\u001b[43mEndpointName\u001b[49m\u001b[38;5;241;43m=\u001b[39;49m\u001b[43mendpoint_name\u001b[49m\u001b[43m,\u001b[49m\n\u001b[1;32m     19\u001b[0m \u001b[43m        \u001b[49m\u001b[43mContentType\u001b[49m\u001b[38;5;241;43m=\u001b[39;49m\u001b[38;5;124;43m\"\u001b[39;49m\u001b[38;5;124;43mapplication/json\u001b[39;49m\u001b[38;5;124;43m\"\u001b[39;49m\u001b[43m,\u001b[49m\n\u001b[1;32m     20\u001b[0m \u001b[43m        \u001b[49m\u001b[43mAccept\u001b[49m\u001b[38;5;241;43m=\u001b[39;49m\u001b[38;5;124;43m\"\u001b[39;49m\u001b[38;5;124;43mapplication/json\u001b[39;49m\u001b[38;5;124;43m\"\u001b[39;49m\u001b[43m,\u001b[49m\n\u001b[1;32m     21\u001b[0m \u001b[43m        \u001b[49m\u001b[43mBody\u001b[49m\u001b[38;5;241;43m=\u001b[39;49m\u001b[43minput_json\u001b[49m\u001b[43m,\u001b[49m\n\u001b[1;32m     22\u001b[0m \u001b[43m    \u001b[49m\u001b[43m)\u001b[49m\n\u001b[1;32m     24\u001b[0m     response_body \u001b[38;5;241m=\u001b[39m json\u001b[38;5;241m.\u001b[39mload(response[\u001b[38;5;124m\"\u001b[39m\u001b[38;5;124mBody\u001b[39m\u001b[38;5;124m\"\u001b[39m])\n",
      "File \u001b[0;32m/opt/conda/lib/python3.10/site-packages/botocore/client.py:530\u001b[0m, in \u001b[0;36mClientCreator._create_api_method.<locals>._api_call\u001b[0;34m(self, *args, **kwargs)\u001b[0m\n\u001b[1;32m    529\u001b[0m \u001b[38;5;66;03m# The \"self\" in this scope is referring to the BaseClient.\u001b[39;00m\n\u001b[0;32m--> 530\u001b[0m \u001b[38;5;28;01mreturn\u001b[39;00m \u001b[38;5;28;43mself\u001b[39;49m\u001b[38;5;241;43m.\u001b[39;49m\u001b[43m_make_api_call\u001b[49m\u001b[43m(\u001b[49m\u001b[43moperation_name\u001b[49m\u001b[43m,\u001b[49m\u001b[43m \u001b[49m\u001b[43mkwargs\u001b[49m\u001b[43m)\u001b[49m\n",
      "File \u001b[0;32m/opt/conda/lib/python3.10/site-packages/botocore/client.py:964\u001b[0m, in \u001b[0;36mBaseClient._make_api_call\u001b[0;34m(self, operation_name, api_params)\u001b[0m\n\u001b[1;32m    963\u001b[0m     error_class \u001b[38;5;241m=\u001b[39m \u001b[38;5;28mself\u001b[39m\u001b[38;5;241m.\u001b[39mexceptions\u001b[38;5;241m.\u001b[39mfrom_code(error_code)\n\u001b[0;32m--> 964\u001b[0m     \u001b[38;5;28;01mraise\u001b[39;00m error_class(parsed_response, operation_name)\n\u001b[1;32m    965\u001b[0m \u001b[38;5;28;01melse\u001b[39;00m:\n",
      "\u001b[0;31mValidationError\u001b[0m: An error occurred (ValidationError) when calling the InvokeEndpoint operation: Endpoint j2-jumbo-instruct of account 613305653031 not found.",
      "\nDuring handling of the above exception, another exception occurred:\n",
      "\u001b[0;31mBadRequest\u001b[0m                                Traceback (most recent call last)",
      "Cell \u001b[0;32mIn[20], line 1\u001b[0m\n\u001b[0;32m----> 1\u001b[0m response \u001b[38;5;241m=\u001b[39m \u001b[43mai21\u001b[49m\u001b[38;5;241;43m.\u001b[39;49m\u001b[43mCompletion\u001b[49m\u001b[38;5;241;43m.\u001b[39;49m\u001b[43mexecute\u001b[49m\u001b[43m(\u001b[49m\n\u001b[1;32m      2\u001b[0m \u001b[43m        \u001b[49m\u001b[43msm_endpoint\u001b[49m\u001b[38;5;241;43m=\u001b[39;49m\u001b[38;5;124;43m\"\u001b[39;49m\u001b[38;5;124;43mj2-jumbo-instruct\u001b[39;49m\u001b[38;5;124;43m\"\u001b[39;49m\u001b[43m,\u001b[49m\n\u001b[1;32m      3\u001b[0m \u001b[43m        \u001b[49m\u001b[43mprompt\u001b[49m\u001b[38;5;241;43m=\u001b[39;49m\u001b[43minstruction\u001b[49m\u001b[43m,\u001b[49m\n\u001b[1;32m      4\u001b[0m \u001b[43m        \u001b[49m\u001b[43mmaxTokens\u001b[49m\u001b[38;5;241;43m=\u001b[39;49m\u001b[38;5;241;43m300\u001b[39;49m\u001b[43m,\u001b[49m\n\u001b[1;32m      5\u001b[0m \u001b[43m        \u001b[49m\u001b[43mtemperature\u001b[49m\u001b[38;5;241;43m=\u001b[39;49m\u001b[38;5;241;43m0.0\u001b[39;49m\u001b[43m,\u001b[49m\n\u001b[1;32m      6\u001b[0m \u001b[43m        \u001b[49m\u001b[43mnumResults\u001b[49m\u001b[38;5;241;43m=\u001b[39;49m\u001b[38;5;241;43m1\u001b[39;49m\u001b[43m,\u001b[49m\n\u001b[1;32m      7\u001b[0m \u001b[43m    \u001b[49m\u001b[43m)\u001b[49m\n\u001b[1;32m      8\u001b[0m response[\u001b[38;5;124m'\u001b[39m\u001b[38;5;124mcompletions\u001b[39m\u001b[38;5;124m'\u001b[39m][\u001b[38;5;241m0\u001b[39m][\u001b[38;5;124m'\u001b[39m\u001b[38;5;124mdata\u001b[39m\u001b[38;5;124m'\u001b[39m][\u001b[38;5;124m'\u001b[39m\u001b[38;5;124mtext\u001b[39m\u001b[38;5;124m'\u001b[39m]\n",
      "File \u001b[0;32m/opt/conda/lib/python3.10/site-packages/ai21/modules/resources/nlp_task.py:20\u001b[0m, in \u001b[0;36mNLPTask.execute\u001b[0;34m(cls, **params)\u001b[0m\n\u001b[1;32m     18\u001b[0m     \u001b[38;5;28;01mreturn\u001b[39;00m \u001b[38;5;28mcls\u001b[39m\u001b[38;5;241m.\u001b[39m_execute_bedrock_api(destination\u001b[38;5;241m=\u001b[39mdestination, params\u001b[38;5;241m=\u001b[39mparams)\n\u001b[1;32m     19\u001b[0m \u001b[38;5;28;01mif\u001b[39;00m \u001b[38;5;28misinstance\u001b[39m(destination, SageMakerDestination):\n\u001b[0;32m---> 20\u001b[0m     \u001b[38;5;28;01mreturn\u001b[39;00m \u001b[38;5;28;43mcls\u001b[39;49m\u001b[38;5;241;43m.\u001b[39;49m\u001b[43m_execute_sm\u001b[49m\u001b[43m(\u001b[49m\u001b[43mdestination\u001b[49m\u001b[38;5;241;43m=\u001b[39;49m\u001b[43mdestination\u001b[49m\u001b[43m,\u001b[49m\u001b[43m \u001b[49m\u001b[43mparams\u001b[49m\u001b[38;5;241;43m=\u001b[39;49m\u001b[43mparams\u001b[49m\u001b[43m)\u001b[49m\n\u001b[1;32m     21\u001b[0m \u001b[38;5;28;01mif\u001b[39;00m \u001b[38;5;28misinstance\u001b[39m(destination, AI21Destination):\n\u001b[1;32m     22\u001b[0m     \u001b[38;5;28;01mreturn\u001b[39;00m \u001b[38;5;28mcls\u001b[39m\u001b[38;5;241m.\u001b[39m_execute_studio_api(params)\n",
      "File \u001b[0;32m/opt/conda/lib/python3.10/site-packages/ai21/modules/completion.py:32\u001b[0m, in \u001b[0;36mCompletion._execute_sm\u001b[0;34m(cls, destination, params)\u001b[0m\n\u001b[1;32m     30\u001b[0m \u001b[38;5;129m@classmethod\u001b[39m\n\u001b[1;32m     31\u001b[0m \u001b[38;5;28;01mdef\u001b[39;00m \u001b[38;5;21m_execute_sm\u001b[39m(\u001b[38;5;28mcls\u001b[39m, destination: SageMakerDestination, params):\n\u001b[0;32m---> 32\u001b[0m     \u001b[38;5;28;01mreturn\u001b[39;00m \u001b[43mexecute_sm_request\u001b[49m\u001b[43m(\u001b[49m\n\u001b[1;32m     33\u001b[0m \u001b[43m        \u001b[49m\u001b[43mendpoint_name\u001b[49m\u001b[38;5;241;43m=\u001b[39;49m\u001b[43mdestination\u001b[49m\u001b[38;5;241;43m.\u001b[39;49m\u001b[43mendpoint_name\u001b[49m\u001b[43m,\u001b[49m\n\u001b[1;32m     34\u001b[0m \u001b[43m        \u001b[49m\u001b[43munsupported_fields\u001b[49m\u001b[38;5;241;43m=\u001b[39;49m\u001b[43m[\u001b[49m\u001b[38;5;124;43m'\u001b[39;49m\u001b[38;5;124;43mmodel\u001b[39;49m\u001b[38;5;124;43m'\u001b[39;49m\u001b[43m,\u001b[49m\u001b[43m \u001b[49m\u001b[38;5;124;43m'\u001b[39;49m\u001b[38;5;124;43mcustom_model\u001b[39;49m\u001b[38;5;124;43m'\u001b[39;49m\u001b[43m]\u001b[49m\u001b[43m,\u001b[49m\n\u001b[1;32m     35\u001b[0m \u001b[43m        \u001b[49m\u001b[43mparams\u001b[49m\u001b[38;5;241;43m=\u001b[39;49m\u001b[43mparams\u001b[49m\u001b[43m,\u001b[49m\n\u001b[1;32m     36\u001b[0m \u001b[43m    \u001b[49m\u001b[43m)\u001b[49m\n",
      "File \u001b[0;32m/opt/conda/lib/python3.10/site-packages/ai21/modules/resources/execution_utils.py:28\u001b[0m, in \u001b[0;36mexecute_sm_request\u001b[0;34m(endpoint_name, params, mandatory_fields, unsupported_fields)\u001b[0m\n\u001b[1;32m     24\u001b[0m input_json \u001b[38;5;241m=\u001b[39m json\u001b[38;5;241m.\u001b[39mdumps(params)\n\u001b[1;32m     26\u001b[0m \u001b[38;5;28;01mfrom\u001b[39;00m \u001b[38;5;21;01mai21\u001b[39;00m\u001b[38;5;21;01m.\u001b[39;00m\u001b[38;5;21;01mAWS_utils\u001b[39;00m \u001b[38;5;28;01mimport\u001b[39;00m invoke_sm_endpoint  \u001b[38;5;66;03m# import here because boto3 exists only in AWS mode\u001b[39;00m\n\u001b[0;32m---> 28\u001b[0m \u001b[38;5;28;01mreturn\u001b[39;00m \u001b[43minvoke_sm_endpoint\u001b[49m\u001b[43m(\u001b[49m\u001b[43mendpoint_name\u001b[49m\u001b[43m,\u001b[49m\u001b[43m \u001b[49m\u001b[43minput_json\u001b[49m\u001b[43m)\u001b[49m\n",
      "File \u001b[0;32m/opt/conda/lib/python3.10/site-packages/ai21/AWS_utils.py:28\u001b[0m, in \u001b[0;36minvoke_sm_endpoint\u001b[0;34m(endpoint_name, input_json)\u001b[0m\n\u001b[1;32m     26\u001b[0m     \u001b[38;5;28;01mreturn\u001b[39;00m convert_to_ai21_object(response_body)\n\u001b[1;32m     27\u001b[0m \u001b[38;5;28;01mexcept\u001b[39;00m ClientError \u001b[38;5;28;01mas\u001b[39;00m sm_client_error:\n\u001b[0;32m---> 28\u001b[0m     \u001b[43mhandle_sagemaker_client_error\u001b[49m\u001b[43m(\u001b[49m\u001b[43msm_client_error\u001b[49m\u001b[43m)\u001b[49m\n\u001b[1;32m     29\u001b[0m \u001b[38;5;28;01mexcept\u001b[39;00m \u001b[38;5;167;01mException\u001b[39;00m \u001b[38;5;28;01mas\u001b[39;00m exception:\n\u001b[1;32m     30\u001b[0m     log_error(\u001b[38;5;124mf\u001b[39m\u001b[38;5;124m'\u001b[39m\u001b[38;5;124mCalling \u001b[39m\u001b[38;5;132;01m{\u001b[39;00mendpoint_name\u001b[38;5;132;01m}\u001b[39;00m\u001b[38;5;124m failed with Exception: \u001b[39m\u001b[38;5;132;01m{\u001b[39;00mexception\u001b[38;5;132;01m}\u001b[39;00m\u001b[38;5;124m'\u001b[39m)\n",
      "File \u001b[0;32m/opt/conda/lib/python3.10/site-packages/ai21/AWS_utils.py:40\u001b[0m, in \u001b[0;36mhandle_sagemaker_client_error\u001b[0;34m(client_exception)\u001b[0m\n\u001b[1;32m     38\u001b[0m \u001b[38;5;66;03m# According to https://docs.aws.amazon.com/sagemaker/latest/APIReference/API_runtime_InvokeEndpoint.html#API_runtime_InvokeEndpoint_Errors\u001b[39;00m\n\u001b[1;32m     39\u001b[0m \u001b[38;5;28;01mif\u001b[39;00m status_code \u001b[38;5;241m==\u001b[39m \u001b[38;5;241m400\u001b[39m:\n\u001b[0;32m---> 40\u001b[0m     \u001b[38;5;28;01mraise\u001b[39;00m BadRequest(details\u001b[38;5;241m=\u001b[39merror_message)\n\u001b[1;32m     41\u001b[0m \u001b[38;5;28;01mif\u001b[39;00m status_code \u001b[38;5;241m==\u001b[39m \u001b[38;5;241m424\u001b[39m:\n\u001b[1;32m     42\u001b[0m     error_message_template \u001b[38;5;241m=\u001b[39m re\u001b[38;5;241m.\u001b[39mcompile(\n\u001b[1;32m     43\u001b[0m         \u001b[38;5;124mr\u001b[39m\u001b[38;5;124m'\u001b[39m\u001b[38;5;124mReceived client error \u001b[39m\u001b[38;5;124m\\\u001b[39m\u001b[38;5;124m((.*?)\u001b[39m\u001b[38;5;124m\\\u001b[39m\u001b[38;5;124m) from primary with message \u001b[39m\u001b[38;5;124m\\\u001b[39m\u001b[38;5;124m\"\u001b[39m\u001b[38;5;124m(.*?)\u001b[39m\u001b[38;5;124m\\\u001b[39m\u001b[38;5;124m\"\u001b[39m\u001b[38;5;124m. See .* in account .* for more information.\u001b[39m\u001b[38;5;124m'\u001b[39m)\n",
      "\u001b[0;31mBadRequest\u001b[0m: Failed with http status code: 400 (BadRequest). Details: Endpoint j2-jumbo-instruct of account 613305653031 not found."
     ]
    }
   ],
   "source": [
    "response = ai21.Completion.execute(\n",
    "        sm_endpoint=\"j2-jumbo-instruct\",\n",
    "        prompt=instruction,\n",
    "        maxTokens=300,\n",
    "        temperature=0.0,\n",
    "        numResults=1,\n",
    "    )\n",
    "response['completions'][0]['data']['text']\n"
   ]
  },
  {
   "cell_type": "code",
   "execution_count": 27,
   "id": "e35c5b8e-5a82-4556-8294-dbe17c3ba9e4",
   "metadata": {
    "tags": []
   },
   "outputs": [
    {
     "name": "stdout",
     "output_type": "stream",
     "text": [
      "{\"query\":{\"bool\":{\"must\":[{\"terms\":{\"stars.keyword\":[\"Tom Cruise\"]}}]}}, \"sort\": [{\"rating\": {\"order\": \"desc\",\"missing\":\"_last\",\"unmapped_type\" : \"long\"}}]}\n"
     ]
    }
   ],
   "source": [
    "query = response[\"completions\"][0][\"data\"][\"text\"]\n",
    "query = extract_json(\"\".join(query.split(\"2.\")[-1]))\n",
    "print(query)\n",
    "query = json.loads(query)\n",
    "\n",
    "if query.get(\"size\", \"Not Found\") == \"Not Found\":\n",
    "    query[\"size\"] = 50\n",
    "\n",
    "if query.get(\"sort\", \"Not Found\") == \"Not Found\":\n",
    "    query[\"sort\"] = [\n",
    "        {\"rating\": {\"order\": \"desc\", \"missing\": \"_last\", \"unmapped_type\": \"long\"}}\n",
    "    ]"
   ]
  },
  {
   "cell_type": "markdown",
   "id": "6de2b4e8-14e8-4c3a-b981-0838d4292d94",
   "metadata": {},
   "source": [
    "#### Example Output"
   ]
  },
  {
   "cell_type": "code",
   "execution_count": 22,
   "id": "47822e18-c514-4ea1-a148-0bfd7c7570b3",
   "metadata": {
    "tags": []
   },
   "outputs": [],
   "source": [
    "ops = initialize_ops()\n",
    "results = ops.search(index=\"imdb_small_posters\", body=query)"
   ]
  },
  {
   "cell_type": "code",
   "execution_count": 23,
   "id": "a1460493-564a-403d-9e93-79c435481077",
   "metadata": {
    "tags": []
   },
   "outputs": [],
   "source": [
    "response = [hit for hit in results[\"hits\"][\"hits\"]]"
   ]
  },
  {
   "cell_type": "code",
   "execution_count": 24,
   "id": "9e123bc0-df55-42dd-8675-7dedc7f15879",
   "metadata": {
    "tags": []
   },
   "outputs": [],
   "source": [
    "h = response[0]"
   ]
  },
  {
   "cell_type": "code",
   "execution_count": 25,
   "id": "b42ee255-3ac8-4f86-a8fb-b47778f8ec26",
   "metadata": {
    "tags": []
   },
   "outputs": [
    {
     "data": {
      "text/plain": [
       "('Rain Man',\n",
       " 'https://m.media-amazon.com/images/M/MV5BMzVjNzI4NzYtMjE4NS00M2IzLWFkOWMtOTYwMWUzN2ZlNGVjL2ltYWdlL2ltYWdlXkEyXkFqcGdeQXVyMTQxNzMzNDI@._V1_.jpg',\n",
       " 'tt0095953')"
      ]
     },
     "execution_count": 25,
     "metadata": {},
     "output_type": "execute_result"
    }
   ],
   "source": [
    "(h[\"_source\"][\"title\"], h[\"_source\"][\"poster_url\"], h[\"_id\"])"
   ]
  },
  {
   "cell_type": "markdown",
   "id": "a0e3f3f8-5a25-47ba-992f-5a41bb831ea5",
   "metadata": {},
   "source": [
    "#### Trending Content Output"
   ]
  },
  {
   "cell_type": "code",
   "execution_count": 26,
   "id": "012148bb-8977-4e0e-8260-4755a30a4b32",
   "metadata": {
    "tags": []
   },
   "outputs": [],
   "source": [
    "import requests\n",
    "\n",
    "url = f\"https://api.themoviedb.org/3/trending/all/day?api_key={api_key}\"\n",
    "# Send the API request and retrieve the response as JSON\n",
    "response = requests.get(url)\n",
    "data = response.json()"
   ]
  },
  {
   "cell_type": "code",
   "execution_count": 27,
   "id": "2218a5ba-8dd6-4154-8b60-5184a6d42274",
   "metadata": {
    "tags": []
   },
   "outputs": [],
   "source": [
    "def get_key_for_trailer(movie_id): \n",
    "    url = f\"https://api.themoviedb.org/3/movie/{movie_id}/videos?api_key={api_key}&language=en-US\"\n",
    "    response = requests.get(url)\n",
    "    data = response.json()\n",
    "    movie_list = data.get(\"results\", [])\n",
    "    # Extract the title and description of each movie\n",
    "    relevant_fields = [\n",
    "        \"name\",\n",
    "        \"key\",\n",
    "        \"site\",\n",
    "    ]\n",
    "    movies = []\n",
    "    for entry in movie_list:\n",
    "        if entry.get(\"site\") == \"YouTube\" and \"trailer\" in entry.get(\"name\").lower():\n",
    "            movies.append(\n",
    "                {key: entry[key] for key in entry if key in relevant_fields}\n",
    "            )\n",
    "    print(movies)\n",
    "    movies = movies[:1]\n",
    "    return movies"
   ]
  },
  {
   "cell_type": "code",
   "execution_count": 37,
   "id": "0ab56159-e579-4403-8bf3-eedc7378d7e3",
   "metadata": {
    "tags": []
   },
   "outputs": [
    {
     "name": "stdout",
     "output_type": "stream",
     "text": [
      "[{'name': 'Official Trailer', 'key': 'gZ3o0lTfYOs', 'site': 'YouTube'}]\n",
      "********\n",
      "[{'name': 'Official Trailer [Subtitled]', 'key': '5LvVaQPNqHU', 'site': 'YouTube'}]\n",
      "********\n",
      "[{'name': 'Voice Cast Dubs Trailer', 'key': '46spiINi3o0', 'site': 'YouTube'}, {'name': 'Trailer - \"Stronger\"', 'key': 'yFrxzaBLDQM', 'site': 'YouTube'}, {'name': 'International Trailer', 'key': 'Etv-L2JKCWk', 'site': 'YouTube'}, {'name': 'Official Trailer #2', 'key': 'shW9i6k8cB0', 'site': 'YouTube'}, {'name': 'The Spider-Verse will never be the same. New trailer arrives April 4.', 'key': 'cfUpAOknDRI', 'site': 'YouTube'}, {'name': 'Official Trailer', 'key': 'cqGjhVJWtEg', 'site': 'YouTube'}]\n",
      "********\n",
      "[{'name': 'Official Trailer', 'key': 'Y274jZs5s7s', 'site': 'YouTube'}, {'name': 'Official Teaser Trailer', 'key': 'mO0OuR26IZM', 'site': 'YouTube'}]\n",
      "********\n",
      "[{'name': 'Final Trailer', 'key': 'eoOaKN4qCKw', 'site': 'YouTube'}, {'name': 'Official Trailer 2', 'key': 'aOb15GVFZxU', 'site': 'YouTube'}, {'name': 'Official Trailer', 'key': '32RAq6JzY-w', 'site': 'YouTube'}]\n",
      "********\n",
      "[{'name': 'Official Trailer 2', 'key': 'eQfMbSe7F2g', 'site': 'YouTube'}, {'name': 'Official Trailer', 'key': 'ZfVYgWYaHmE', 'site': 'YouTube'}]\n",
      "********\n",
      "[{'name': 'Official Trailer', 'key': 'hXzcyx9V0xw', 'site': 'YouTube'}, {'name': 'Teaser Trailer', 'key': '-cT495xKvvs', 'site': 'YouTube'}]\n",
      "********\n",
      "[{'name': 'Final Trailer', 'key': 'jprhe-cWKGs', 'site': 'YouTube'}, {'name': 'Official Trailer 2', 'key': 'r51cYVZWKdY', 'site': 'YouTube'}, {'name': 'Official Trailer', 'key': 'hebWYacbdvc', 'site': 'YouTube'}]\n",
      "********\n",
      "[{'name': 'Final Trailer', 'key': 'RjNcTBXTk4I', 'site': 'YouTube'}, {'name': 'Official Trailer', 'key': 'TnGl01FkMMo', 'site': 'YouTube'}, {'name': 'Official Teaser Trailer', 'key': 'KydqdKKyGEk', 'site': 'YouTube'}]\n",
      "********\n",
      "[{'name': 'Final Trailer', 'key': 'yjRHZEUamCc', 'site': 'YouTube'}, {'name': 'Official Trailer', 'key': 'qEVUtrk8_B4', 'site': 'YouTube'}]\n",
      "********\n"
     ]
    }
   ],
   "source": [
    "for page in trending_res:\n",
    "    get_key_for_trailer(page['_id'])[0]['key']\n",
    "    print(\"********\")"
   ]
  },
  {
   "cell_type": "code",
   "execution_count": 28,
   "id": "5d34f4ae-3abf-48d7-9696-8fbc14ad50ba",
   "metadata": {
    "tags": []
   },
   "outputs": [],
   "source": [
    "video_content = (\n",
    "        f\"\"\"\n",
    "        <iframe width=\"860\" height=\"645\"\n",
    "        src=\"https://www.youtube.com/embed/{trailer_movie}\">\n",
    "        </iframe>\n",
    "        \"\"\"\n",
    "    )"
   ]
  },
  {
   "cell_type": "code",
   "execution_count": 28,
   "id": "6fed364b-e489-4cc0-a67b-965cc2ccdf39",
   "metadata": {
    "tags": []
   },
   "outputs": [
    {
     "data": {
      "text/plain": [
       "[{'_id': 455476,\n",
       "  '_source': {'id': 455476,\n",
       "   'title': 'Knights of the Zodiac',\n",
       "   'original_language': 'en',\n",
       "   'overview': 'When a headstrong street orphan, Seiya, in search of his abducted sister unwittingly taps into hidden powers, he discovers he might be the only person alive who can protect a reincarnated goddess, sent to watch over humanity. Can he let his past go and embrace his destiny to become a Knight of the Zodiac?',\n",
       "   'poster_path': '/qW4crfED8mpNDadSmMdi7ZDzhXF.jpg',\n",
       "   'release_date': '2023-04-27',\n",
       "   'genres': ['Fantasy', 'Action', 'Adventure'],\n",
       "   'poster_url': 'https://image.tmdb.org/t/p/original/qW4crfED8mpNDadSmMdi7ZDzhXF.jpg'},\n",
       "  'trailer': 'https://www.youtube.com/embed/gZ3o0lTfYOs'},\n",
       " {'_id': 988078,\n",
       "  '_source': {'id': 988078,\n",
       "   'title': 'Through My Window: Across the Sea',\n",
       "   'original_language': 'es',\n",
       "   'overview': 'After a year of long-distance, Raquel and Ares reunite on a steamy beach trip. Faced with fresh flirtations and insecurities, will their love prevail?',\n",
       "   'poster_path': '/dAyJqJ8KoglZysttC6BfVmDFQUt.jpg',\n",
       "   'release_date': '2023-06-23',\n",
       "   'genres': ['Romance', 'Drama', 'Comedy'],\n",
       "   'poster_url': 'https://image.tmdb.org/t/p/original/dAyJqJ8KoglZysttC6BfVmDFQUt.jpg'},\n",
       "  'trailer': 'https://www.youtube.com/embed/5LvVaQPNqHU'},\n",
       " {'_id': 569094,\n",
       "  '_source': {'id': 569094,\n",
       "   'title': 'Spider-Man: Across the Spider-Verse',\n",
       "   'original_language': 'en',\n",
       "   'overview': 'After reuniting with Gwen Stacy, Brooklyn’s full-time, friendly neighborhood Spider-Man is catapulted across the Multiverse, where he encounters the Spider Society, a team of Spider-People charged with protecting the Multiverse’s very existence. But when the heroes clash on how to handle a new threat, Miles finds himself pitted against the other Spiders and must set out on his own to save those he loves most.',\n",
       "   'poster_path': '/8Vt6mWEReuy4Of61Lnj5Xj704m8.jpg',\n",
       "   'release_date': '2023-05-31',\n",
       "   'genres': ['Action', 'Adventure', 'Animation', 'Science Fiction'],\n",
       "   'poster_url': 'https://image.tmdb.org/t/p/original/8Vt6mWEReuy4Of61Lnj5Xj704m8.jpg'},\n",
       "  'trailer': 'https://www.youtube.com/embed/shW9i6k8cB0'},\n",
       " {'_id': 697843,\n",
       "  '_source': {'id': 697843,\n",
       "   'title': 'Extraction 2',\n",
       "   'original_language': 'en',\n",
       "   'overview': \"Tasked with extracting a family who is at the mercy of a Georgian gangster, Tyler Rake infiltrates one of the world's deadliest prisons in order to save them. But when the extraction gets hot, and the gangster dies in the heat of battle, his equally ruthless brother tracks down Rake and his team to Sydney, in order to get revenge.\",\n",
       "   'poster_path': '/7gKI9hpEMcZUQpNgKrkDzJpbnNS.jpg',\n",
       "   'release_date': '2023-06-09',\n",
       "   'genres': ['Action', 'Thriller'],\n",
       "   'poster_url': 'https://image.tmdb.org/t/p/original/7gKI9hpEMcZUQpNgKrkDzJpbnNS.jpg'},\n",
       "  'trailer': 'https://www.youtube.com/embed/Y274jZs5s7s'},\n",
       " {'_id': 385687,\n",
       "  '_source': {'id': 385687,\n",
       "   'title': 'Fast X',\n",
       "   'original_language': 'en',\n",
       "   'overview': \"Over many missions and against impossible odds, Dom Toretto and his family have outsmarted, out-nerved and outdriven every foe in their path. Now, they confront the most lethal opponent they've ever faced: A terrifying threat emerging from the shadows of the past who's fueled by blood revenge, and who is determined to shatter this family and destroy everything—and everyone—that Dom loves, forever.\",\n",
       "   'poster_path': '/fiVW06jE7z9YnO4trhaMEdclSiC.jpg',\n",
       "   'release_date': '2023-05-17',\n",
       "   'genres': ['Action', 'Crime', 'Thriller'],\n",
       "   'poster_url': 'https://image.tmdb.org/t/p/original/fiVW06jE7z9YnO4trhaMEdclSiC.jpg'},\n",
       "  'trailer': 'https://www.youtube.com/embed/eoOaKN4qCKw'},\n",
       " {'_id': 335977,\n",
       "  '_source': {'id': 335977,\n",
       "   'title': 'Indiana Jones and the Dial of Destiny',\n",
       "   'original_language': 'en',\n",
       "   'overview': \"Finding himself in a new era, approaching retirement, Indy wrestles with fitting into a world that seems to have outgrown him. But as the tentacles of an all-too-familiar evil return in the form of an old rival, Indy must don his hat and pick up his whip once more to make sure an ancient and powerful artifact doesn't fall into the wrong hands.\",\n",
       "   'poster_path': '/Af4bXE63pVsb2FtbW8uYIyPBadD.jpg',\n",
       "   'release_date': '2023-06-28',\n",
       "   'genres': ['Adventure', 'Action'],\n",
       "   'poster_url': 'https://image.tmdb.org/t/p/original/Af4bXE63pVsb2FtbW8uYIyPBadD.jpg'},\n",
       "  'trailer': 'https://www.youtube.com/embed/eQfMbSe7F2g'},\n",
       " {'_id': 976573,\n",
       "  '_source': {'id': 976573,\n",
       "   'title': 'Elemental',\n",
       "   'original_language': 'en',\n",
       "   'overview': 'In a city where fire, water, land and air residents live together, a fiery young woman and a go-with-the-flow guy will discover something elemental: how much they have in common.',\n",
       "   'poster_path': '/8riWcADI1ekEiBguVB9vkilhiQm.jpg',\n",
       "   'release_date': '2023-06-14',\n",
       "   'genres': ['Animation', 'Comedy', 'Family', 'Fantasy', 'Romance'],\n",
       "   'poster_url': 'https://image.tmdb.org/t/p/original/8riWcADI1ekEiBguVB9vkilhiQm.jpg'},\n",
       "  'trailer': 'https://www.youtube.com/embed/hXzcyx9V0xw'},\n",
       " {'_id': 298618,\n",
       "  '_source': {'id': 298618,\n",
       "   'title': 'The Flash',\n",
       "   'original_language': 'en',\n",
       "   'overview': \"When his attempt to save his family inadvertently alters the future, Barry Allen becomes trapped in a reality in which General Zod has returned and there are no Super Heroes to turn to. In order to save the world that he is in and return to the future that he knows, Barry's only hope is to race for his life. But will making the ultimate sacrifice be enough to reset the universe?\",\n",
       "   'poster_path': '/rktDFPbfHfUbArZ6OOOKsXcv0Bm.jpg',\n",
       "   'release_date': '2023-06-13',\n",
       "   'genres': ['Science Fiction', 'Action', 'Adventure'],\n",
       "   'poster_url': 'https://image.tmdb.org/t/p/original/rktDFPbfHfUbArZ6OOOKsXcv0Bm.jpg'},\n",
       "  'trailer': 'https://www.youtube.com/embed/jprhe-cWKGs'},\n",
       " {'_id': 502356,\n",
       "  '_source': {'id': 502356,\n",
       "   'title': 'The Super Mario Bros. Movie',\n",
       "   'original_language': 'en',\n",
       "   'overview': 'While working underground to fix a water main, Brooklyn plumbers—and brothers—Mario and Luigi are transported down a mysterious pipe and wander into a magical new world. But when the brothers are separated, Mario embarks on an epic quest to find Luigi.',\n",
       "   'poster_path': '/qNBAXBIQlnOThrVvA6mA2B5ggV6.jpg',\n",
       "   'release_date': '2023-04-05',\n",
       "   'genres': ['Animation', 'Family', 'Adventure', 'Fantasy', 'Comedy'],\n",
       "   'poster_url': 'https://image.tmdb.org/t/p/original/qNBAXBIQlnOThrVvA6mA2B5ggV6.jpg'},\n",
       "  'trailer': 'https://www.youtube.com/embed/RjNcTBXTk4I'},\n",
       " {'_id': 603692,\n",
       "  '_source': {'id': 603692,\n",
       "   'title': 'John Wick: Chapter 4',\n",
       "   'original_language': 'en',\n",
       "   'overview': 'With the price on his head ever increasing, John Wick uncovers a path to defeating The High Table. But before he can earn his freedom, Wick must face off against a new enemy with powerful alliances across the globe and forces that turn old friends into foes.',\n",
       "   'poster_path': '/vZloFAK7NmvMGKE7VkF5UHaz0I.jpg',\n",
       "   'release_date': '2023-03-22',\n",
       "   'genres': ['Action', 'Thriller', 'Crime'],\n",
       "   'poster_url': 'https://image.tmdb.org/t/p/original/vZloFAK7NmvMGKE7VkF5UHaz0I.jpg'},\n",
       "  'trailer': 'https://www.youtube.com/embed/yjRHZEUamCc'}]"
      ]
     },
     "execution_count": 28,
     "metadata": {},
     "output_type": "execute_result"
    }
   ],
   "source": [
    "trending_res"
   ]
  },
  {
   "cell_type": "code",
   "execution_count": 26,
   "id": "11f48089-b18c-4e61-a50e-72e9c02e3d7c",
   "metadata": {
    "tags": []
   },
   "outputs": [],
   "source": [
    "short_response = [\n",
    "            (h[\"_source\"][\"title\"], h[\"_source\"][\"poster_url\"], h[\"_id\"])\n",
    "            for h in trending_res\n",
    "        ]"
   ]
  },
  {
   "cell_type": "code",
   "execution_count": 63,
   "id": "b9307609-a792-4f8d-b7ff-3c564c266bef",
   "metadata": {
    "tags": []
   },
   "outputs": [
    {
     "data": {
      "text/plain": [
       "[('Extraction 2',\n",
       "  'https://image.tmdb.org/t/p/original/7gKI9hpEMcZUQpNgKrkDzJpbnNS.jpg',\n",
       "  697843),\n",
       " ('The Flash',\n",
       "  'https://image.tmdb.org/t/p/original/rktDFPbfHfUbArZ6OOOKsXcv0Bm.jpg',\n",
       "  298618),\n",
       " ('Fast X',\n",
       "  'https://image.tmdb.org/t/p/original/fiVW06jE7z9YnO4trhaMEdclSiC.jpg',\n",
       "  385687),\n",
       " ('Elemental',\n",
       "  'https://image.tmdb.org/t/p/original/8riWcADI1ekEiBguVB9vkilhiQm.jpg',\n",
       "  976573),\n",
       " ('Spider-Man: Across the Spider-Verse',\n",
       "  'https://image.tmdb.org/t/p/original/8Vt6mWEReuy4Of61Lnj5Xj704m8.jpg',\n",
       "  569094),\n",
       " ('John Wick: Chapter 4',\n",
       "  'https://image.tmdb.org/t/p/original/vZloFAK7NmvMGKE7VkF5UHaz0I.jpg',\n",
       "  603692),\n",
       " ('The Machine',\n",
       "  'https://image.tmdb.org/t/p/original/x9dGI7LIOMMlFzyIBUta1svft2Y.jpg',\n",
       "  647250),\n",
       " ('The Super Mario Bros. Movie',\n",
       "  'https://image.tmdb.org/t/p/original/qNBAXBIQlnOThrVvA6mA2B5ggV6.jpg',\n",
       "  502356),\n",
       " (\"Guy Ritchie's The Covenant\",\n",
       "  'https://image.tmdb.org/t/p/original/kVG8zFFYrpyYLoHChuEeOGAd6Ru.jpg',\n",
       "  882569),\n",
       " ('Avatar: The Way of Water',\n",
       "  'https://image.tmdb.org/t/p/original/t6HIqrRAclMCA60NsSmeqe9RmNV.jpg',\n",
       "  76600)]"
      ]
     },
     "execution_count": 63,
     "metadata": {},
     "output_type": "execute_result"
    }
   ],
   "source": [
    "short_response"
   ]
  },
  {
   "cell_type": "markdown",
   "id": "7dcbaadc-f7c3-4d0a-a983-ec884647fc39",
   "metadata": {},
   "source": [
    "### Chat Bot"
   ]
  },
  {
   "cell_type": "code",
   "execution_count": 30,
   "id": "fdbbd839-af6a-4c0e-98a0-7d5d335f7eb7",
   "metadata": {
    "tags": []
   },
   "outputs": [],
   "source": [
    "from langchain.chains.question_answering import load_qa_chain\n",
    "from langchain.schema import Document"
   ]
  },
  {
   "cell_type": "code",
   "execution_count": 31,
   "id": "ec31521c-f7dd-4849-8e5c-11d336d5a51c",
   "metadata": {
    "tags": []
   },
   "outputs": [],
   "source": [
    "def describe_movie(result):\n",
    "    \"\"\"\n",
    "    Process opensearch movie metadata (and API outputs) into text description\n",
    "    \"\"\"\n",
    "    context = \"\"\n",
    "    if \"title\" in result:\n",
    "        context += f\"The name of the movie is {result['title']}, \"\n",
    "    if \"year\" in result:\n",
    "        context += f\"was shot in {result['year']}, \"\n",
    "    if \"stars\" in result:\n",
    "        context += f\"has the actors/stars {', '.join(result['stars'])}, \"\n",
    "    if \"directors\" in result:\n",
    "        context += f\"directed by {', '.join(result['directors'])}, \"\n",
    "    if \"producers\" in result:\n",
    "        context += f\"produced by {', '.join(result['producers'])}. \"\n",
    "    if \"plotLong\" in result:\n",
    "        context += f\"The plot of the movie is {result['plotLong']}. \"\n",
    "    if \"overview\" in result: \n",
    "        context += f\"The overview of the movie: {result['overview']}.\"\n",
    "    if \"location\" in result:\n",
    "        context += f\"The movie was shot in the following locations: {', '.join(set(result['location']))}. \"\n",
    "    if \"rating\" in result:\n",
    "        context += f\"It has rating of {result['rating']}. \"\n",
    "    if \"genres\" in result:\n",
    "        genres = [g for g in result['genres'] if isinstance(g, str)]\n",
    "        context += f\"The movie belongs to the genres {', '.join(genres)}\"\n",
    "\n",
    "    return context"
   ]
  },
  {
   "cell_type": "code",
   "execution_count": 33,
   "id": "e6905f54-0a6b-49ed-abfa-feaff6badc2a",
   "metadata": {
    "tags": []
   },
   "outputs": [],
   "source": [
    "page_docs = [Document(page_content=describe_movie(page['_source']), \n",
    "                     metadata={\"source\": page['_source']['title']}) for page in trending_res]"
   ]
  },
  {
   "cell_type": "code",
   "execution_count": 52,
   "id": "ebb9c8ac-9e9b-4fce-97d0-cb476bafd8f8",
   "metadata": {
    "tags": []
   },
   "outputs": [],
   "source": [
    "template = \"\"\"You are a chatbot having a conversation with a human.\n",
    "    Given the following extracted parts of a long document and a question, create a final answer.\n",
    "    The user likes Tom Cruise.  \n",
    "    {context}\n",
    "\n",
    "    {chat_history}\n",
    "    (Use only the above information to answer the question. )\n",
    "    Human: {human_input}\n",
    "    Chatbot:\"\"\"\n",
    "\n",
    "CHAT_PROMPT = PromptTemplate(\n",
    "    input_variables=[\"chat_history\", \"human_input\", \"context\"], template=template\n",
    ")"
   ]
  },
  {
   "cell_type": "code",
   "execution_count": 53,
   "id": "a0da7424-7730-4ec7-bc66-e039788919c2",
   "metadata": {
    "tags": []
   },
   "outputs": [],
   "source": [
    "memory = ConversationBufferMemory(\n",
    "        memory_key=\"chat_history\", input_key=\"human_input\"\n",
    "    )\n",
    "chat_model = load_qa_chain(\n",
    "    llm, chain_type=\"stuff\", memory=memory, verbose=False, prompt=CHAT_PROMPT\n",
    ")"
   ]
  },
  {
   "cell_type": "code",
   "execution_count": 54,
   "id": "33291358-f964-4c1c-a7b0-07737c6b99f5",
   "metadata": {},
   "outputs": [],
   "source": [
    "user_input = \"What are some trending movies that you could recommend me?\""
   ]
  },
  {
   "cell_type": "code",
   "execution_count": 55,
   "id": "8b9809bd-ea90-4e7b-ad81-08718faaa7d4",
   "metadata": {
    "tags": []
   },
   "outputs": [],
   "source": [
    "res = chat_model({\"input_documents\": page_docs, \"human_input\": user_input},\n",
    "            return_only_outputs=True)"
   ]
  },
  {
   "cell_type": "code",
   "execution_count": 58,
   "id": "35034449-dc2c-4d05-8c67-f2225cd85f74",
   "metadata": {
    "tags": []
   },
   "outputs": [
    {
     "data": {
      "text/plain": [
       "[Document(page_content=\"The name of the movie is Extraction 2, The overview of the movie: Tasked with extracting a family who is at the mercy of a Georgian gangster, Tyler Rake infiltrates one of the world's deadliest prisons in order to save them. But when the extraction gets hot, and the gangster dies in the heat of battle, his equally ruthless brother tracks down Rake and his team to Sydney, in order to get revenge..The movie belongs to the genres Action, Thriller\", metadata={'source': 'Extraction 2'}),\n",
       " Document(page_content=\"The name of the movie is The Flash, The overview of the movie: When his attempt to save his family inadvertently alters the future, Barry Allen becomes trapped in a reality in which General Zod has returned and there are no Super Heroes to turn to. In order to save the world that he is in and return to the future that he knows, Barry's only hope is to race for his life. But will making the ultimate sacrifice be enough to reset the universe?.The movie belongs to the genres Science Fiction, Action, Adventure\", metadata={'source': 'The Flash'}),\n",
       " Document(page_content=\"The name of the movie is Fast X, The overview of the movie: Over many missions and against impossible odds, Dom Toretto and his family have outsmarted, out-nerved and outdriven every foe in their path. Now, they confront the most lethal opponent they've ever faced: A terrifying threat emerging from the shadows of the past who's fueled by blood revenge, and who is determined to shatter this family and destroy everything—and everyone—that Dom loves, forever..The movie belongs to the genres Action, Crime, Thriller\", metadata={'source': 'Fast X'}),\n",
       " Document(page_content='The name of the movie is Elemental, The overview of the movie: In a city where fire, water, land and air residents live together, a fiery young woman and a go-with-the-flow guy will discover something elemental: how much they have in common..The movie belongs to the genres Animation, Comedy, Family, Fantasy, Romance', metadata={'source': 'Elemental'}),\n",
       " Document(page_content='The name of the movie is Spider-Man: Across the Spider-Verse, The overview of the movie: After reuniting with Gwen Stacy, Brooklyn’s full-time, friendly neighborhood Spider-Man is catapulted across the Multiverse, where he encounters the Spider Society, a team of Spider-People charged with protecting the Multiverse’s very existence. But when the heroes clash on how to handle a new threat, Miles finds himself pitted against the other Spiders and must set out on his own to save those he loves most..The movie belongs to the genres Action, Adventure, Animation, Science Fiction', metadata={'source': 'Spider-Man: Across the Spider-Verse'}),\n",
       " Document(page_content='The name of the movie is John Wick: Chapter 4, The overview of the movie: With the price on his head ever increasing, John Wick uncovers a path to defeating The High Table. But before he can earn his freedom, Wick must face off against a new enemy with powerful alliances across the globe and forces that turn old friends into foes..The movie belongs to the genres Action, Thriller, Crime', metadata={'source': 'John Wick: Chapter 4'}),\n",
       " Document(page_content='The name of the movie is The Machine, The overview of the movie: Bert Kreischer faces a familial crisis and the arrival of his estranged father when the ghost of his booze-soaked past arrives: a murderous mobster hellbent on kidnapping Bert back to the motherland to atone for his crimes. Together, he and his father must retrace the steps of his younger self in the midst of a war between a sociopathic crime family while they attempt to find common ground..The movie belongs to the genres Comedy, Action, Crime', metadata={'source': 'The Machine'}),\n",
       " Document(page_content='The name of the movie is The Super Mario Bros. Movie, The overview of the movie: While working underground to fix a water main, Brooklyn plumbers—and brothers—Mario and Luigi are transported down a mysterious pipe and wander into a magical new world. But when the brothers are separated, Mario embarks on an epic quest to find Luigi..The movie belongs to the genres Animation, Family, Adventure, Fantasy, Comedy', metadata={'source': 'The Super Mario Bros. Movie'}),\n",
       " Document(page_content=\"The name of the movie is Guy Ritchie's The Covenant, The overview of the movie: During the war in Afghanistan, a local interpreter risks his own life to carry an injured sergeant across miles of grueling terrain..The movie belongs to the genres War, Action, Thriller\", metadata={'source': \"Guy Ritchie's The Covenant\"}),\n",
       " Document(page_content='The name of the movie is Avatar: The Way of Water, The overview of the movie: Set more than a decade after the events of the first film, learn the story of the Sully family (Jake, Neytiri, and their kids), the trouble that follows them, the lengths they go to keep each other safe, the battles they fight to stay alive, and the tragedies they endure..The movie belongs to the genres Science Fiction, Adventure, Action', metadata={'source': 'Avatar: The Way of Water'})]"
      ]
     },
     "execution_count": 58,
     "metadata": {},
     "output_type": "execute_result"
    }
   ],
   "source": [
    "page_docs"
   ]
  },
  {
   "cell_type": "code",
   "execution_count": 56,
   "id": "5b03caa1-0b35-4af3-b581-f3b9dbd799bd",
   "metadata": {},
   "outputs": [
    {
     "name": "stdout",
     "output_type": "stream",
     "text": [
      " Here are some trending movies I can recommend based on the information provided:\n",
      "\n",
      "- Avatar: The Way of Water (Science Fiction, Adventure, Action)\n",
      "- Spider-Man: Across the Spider-Verse (Action, Adventure, Animation, Science Fiction) \n",
      "- John Wick: Chapter 4 (Action, Thriller, Crime)\n",
      "- The Super Mario Bros. Movie (Animation, Family, Adventure, Fantasy, Comedy)\n",
      "- Guy Ritchie's The Covenant (War, Action, Thriller)\n",
      "\n",
      "These seem to be upcoming movies in popular franchises like Avatar, Spider-Man, John Wick, Super Mario Bros, etc. So they should make for good trending and recommended movies to watch.\n"
     ]
    }
   ],
   "source": [
    "print(res['output_text'])"
   ]
  },
  {
   "cell_type": "code",
   "execution_count": null,
   "id": "0bf11751-09df-47eb-b43a-1d35ea745c48",
   "metadata": {},
   "outputs": [],
   "source": []
  }
 ],
 "metadata": {
  "availableInstances": [
   {
    "_defaultOrder": 0,
    "_isFastLaunch": true,
    "category": "General purpose",
    "gpuNum": 0,
    "hideHardwareSpecs": false,
    "memoryGiB": 4,
    "name": "ml.t3.medium",
    "vcpuNum": 2
   },
   {
    "_defaultOrder": 1,
    "_isFastLaunch": false,
    "category": "General purpose",
    "gpuNum": 0,
    "hideHardwareSpecs": false,
    "memoryGiB": 8,
    "name": "ml.t3.large",
    "vcpuNum": 2
   },
   {
    "_defaultOrder": 2,
    "_isFastLaunch": false,
    "category": "General purpose",
    "gpuNum": 0,
    "hideHardwareSpecs": false,
    "memoryGiB": 16,
    "name": "ml.t3.xlarge",
    "vcpuNum": 4
   },
   {
    "_defaultOrder": 3,
    "_isFastLaunch": false,
    "category": "General purpose",
    "gpuNum": 0,
    "hideHardwareSpecs": false,
    "memoryGiB": 32,
    "name": "ml.t3.2xlarge",
    "vcpuNum": 8
   },
   {
    "_defaultOrder": 4,
    "_isFastLaunch": true,
    "category": "General purpose",
    "gpuNum": 0,
    "hideHardwareSpecs": false,
    "memoryGiB": 8,
    "name": "ml.m5.large",
    "vcpuNum": 2
   },
   {
    "_defaultOrder": 5,
    "_isFastLaunch": false,
    "category": "General purpose",
    "gpuNum": 0,
    "hideHardwareSpecs": false,
    "memoryGiB": 16,
    "name": "ml.m5.xlarge",
    "vcpuNum": 4
   },
   {
    "_defaultOrder": 6,
    "_isFastLaunch": false,
    "category": "General purpose",
    "gpuNum": 0,
    "hideHardwareSpecs": false,
    "memoryGiB": 32,
    "name": "ml.m5.2xlarge",
    "vcpuNum": 8
   },
   {
    "_defaultOrder": 7,
    "_isFastLaunch": false,
    "category": "General purpose",
    "gpuNum": 0,
    "hideHardwareSpecs": false,
    "memoryGiB": 64,
    "name": "ml.m5.4xlarge",
    "vcpuNum": 16
   },
   {
    "_defaultOrder": 8,
    "_isFastLaunch": false,
    "category": "General purpose",
    "gpuNum": 0,
    "hideHardwareSpecs": false,
    "memoryGiB": 128,
    "name": "ml.m5.8xlarge",
    "vcpuNum": 32
   },
   {
    "_defaultOrder": 9,
    "_isFastLaunch": false,
    "category": "General purpose",
    "gpuNum": 0,
    "hideHardwareSpecs": false,
    "memoryGiB": 192,
    "name": "ml.m5.12xlarge",
    "vcpuNum": 48
   },
   {
    "_defaultOrder": 10,
    "_isFastLaunch": false,
    "category": "General purpose",
    "gpuNum": 0,
    "hideHardwareSpecs": false,
    "memoryGiB": 256,
    "name": "ml.m5.16xlarge",
    "vcpuNum": 64
   },
   {
    "_defaultOrder": 11,
    "_isFastLaunch": false,
    "category": "General purpose",
    "gpuNum": 0,
    "hideHardwareSpecs": false,
    "memoryGiB": 384,
    "name": "ml.m5.24xlarge",
    "vcpuNum": 96
   },
   {
    "_defaultOrder": 12,
    "_isFastLaunch": false,
    "category": "General purpose",
    "gpuNum": 0,
    "hideHardwareSpecs": false,
    "memoryGiB": 8,
    "name": "ml.m5d.large",
    "vcpuNum": 2
   },
   {
    "_defaultOrder": 13,
    "_isFastLaunch": false,
    "category": "General purpose",
    "gpuNum": 0,
    "hideHardwareSpecs": false,
    "memoryGiB": 16,
    "name": "ml.m5d.xlarge",
    "vcpuNum": 4
   },
   {
    "_defaultOrder": 14,
    "_isFastLaunch": false,
    "category": "General purpose",
    "gpuNum": 0,
    "hideHardwareSpecs": false,
    "memoryGiB": 32,
    "name": "ml.m5d.2xlarge",
    "vcpuNum": 8
   },
   {
    "_defaultOrder": 15,
    "_isFastLaunch": false,
    "category": "General purpose",
    "gpuNum": 0,
    "hideHardwareSpecs": false,
    "memoryGiB": 64,
    "name": "ml.m5d.4xlarge",
    "vcpuNum": 16
   },
   {
    "_defaultOrder": 16,
    "_isFastLaunch": false,
    "category": "General purpose",
    "gpuNum": 0,
    "hideHardwareSpecs": false,
    "memoryGiB": 128,
    "name": "ml.m5d.8xlarge",
    "vcpuNum": 32
   },
   {
    "_defaultOrder": 17,
    "_isFastLaunch": false,
    "category": "General purpose",
    "gpuNum": 0,
    "hideHardwareSpecs": false,
    "memoryGiB": 192,
    "name": "ml.m5d.12xlarge",
    "vcpuNum": 48
   },
   {
    "_defaultOrder": 18,
    "_isFastLaunch": false,
    "category": "General purpose",
    "gpuNum": 0,
    "hideHardwareSpecs": false,
    "memoryGiB": 256,
    "name": "ml.m5d.16xlarge",
    "vcpuNum": 64
   },
   {
    "_defaultOrder": 19,
    "_isFastLaunch": false,
    "category": "General purpose",
    "gpuNum": 0,
    "hideHardwareSpecs": false,
    "memoryGiB": 384,
    "name": "ml.m5d.24xlarge",
    "vcpuNum": 96
   },
   {
    "_defaultOrder": 20,
    "_isFastLaunch": false,
    "category": "General purpose",
    "gpuNum": 0,
    "hideHardwareSpecs": true,
    "memoryGiB": 0,
    "name": "ml.geospatial.interactive",
    "supportedImageNames": [
     "sagemaker-geospatial-v1-0"
    ],
    "vcpuNum": 0
   },
   {
    "_defaultOrder": 21,
    "_isFastLaunch": true,
    "category": "Compute optimized",
    "gpuNum": 0,
    "hideHardwareSpecs": false,
    "memoryGiB": 4,
    "name": "ml.c5.large",
    "vcpuNum": 2
   },
   {
    "_defaultOrder": 22,
    "_isFastLaunch": false,
    "category": "Compute optimized",
    "gpuNum": 0,
    "hideHardwareSpecs": false,
    "memoryGiB": 8,
    "name": "ml.c5.xlarge",
    "vcpuNum": 4
   },
   {
    "_defaultOrder": 23,
    "_isFastLaunch": false,
    "category": "Compute optimized",
    "gpuNum": 0,
    "hideHardwareSpecs": false,
    "memoryGiB": 16,
    "name": "ml.c5.2xlarge",
    "vcpuNum": 8
   },
   {
    "_defaultOrder": 24,
    "_isFastLaunch": false,
    "category": "Compute optimized",
    "gpuNum": 0,
    "hideHardwareSpecs": false,
    "memoryGiB": 32,
    "name": "ml.c5.4xlarge",
    "vcpuNum": 16
   },
   {
    "_defaultOrder": 25,
    "_isFastLaunch": false,
    "category": "Compute optimized",
    "gpuNum": 0,
    "hideHardwareSpecs": false,
    "memoryGiB": 72,
    "name": "ml.c5.9xlarge",
    "vcpuNum": 36
   },
   {
    "_defaultOrder": 26,
    "_isFastLaunch": false,
    "category": "Compute optimized",
    "gpuNum": 0,
    "hideHardwareSpecs": false,
    "memoryGiB": 96,
    "name": "ml.c5.12xlarge",
    "vcpuNum": 48
   },
   {
    "_defaultOrder": 27,
    "_isFastLaunch": false,
    "category": "Compute optimized",
    "gpuNum": 0,
    "hideHardwareSpecs": false,
    "memoryGiB": 144,
    "name": "ml.c5.18xlarge",
    "vcpuNum": 72
   },
   {
    "_defaultOrder": 28,
    "_isFastLaunch": false,
    "category": "Compute optimized",
    "gpuNum": 0,
    "hideHardwareSpecs": false,
    "memoryGiB": 192,
    "name": "ml.c5.24xlarge",
    "vcpuNum": 96
   },
   {
    "_defaultOrder": 29,
    "_isFastLaunch": true,
    "category": "Accelerated computing",
    "gpuNum": 1,
    "hideHardwareSpecs": false,
    "memoryGiB": 16,
    "name": "ml.g4dn.xlarge",
    "vcpuNum": 4
   },
   {
    "_defaultOrder": 30,
    "_isFastLaunch": false,
    "category": "Accelerated computing",
    "gpuNum": 1,
    "hideHardwareSpecs": false,
    "memoryGiB": 32,
    "name": "ml.g4dn.2xlarge",
    "vcpuNum": 8
   },
   {
    "_defaultOrder": 31,
    "_isFastLaunch": false,
    "category": "Accelerated computing",
    "gpuNum": 1,
    "hideHardwareSpecs": false,
    "memoryGiB": 64,
    "name": "ml.g4dn.4xlarge",
    "vcpuNum": 16
   },
   {
    "_defaultOrder": 32,
    "_isFastLaunch": false,
    "category": "Accelerated computing",
    "gpuNum": 1,
    "hideHardwareSpecs": false,
    "memoryGiB": 128,
    "name": "ml.g4dn.8xlarge",
    "vcpuNum": 32
   },
   {
    "_defaultOrder": 33,
    "_isFastLaunch": false,
    "category": "Accelerated computing",
    "gpuNum": 4,
    "hideHardwareSpecs": false,
    "memoryGiB": 192,
    "name": "ml.g4dn.12xlarge",
    "vcpuNum": 48
   },
   {
    "_defaultOrder": 34,
    "_isFastLaunch": false,
    "category": "Accelerated computing",
    "gpuNum": 1,
    "hideHardwareSpecs": false,
    "memoryGiB": 256,
    "name": "ml.g4dn.16xlarge",
    "vcpuNum": 64
   },
   {
    "_defaultOrder": 35,
    "_isFastLaunch": false,
    "category": "Accelerated computing",
    "gpuNum": 1,
    "hideHardwareSpecs": false,
    "memoryGiB": 61,
    "name": "ml.p3.2xlarge",
    "vcpuNum": 8
   },
   {
    "_defaultOrder": 36,
    "_isFastLaunch": false,
    "category": "Accelerated computing",
    "gpuNum": 4,
    "hideHardwareSpecs": false,
    "memoryGiB": 244,
    "name": "ml.p3.8xlarge",
    "vcpuNum": 32
   },
   {
    "_defaultOrder": 37,
    "_isFastLaunch": false,
    "category": "Accelerated computing",
    "gpuNum": 8,
    "hideHardwareSpecs": false,
    "memoryGiB": 488,
    "name": "ml.p3.16xlarge",
    "vcpuNum": 64
   },
   {
    "_defaultOrder": 38,
    "_isFastLaunch": false,
    "category": "Accelerated computing",
    "gpuNum": 8,
    "hideHardwareSpecs": false,
    "memoryGiB": 768,
    "name": "ml.p3dn.24xlarge",
    "vcpuNum": 96
   },
   {
    "_defaultOrder": 39,
    "_isFastLaunch": false,
    "category": "Memory Optimized",
    "gpuNum": 0,
    "hideHardwareSpecs": false,
    "memoryGiB": 16,
    "name": "ml.r5.large",
    "vcpuNum": 2
   },
   {
    "_defaultOrder": 40,
    "_isFastLaunch": false,
    "category": "Memory Optimized",
    "gpuNum": 0,
    "hideHardwareSpecs": false,
    "memoryGiB": 32,
    "name": "ml.r5.xlarge",
    "vcpuNum": 4
   },
   {
    "_defaultOrder": 41,
    "_isFastLaunch": false,
    "category": "Memory Optimized",
    "gpuNum": 0,
    "hideHardwareSpecs": false,
    "memoryGiB": 64,
    "name": "ml.r5.2xlarge",
    "vcpuNum": 8
   },
   {
    "_defaultOrder": 42,
    "_isFastLaunch": false,
    "category": "Memory Optimized",
    "gpuNum": 0,
    "hideHardwareSpecs": false,
    "memoryGiB": 128,
    "name": "ml.r5.4xlarge",
    "vcpuNum": 16
   },
   {
    "_defaultOrder": 43,
    "_isFastLaunch": false,
    "category": "Memory Optimized",
    "gpuNum": 0,
    "hideHardwareSpecs": false,
    "memoryGiB": 256,
    "name": "ml.r5.8xlarge",
    "vcpuNum": 32
   },
   {
    "_defaultOrder": 44,
    "_isFastLaunch": false,
    "category": "Memory Optimized",
    "gpuNum": 0,
    "hideHardwareSpecs": false,
    "memoryGiB": 384,
    "name": "ml.r5.12xlarge",
    "vcpuNum": 48
   },
   {
    "_defaultOrder": 45,
    "_isFastLaunch": false,
    "category": "Memory Optimized",
    "gpuNum": 0,
    "hideHardwareSpecs": false,
    "memoryGiB": 512,
    "name": "ml.r5.16xlarge",
    "vcpuNum": 64
   },
   {
    "_defaultOrder": 46,
    "_isFastLaunch": false,
    "category": "Memory Optimized",
    "gpuNum": 0,
    "hideHardwareSpecs": false,
    "memoryGiB": 768,
    "name": "ml.r5.24xlarge",
    "vcpuNum": 96
   },
   {
    "_defaultOrder": 47,
    "_isFastLaunch": false,
    "category": "Accelerated computing",
    "gpuNum": 1,
    "hideHardwareSpecs": false,
    "memoryGiB": 16,
    "name": "ml.g5.xlarge",
    "vcpuNum": 4
   },
   {
    "_defaultOrder": 48,
    "_isFastLaunch": false,
    "category": "Accelerated computing",
    "gpuNum": 1,
    "hideHardwareSpecs": false,
    "memoryGiB": 32,
    "name": "ml.g5.2xlarge",
    "vcpuNum": 8
   },
   {
    "_defaultOrder": 49,
    "_isFastLaunch": false,
    "category": "Accelerated computing",
    "gpuNum": 1,
    "hideHardwareSpecs": false,
    "memoryGiB": 64,
    "name": "ml.g5.4xlarge",
    "vcpuNum": 16
   },
   {
    "_defaultOrder": 50,
    "_isFastLaunch": false,
    "category": "Accelerated computing",
    "gpuNum": 1,
    "hideHardwareSpecs": false,
    "memoryGiB": 128,
    "name": "ml.g5.8xlarge",
    "vcpuNum": 32
   },
   {
    "_defaultOrder": 51,
    "_isFastLaunch": false,
    "category": "Accelerated computing",
    "gpuNum": 1,
    "hideHardwareSpecs": false,
    "memoryGiB": 256,
    "name": "ml.g5.16xlarge",
    "vcpuNum": 64
   },
   {
    "_defaultOrder": 52,
    "_isFastLaunch": false,
    "category": "Accelerated computing",
    "gpuNum": 4,
    "hideHardwareSpecs": false,
    "memoryGiB": 192,
    "name": "ml.g5.12xlarge",
    "vcpuNum": 48
   },
   {
    "_defaultOrder": 53,
    "_isFastLaunch": false,
    "category": "Accelerated computing",
    "gpuNum": 4,
    "hideHardwareSpecs": false,
    "memoryGiB": 384,
    "name": "ml.g5.24xlarge",
    "vcpuNum": 96
   },
   {
    "_defaultOrder": 54,
    "_isFastLaunch": false,
    "category": "Accelerated computing",
    "gpuNum": 8,
    "hideHardwareSpecs": false,
    "memoryGiB": 768,
    "name": "ml.g5.48xlarge",
    "vcpuNum": 192
   },
   {
    "_defaultOrder": 55,
    "_isFastLaunch": false,
    "category": "Accelerated computing",
    "gpuNum": 8,
    "hideHardwareSpecs": false,
    "memoryGiB": 1152,
    "name": "ml.p4d.24xlarge",
    "vcpuNum": 96
   },
   {
    "_defaultOrder": 56,
    "_isFastLaunch": false,
    "category": "Accelerated computing",
    "gpuNum": 8,
    "hideHardwareSpecs": false,
    "memoryGiB": 1152,
    "name": "ml.p4de.24xlarge",
    "vcpuNum": 96
   }
  ],
  "instance_type": "ml.t3.medium",
  "kernelspec": {
   "display_name": "Python 3 (Data Science 3.0)",
   "language": "python",
   "name": "python3__SAGEMAKER_INTERNAL__arn:aws:sagemaker:us-east-1:081325390199:image/sagemaker-data-science-310-v1"
  },
  "language_info": {
   "codemirror_mode": {
    "name": "ipython",
    "version": 3
   },
   "file_extension": ".py",
   "mimetype": "text/x-python",
   "name": "python",
   "nbconvert_exporter": "python",
   "pygments_lexer": "ipython3",
   "version": "3.10.6"
  }
 },
 "nbformat": 4,
 "nbformat_minor": 5
}
