{
 "cells": [
  {
   "cell_type": "markdown",
   "id": "53d692d3",
   "metadata": {},
   "source": [
    "# Chat Functionality"
   ]
  },
  {
   "cell_type": "markdown",
   "id": "3d0edeb7",
   "metadata": {},
   "source": [
    "This notebook exists for the user to test out chat functionalities using the IMDB dataset stored in Opensearch. "
   ]
  },
  {
   "cell_type": "code",
   "execution_count": 1,
   "id": "f44700c8",
   "metadata": {},
   "outputs": [],
   "source": [
    "import sys\n",
    "sys.path.append(\"../src/\")\n",
    "\n",
    "import yaml\n",
    "import langchain_qa_chat\n",
    "import utils_text\n",
    "import requests\n",
    "from prompt import QA_PROMPT, get_instruction\n",
    "\n",
    "with open('config.yml', 'r') as file:\n",
    "    config = yaml.safe_load(file)\n",
    "from langchain.chains.qa_with_sources import load_qa_with_sources_chain\n",
    "from langchain.schema import Document\n",
    "from langchain.chains.question_answering import load_qa_chain\n",
    "from langchain.prompts import PromptTemplate"
   ]
  },
  {
   "cell_type": "code",
   "execution_count": 2,
   "id": "ea843f17",
   "metadata": {},
   "outputs": [],
   "source": [
    "from langchain.chains.question_answering import load_qa_chain\n",
    "from langchain.chains import LLMChain\n",
    "from langchain.chains import ConversationChain\n",
    "from langchain.memory import ConversationBufferMemory"
   ]
  },
  {
   "cell_type": "markdown",
   "id": "e0ab93f9",
   "metadata": {},
   "source": [
    "### llm-1"
   ]
  },
  {
   "cell_type": "markdown",
   "id": "f0c95ae8",
   "metadata": {},
   "source": [
    "Helper functions are initialized."
   ]
  },
  {
   "cell_type": "code",
   "execution_count": 3,
   "id": "1c3dc3ea",
   "metadata": {},
   "outputs": [],
   "source": [
    "def create_qa_chain(model, verbose=False):\n",
    "    \"\"\"\n",
    "    Create a question answering chain from langchain using an llm chosen by the user. \n",
    "    Args: \n",
    "        model(str): llm model type\n",
    "        verbose(boolean): whether to have the model show its full output\n",
    "    Returns: \n",
    "        langchain QA chain\n",
    "    \"\"\"\n",
    "    if model == 'FLAN-T5-XXL':\n",
    "        llm = langchain_qa_chat.sagemaker_endpoint(config['llm']['t5_endpoint'])\n",
    "    elif model == 'Bedrock':\n",
    "        llm = langchain_qa_chat.amazon_bedrock_llm(verbose=verbose)\n",
    "    elif model == \"Text2Text\":\n",
    "        llm = langchain_qa_chat.text2text_llm()\n",
    "    elif model == 'Jurassic-Jumbo-Instruct':\n",
    "        llm = langchain_qa_chat.sagemaker_endpoint_ai21(config['llm']['ai21_instruct'])\n",
    "    else:\n",
    "        assert False\n",
    "    print('Make QA chain for', model)\n",
    "    return langchain_qa_chat.chain_qa(llm, verbose=verbose,prompt=QA_PROMPT)"
   ]
  },
  {
   "cell_type": "code",
   "execution_count": 4,
   "id": "cc61ac59",
   "metadata": {},
   "outputs": [],
   "source": [
    "def describe_movie(result):\n",
    "    \"\"\"\n",
    "    Add to context the results of the queried movie\n",
    "    Args: \n",
    "        result(dict): information about the particular movie\n",
    "    Returns: \n",
    "        Added context sent to the LLM\n",
    "    \"\"\"\n",
    "    context = \"\"\n",
    "    if 'title' in result:\n",
    "        context+=f\"The name of the movie is {result['title']}, \"\n",
    "    if 'year' in result:\n",
    "        context+=f\"was shot in {result['year']}, \"\n",
    "    if 'stars' in result:\n",
    "        context+=f\"has the actors/stars {', '.join(result['stars'])}, \"\n",
    "    if 'directors' in result:\n",
    "        context+=f\"directed by {', '.join(result['directors'])}, \"\n",
    "    if 'producers' in result:\n",
    "        context+=f\"produced by {', '.join(result['producers'])}. \"\n",
    "    if 'plotLong' in result:\n",
    "        context+=f\"The plot of the movie is {result['plotLong']}. \"   \n",
    "    if 'location' in result:\n",
    "        context+=f\"The movie was shot in the following locations: {', '.join(set(result['location']))}. \"   \n",
    "    if 'rating' in result:\n",
    "        context+=f\"It has rating of {result['rating']}. \"   \n",
    "    if 'location' in result:\n",
    "        context+=f\"The movie belongs to the genres {', '.join(result['genres'])}\"\n",
    "    \n",
    "    return context\n",
    "\n",
    "def get_docs(response, topk=5):\n",
    "    \"\"\"\n",
    "    Obtain documents with given response and context\n",
    "    Args: \n",
    "        response(List(Dict)): list of information about movies\n",
    "        topk(int): how many elements in response to analyze\n",
    "    Returns: \n",
    "        List(Langchain Documents)\n",
    "    \"\"\"\n",
    "    docs = [\n",
    "                    Document(\n",
    "                        page_content=describe_movie(resp['_source']),\n",
    "                        metadata={'source':resp['_source']['title']}\n",
    "                    )\n",
    "                for resp in response[0:topk]\n",
    "            ]\n",
    "    return docs"
   ]
  },
  {
   "cell_type": "code",
   "execution_count": 5,
   "id": "bc9c9666",
   "metadata": {},
   "outputs": [],
   "source": [
    "def os_results(chain, query):\n",
    "    store = \"CUSTOM\"\n",
    "    k = 5\n",
    "    os_query_type = \"With LLM to form query\"\n",
    "    response = langchain_qa_chat.search_and_answer(store, query, k=k, task=os_query_type)\n",
    "    return [hit for hit in response['response'][\"hits\"][\"hits\"]]"
   ]
  },
  {
   "cell_type": "markdown",
   "id": "aff8d1b4",
   "metadata": {},
   "source": [
    "Analyze results of a Jurassic Jumbo Instruct model. You can input it any other LLM models to test their results."
   ]
  },
  {
   "cell_type": "code",
   "execution_count": 7,
   "id": "db128858",
   "metadata": {
    "scrolled": true
   },
   "outputs": [
    {
     "name": "stdout",
     "output_type": "stream",
     "text": [
      "Make QA chain for Jurassic-Jumbo-Instruct\n",
      "Search and Answer\n",
      "Instruction: There are eight columns with names given in double quotes \"title\" for movies, \"stars\" for actors, \"rating\", \"directors\", \"producers\", \"keywords\", \"location\" and \"genres\" in \\\n",
      "    the opensearch/elasticsearch cluster. The columns \"stars\", \"director\", \"keywords\" and \"producer\" have arrays so use Terms query otherwise use term query. Use size 15 for all queries unless stated. For columns stars, directors, producers,location use `<column_name>.keyword` in the query instead of column_name.  Use `Terms` query for columns stars, directors, genres, producers and location. If you use `bool` query, check inside the terms query for columns stars, directors, genres, producers and location inside the bool.\n",
      "   \n",
      "    Use the following query template to answer the question below. There can be multiple Term or Terms queries inside the \"must\" array\n",
      "    {\"query\":{\"bool\":{\"must\":[{\"terms\":{\"<column>.keyword\":[\"<entity>\"] }}]}}, \"sort\": [{\"rating\": {\"order\": \"desc\",\"missing\":\"_last\",\"unmapped_type\" : \"long\"}}]}\n",
      "    \n",
      "    If there are multiple entities in the question use a separate dict in the must clause for each entity. For example, \n",
      "    {\"query\":{\"bool\":{\"must\":[{\"terms\":{\"<column>.keyword\":[\"<entity1>\"]}},{\"terms\":{\"<column>.keyword\":[\"<entity2>\"]}}]}}, \"sort\": [{\"rating\": {\"order\": \"desc\",\"missing\":\"_last\",\"unmapped_type\" : \"long\"}}]}\n",
      "    \n",
      "    For example, the query would be {\"query\":{\"bool\":{\"must\":[{\"terms\":{\"stars.keyword\":[\"Tom Cruise\"]}},{\"terms\":{\"stars.keyword\":[\"Nicole Kidman\"]}}]}}}\n",
      "\n",
      "    For the question given below, use the query do the following\n",
      "    1. Extract the entities from the question and map each entity to columns \"stars\",\"directors\", \"producers, \"keywords\" and \"genres\"\n",
      "    2. Form a query to answer the following question in double quotes based on the query template above and no other information. \"must\" clause inside the query with arrays must have a single entity only.\n",
      "\n",
      "    \"Movies shot in location New York with keyword christmas?\"\n",
      "\n",
      "    Show what you have deduced in each step\n",
      "    Answer:\n",
      "    \n",
      "PreQuery: 1. Extract the entities from the question and map each entity to columns \"stars\",\"directors\", \"producers, \"keywords\" and \"genres\"    2. Form a query to answer the following question in double quotes based on the query template above and no other information. \"must\" clause inside the query with arrays must have a single entity only.    Query:    {\"query\":{\"bool\":{\"must\":[{\"terms\":{\"location.keyword\":[\"New York\"]}},{\"terms\":{\"keywords.keyword\":[\"christmas\"]}}]}}}    This query will search for movies shot in New York with keyword christmas.\n",
      "212 78\n",
      "Extracted Query {\"query\":{\"bool\":{\"must\":[{\"terms\":{\"location.keyword\":[\"New York\"]}},{\"terms\":{\"keywords.keyword\":[\"christmas\"]}}]}}}\n",
      "{'query': {'bool': {'must': [{'terms': {'location.keyword': ['New York']}}, {'terms': {'keywords.keyword': ['christmas']}}]}}, 'size': 50}\n"
     ]
    }
   ],
   "source": [
    "model = 'Jurassic-Jumbo-Instruct'\n",
    "chain_1 = create_qa_chain(model)\n",
    "query = \"Movies shot in location New York with keyword christmas?\"\n",
    "response = os_results(chain_1, query)"
   ]
  },
  {
   "cell_type": "code",
   "execution_count": 8,
   "id": "4b0678ec",
   "metadata": {},
   "outputs": [],
   "source": [
    "docs = get_docs(response, 5)"
   ]
  },
  {
   "cell_type": "code",
   "execution_count": 36,
   "id": "f370bc31",
   "metadata": {
    "scrolled": true
   },
   "outputs": [
    {
     "data": {
      "text/plain": [
       "[Document(page_content='The name of the movie is Bell Book and Candle, was shot in 1958, has the actors/stars James Stewart, Kim Novak, Jack Lemmon, Ernie Kovacs, Hermione Gingold, Elsa Lanchester, Janice Rule, Philippe Clay, Bek Nelson, Howard McNear, directed by Richard Quine, produced by Julian Blaustein. The plot of the movie is A modern-day witch likes her neighbor but despises his fiancu00e9e, so she enchants him to love her instead.. The movie was shot in the following locations: New York, New York City, USA. It has rating of 6.9. The movie belongs to the genres Comedy, Fantasy, Romance', metadata={'source': 'Bell Book and Candle'}),\n",
       " Document(page_content='The name of the movie is Night Shift, was shot in 1982, has the actors/stars Henry Winkler, Michael Keaton, Shelley Long, Gina Hecht, Pat Corley, Bobby Di Cicco, Nita Talbot, Basil Hoffman, Tim Rossovich, Clint Howard, directed by Ron Howard, produced by Brian Grazer. The plot of the movie is A morgue attendant is talked into running a brothel at his workplace after a deceased pimp is sent there. However, the pimps killers dont look too kindly on this new business, nor does the morgues owner.. The movie was shot in the following locations: New York, New York City, USA. It has rating of 6.6. The movie belongs to the genres Comedy', metadata={'source': 'Night Shift'}),\n",
       " Document(page_content='The name of the movie is Sid and Nancy, was shot in 1986, has the actors/stars Gary Oldman, Chloe Webb, David Hayman, Debby Bishop, Andrew Schofield, Xander Berkeley, Perry Benson, Tony London, Sandy Baron, Sy Richardson, directed by Alex Cox, produced by Eric Fellner. The plot of the movie is The relationship between Sid Vicious, bassist for British punk group Sex Pistols, and his girlfriend Nancy Spungen is portrayed.. The movie was shot in the following locations: New York, El Centro, San Francisco, Jersey City, France, London, New Jersey, Los Angeles, England, USA, Paris, UK, New York City, California. It has rating of 7.0. The movie belongs to the genres Biography, Drama, Music, Romance', metadata={'source': 'Sid and Nancy'}),\n",
       " Document(page_content='The name of the movie is Life with Mikey, was shot in 1993, has the actors/stars Michael J. Fox, Christina Vidal, Nathan Lane, Cyndi Lauper, David Krumholtz, David Huddleston, Victor Garber, Frances Chaney, Kathryn Grody, Mary Alice, directed by James Lapine, produced by Scott Rudin, Teri Schwartz. The plot of the movie is A once-popular actor who now runs a talent agency specializing in child acts is trying to discover the next star. He gets more than he bargained for when he recruits a child pickpocket.. The movie was shot in the following locations: Canada, New York, Toronto, 104 W 83rd St., P.S. 009 100 WEST 84 STREET MANHATTAN, NY 10024, USA, West 83rd street and Columbus Ave., New York City, Ontario. It has rating of 5.7. The movie belongs to the genres Comedy, Family', metadata={'source': 'Life with Mikey'}),\n",
       " Document(page_content='The name of the movie is Sleepless in Seattle, was shot in 1993, has the actors/stars Tom Hanks, Meg Ryan, Ross Malinger, Rita Wilson, Victor Garber, Tom Riis Farrell, Carey Lowell, Bill Pullman, Le Clanché du Rand, Kevin OMorrison, directed by Nora Ephron, produced by Gary Foster. The plot of the movie is A recently widowed mans son calls a radio talk-show in an attempt to find his father a partner.. The movie was shot in the following locations: New York, Chicago, Annapolis, Maryland, USA, Seattle, Illinois, New York City, Washington, Baltimore. It has rating of 6.8. The movie belongs to the genres Comedy, Drama, Romance', metadata={'source': 'Sleepless in Seattle'})]"
      ]
     },
     "execution_count": 36,
     "metadata": {},
     "output_type": "execute_result"
    }
   ],
   "source": [
    "docs"
   ]
  },
  {
   "cell_type": "markdown",
   "id": "4ae92471",
   "metadata": {},
   "source": [
    "### llm-2"
   ]
  },
  {
   "cell_type": "markdown",
   "id": "5c4ec747",
   "metadata": {},
   "source": [
    "Create a chatbot that uses context and input documents to answer a given question. "
   ]
  },
  {
   "cell_type": "code",
   "execution_count": 38,
   "id": "88d4c674",
   "metadata": {},
   "outputs": [],
   "source": [
    "llm_2 = langchain_qa_chat.sagemaker_endpoint_ai21(config['llm']['ai21_instruct'])\n",
    "template = \"\"\"You are a chatbot having a conversation with a human.\n",
    "Given the following extracted parts of a long document and a question, create a final answer.\n",
    "\n",
    "{context}\n",
    "\n",
    "{chat_history}\n",
    "(Use only the above information to answer the question. )\n",
    "Human: {human_input}\n",
    "Chatbot:\"\"\"\n",
    "\n",
    "prompt = PromptTemplate(\n",
    "    input_variables=[\"chat_history\", \"human_input\", \"context\"], \n",
    "    template=template\n",
    ")\n",
    "memory = ConversationBufferMemory(memory_key=\"chat_history\", input_key=\"human_input\")\n",
    "chain_2 = load_qa_chain(llm_2, chain_type=\"stuff\", memory=memory, prompt=prompt)"
   ]
  },
  {
   "cell_type": "code",
   "execution_count": 26,
   "id": "ac053fa5",
   "metadata": {},
   "outputs": [
    {
     "name": "stdout",
     "output_type": "stream",
     "text": [
      "<botocore.response.StreamingBody object at 0x7f6e3ce6fc40>\n"
     ]
    },
    {
     "data": {
      "text/plain": [
       "{'output_text': ' The plot of the movie is The relationship between Sid Vicious, bassist for British punk group Sex Pistols, and his girlfriend Nancy Spungen is portrayed.'}"
      ]
     },
     "execution_count": 26,
     "metadata": {},
     "output_type": "execute_result"
    }
   ],
   "source": [
    "query = \"what is the plot of Sid and Nancy?\"\n",
    "chain_2({\"input_documents\": docs, \"human_input\": query}, return_only_outputs=True)"
   ]
  },
  {
   "cell_type": "code",
   "execution_count": 27,
   "id": "57661ddf",
   "metadata": {},
   "outputs": [
    {
     "name": "stdout",
     "output_type": "stream",
     "text": [
      "<botocore.response.StreamingBody object at 0x7f6f106f65b0>\n"
     ]
    },
    {
     "data": {
      "text/plain": [
       "{'output_text': ' The actors in the movie are Gary Oldman, Chloe Webb, David Hayman, Debby Bishop, Andrew Schofield, Xander Berkeley, Perry Benson, Tony London, Sandy Baron, Sy Richardson.'}"
      ]
     },
     "execution_count": 27,
     "metadata": {},
     "output_type": "execute_result"
    }
   ],
   "source": [
    "query = \"who are the actors in it?\"\n",
    "chain_2({\"input_documents\": docs, \"human_input\": query}, return_only_outputs=True)"
   ]
  },
  {
   "cell_type": "code",
   "execution_count": 28,
   "id": "8646ff73",
   "metadata": {},
   "outputs": [
    {
     "name": "stdout",
     "output_type": "stream",
     "text": [
      "<botocore.response.StreamingBody object at 0x7f6f10786a00>\n"
     ]
    },
    {
     "data": {
      "text/plain": [
       "{'output_text': \" I don't know.\"}"
      ]
     },
     "execution_count": 28,
     "metadata": {},
     "output_type": "execute_result"
    }
   ],
   "source": [
    "query = \"which movies were shot in Paris?\"\n",
    "chain_2({\"input_documents\": docs, \"human_input\": query}, return_only_outputs=True)"
   ]
  },
  {
   "cell_type": "code",
   "execution_count": 29,
   "id": "2200fa69",
   "metadata": {},
   "outputs": [
    {
     "name": "stdout",
     "output_type": "stream",
     "text": [
      "<botocore.response.StreamingBody object at 0x7f6f106ff850>\n"
     ]
    },
    {
     "data": {
      "text/plain": [
       "{'output_text': \" I don't know.\"}"
      ]
     },
     "execution_count": 29,
     "metadata": {},
     "output_type": "execute_result"
    }
   ],
   "source": [
    "query = \"was the movie Sid and Nancy, shot in Paris?\"\n",
    "chain_2({\"input_documents\": docs, \"human_input\": query}, return_only_outputs=True)"
   ]
  },
  {
   "cell_type": "code",
   "execution_count": 30,
   "id": "e089b6b5",
   "metadata": {},
   "outputs": [
    {
     "name": "stdout",
     "output_type": "stream",
     "text": [
      "<botocore.response.StreamingBody object at 0x7f6f106ffdf0>\n"
     ]
    },
    {
     "data": {
      "text/plain": [
       "{'output_text': \" The plot of the movie is A recently widowed man's son calls a radio talk-show in an attempt to find his father a partner.\"}"
      ]
     },
     "execution_count": 30,
     "metadata": {},
     "output_type": "execute_result"
    }
   ],
   "source": [
    "query = \"what is the plot of sleepless in seattle?\"\n",
    "chain_2({\"input_documents\": docs, \"human_input\": query}, return_only_outputs=True)"
   ]
  },
  {
   "cell_type": "code",
   "execution_count": 31,
   "id": "6a9bb70f",
   "metadata": {},
   "outputs": [
    {
     "name": "stdout",
     "output_type": "stream",
     "text": [
      "<botocore.response.StreamingBody object at 0x7f6f106f9fa0>\n"
     ]
    },
    {
     "data": {
      "text/plain": [
       "{'output_text': ' The movie was shot in the following locations: New York, Chicago, Annapolis, Maryland, USA, Seattle, Illinois, New York City, Washington, Baltimore.'}"
      ]
     },
     "execution_count": 31,
     "metadata": {},
     "output_type": "execute_result"
    }
   ],
   "source": [
    "query = \"where was it shot?\"\n",
    "chain_2({\"input_documents\": docs, \"human_input\": query}, return_only_outputs=True)"
   ]
  },
  {
   "cell_type": "code",
   "execution_count": 33,
   "id": "02d1613d",
   "metadata": {},
   "outputs": [
    {
     "name": "stdout",
     "output_type": "stream",
     "text": [
      "<botocore.response.StreamingBody object at 0x7f6f106f6550>\n"
     ]
    },
    {
     "data": {
      "text/plain": [
       "{'output_text': ' The movie Sid and Nancy was shot in New York.'}"
      ]
     },
     "execution_count": 33,
     "metadata": {},
     "output_type": "execute_result"
    }
   ],
   "source": [
    "query = \"which movies were shot in New York?\"\n",
    "chain_2({\"input_documents\": docs, \"human_input\": query}, return_only_outputs=True)"
   ]
  },
  {
   "cell_type": "code",
   "execution_count": 40,
   "id": "4157de87",
   "metadata": {},
   "outputs": [
    {
     "name": "stdout",
     "output_type": "stream",
     "text": [
      "<botocore.response.StreamingBody object at 0x7f6f10170280>\n"
     ]
    },
    {
     "data": {
      "text/plain": [
       "{'output_text': ' Bell Book and Candle, Night Shift, Sid and Nancy, and Sleepless in Seattle.'}"
      ]
     },
     "execution_count": 40,
     "metadata": {},
     "output_type": "execute_result"
    }
   ],
   "source": [
    "query = \"Name 4 movies that were shot in New York?\"\n",
    "chain_2({\"input_documents\": docs, \"human_input\": query}, return_only_outputs=True)"
   ]
  },
  {
   "cell_type": "code",
   "execution_count": 39,
   "id": "316f84f2",
   "metadata": {},
   "outputs": [
    {
     "name": "stdout",
     "output_type": "stream",
     "text": [
      "<botocore.response.StreamingBody object at 0x7f6f0fc20a30>\n"
     ]
    },
    {
     "data": {
      "text/plain": [
       "{'output_text': ' Sid and Nancy'}"
      ]
     },
     "execution_count": 39,
     "metadata": {},
     "output_type": "execute_result"
    }
   ],
   "source": [
    "query = \"Which of these movies has actor Gary Oldman?\"\n",
    "chain_2({\"input_documents\": docs, \"human_input\": query}, return_only_outputs=True)"
   ]
  },
  {
   "cell_type": "code",
   "execution_count": 41,
   "id": "21d9c56a",
   "metadata": {},
   "outputs": [
    {
     "name": "stdout",
     "output_type": "stream",
     "text": [
      "<botocore.response.StreamingBody object at 0x7f6f0fc200d0>\n"
     ]
    },
    {
     "data": {
      "text/plain": [
       "{'output_text': ' Sid and Nancy was shot in Paris.'}"
      ]
     },
     "execution_count": 41,
     "metadata": {},
     "output_type": "execute_result"
    }
   ],
   "source": [
    "query = \"which movies were shot in Paris?\"\n",
    "chain_2({\"input_documents\": docs, \"human_input\": query}, return_only_outputs=True)"
   ]
  }
 ],
 "metadata": {
  "kernelspec": {
   "display_name": "conda_pytorch_p39",
   "language": "python",
   "name": "conda_pytorch_p39"
  },
  "language_info": {
   "codemirror_mode": {
    "name": "ipython",
    "version": 3
   },
   "file_extension": ".py",
   "mimetype": "text/x-python",
   "name": "python",
   "nbconvert_exporter": "python",
   "pygments_lexer": "ipython3",
   "version": "3.9.15"
  }
 },
 "nbformat": 4,
 "nbformat_minor": 5
}
