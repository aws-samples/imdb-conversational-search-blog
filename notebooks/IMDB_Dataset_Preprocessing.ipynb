{
 "cells": [
  {
   "cell_type": "markdown",
   "id": "d7527308",
   "metadata": {},
   "source": [
    "# IMDB Dataset Preprocessing"
   ]
  },
  {
   "cell_type": "markdown",
   "id": "cf2f4f30",
   "metadata": {},
   "source": [
    "The following notebook will provide steps to preprocess the IMDB dataset. This includes adding movies, plots, posters, and other filtering operations as shown in each of the sections.  "
   ]
  },
  {
   "cell_type": "markdown",
   "id": "fa33d994",
   "metadata": {},
   "source": [
    "Uncomment below cell to install the following dependencies required for the notebook. "
   ]
  },
  {
   "cell_type": "code",
   "execution_count": 1,
   "id": "27b6313e",
   "metadata": {},
   "outputs": [],
   "source": [
    "# !pip install pyarrow -q\n",
    "# !pip install fastparquet -q"
   ]
  },
  {
   "cell_type": "markdown",
   "id": "35143556",
   "metadata": {},
   "source": [
    "### Datasets"
   ]
  },
  {
   "cell_type": "markdown",
   "id": "2ff11f4b",
   "metadata": {},
   "source": [
    "We will obtain several datasets in this section, ones with: movies information, imdb and tmdb ids. "
   ]
  },
  {
   "cell_type": "code",
   "execution_count": 2,
   "id": "ecbf9275",
   "metadata": {},
   "outputs": [],
   "source": [
    "import pandas as pd\n",
    "import numpy as np"
   ]
  },
  {
   "cell_type": "code",
   "execution_count": 4,
   "id": "48c52268",
   "metadata": {},
   "outputs": [
    {
     "data": {
      "text/html": [
       "<div>\n",
       "<style scoped>\n",
       "    .dataframe tbody tr th:only-of-type {\n",
       "        vertical-align: middle;\n",
       "    }\n",
       "\n",
       "    .dataframe tbody tr th {\n",
       "        vertical-align: top;\n",
       "    }\n",
       "\n",
       "    .dataframe thead th {\n",
       "        text-align: right;\n",
       "    }\n",
       "</style>\n",
       "<table border=\"1\" class=\"dataframe\">\n",
       "  <thead>\n",
       "    <tr style=\"text-align: right;\">\n",
       "      <th></th>\n",
       "      <th>movieId</th>\n",
       "      <th>title</th>\n",
       "      <th>genres</th>\n",
       "    </tr>\n",
       "  </thead>\n",
       "  <tbody>\n",
       "    <tr>\n",
       "      <th>0</th>\n",
       "      <td>1</td>\n",
       "      <td>Toy Story (1995)</td>\n",
       "      <td>Adventure|Animation|Children|Comedy|Fantasy</td>\n",
       "    </tr>\n",
       "    <tr>\n",
       "      <th>1</th>\n",
       "      <td>2</td>\n",
       "      <td>Jumanji (1995)</td>\n",
       "      <td>Adventure|Children|Fantasy</td>\n",
       "    </tr>\n",
       "  </tbody>\n",
       "</table>\n",
       "</div>"
      ],
      "text/plain": [
       "   movieId             title                                       genres\n",
       "0        1  Toy Story (1995)  Adventure|Animation|Children|Comedy|Fantasy\n",
       "1        2    Jumanji (1995)                   Adventure|Children|Fantasy"
      ]
     },
     "execution_count": 4,
     "metadata": {},
     "output_type": "execute_result"
    }
   ],
   "source": [
    "movies = pd.read_csv('../data/ml-latest-small/movies.csv')\n",
    "movies.head(2)"
   ]
  },
  {
   "cell_type": "code",
   "execution_count": 5,
   "id": "ff34fb80",
   "metadata": {},
   "outputs": [
    {
     "data": {
      "text/html": [
       "<div>\n",
       "<style scoped>\n",
       "    .dataframe tbody tr th:only-of-type {\n",
       "        vertical-align: middle;\n",
       "    }\n",
       "\n",
       "    .dataframe tbody tr th {\n",
       "        vertical-align: top;\n",
       "    }\n",
       "\n",
       "    .dataframe thead th {\n",
       "        text-align: right;\n",
       "    }\n",
       "</style>\n",
       "<table border=\"1\" class=\"dataframe\">\n",
       "  <thead>\n",
       "    <tr style=\"text-align: right;\">\n",
       "      <th></th>\n",
       "      <th>movieId</th>\n",
       "      <th>imdbId</th>\n",
       "      <th>tmdbId</th>\n",
       "    </tr>\n",
       "  </thead>\n",
       "  <tbody>\n",
       "    <tr>\n",
       "      <th>0</th>\n",
       "      <td>1</td>\n",
       "      <td>114709</td>\n",
       "      <td>862.0</td>\n",
       "    </tr>\n",
       "    <tr>\n",
       "      <th>1</th>\n",
       "      <td>2</td>\n",
       "      <td>113497</td>\n",
       "      <td>8844.0</td>\n",
       "    </tr>\n",
       "  </tbody>\n",
       "</table>\n",
       "</div>"
      ],
      "text/plain": [
       "   movieId  imdbId  tmdbId\n",
       "0        1  114709   862.0\n",
       "1        2  113497  8844.0"
      ]
     },
     "execution_count": 5,
     "metadata": {},
     "output_type": "execute_result"
    }
   ],
   "source": [
    "links = pd.read_csv('../data/ml-latest-small/links.csv')\n",
    "links.head(2)"
   ]
  },
  {
   "cell_type": "code",
   "execution_count": 6,
   "id": "09d3f457",
   "metadata": {},
   "outputs": [],
   "source": [
    "ml_ttid = list(set(links.imdbId.apply(lambda x: \"{:07d}\".format(x))))"
   ]
  },
  {
   "cell_type": "code",
   "execution_count": 7,
   "id": "aba19637",
   "metadata": {},
   "outputs": [
    {
     "data": {
      "text/plain": [
       "9742"
      ]
     },
     "execution_count": 7,
     "metadata": {},
     "output_type": "execute_result"
    }
   ],
   "source": [
    "len(ml_ttid)"
   ]
  },
  {
   "cell_type": "code",
   "execution_count": 8,
   "id": "e6dead60",
   "metadata": {},
   "outputs": [
    {
     "data": {
      "text/html": [
       "<div>\n",
       "<style scoped>\n",
       "    .dataframe tbody tr th:only-of-type {\n",
       "        vertical-align: middle;\n",
       "    }\n",
       "\n",
       "    .dataframe tbody tr th {\n",
       "        vertical-align: top;\n",
       "    }\n",
       "\n",
       "    .dataframe thead th {\n",
       "        text-align: right;\n",
       "    }\n",
       "</style>\n",
       "<table border=\"1\" class=\"dataframe\">\n",
       "  <thead>\n",
       "    <tr style=\"text-align: right;\">\n",
       "      <th></th>\n",
       "      <th>titleId</th>\n",
       "      <th>originalTitle</th>\n",
       "      <th>genres</th>\n",
       "      <th>plotLong</th>\n",
       "      <th>imdbRating</th>\n",
       "      <th>year</th>\n",
       "      <th>Actors</th>\n",
       "      <th>Directors</th>\n",
       "      <th>Producers</th>\n",
       "      <th>keyword</th>\n",
       "      <th>location</th>\n",
       "    </tr>\n",
       "  </thead>\n",
       "  <tbody>\n",
       "    <tr>\n",
       "      <th>501</th>\n",
       "      <td>tt0000502</td>\n",
       "      <td>Bohemios</td>\n",
       "      <td>None</td>\n",
       "      <td>None</td>\n",
       "      <td>{'numberOfVotes': 8.0, 'rating': 4.5}</td>\n",
       "      <td>1905.0</td>\n",
       "      <td>[Antonio del Pozo, El Mochuelo]</td>\n",
       "      <td>[Ricardo de Baños]</td>\n",
       "      <td>[]</td>\n",
       "      <td>[based-on-zarzuela]</td>\n",
       "      <td>[]</td>\n",
       "    </tr>\n",
       "    <tr>\n",
       "      <th>573</th>\n",
       "      <td>tt0000574</td>\n",
       "      <td>The Story of the Kelly Gang</td>\n",
       "      <td>[Action, Adventure, Biography, Crime, Drama, H...</td>\n",
       "      <td>None</td>\n",
       "      <td>{'numberOfVotes': 623.0, 'rating': 6.1}</td>\n",
       "      <td>1906.0</td>\n",
       "      <td>[Elizabeth Tait, John Tait, Norman Campbell, B...</td>\n",
       "      <td>[Charles Tait]</td>\n",
       "      <td>[W.A. Gibson, Millard Johnson, John Tait, Nevi...</td>\n",
       "      <td>[ned-kelly, australia, historic-figure, austra...</td>\n",
       "      <td>[Eltham, Victoria, Australia, Greensborough, V...</td>\n",
       "    </tr>\n",
       "  </tbody>\n",
       "</table>\n",
       "</div>"
      ],
      "text/plain": [
       "       titleId                originalTitle  \\\n",
       "501  tt0000502                     Bohemios   \n",
       "573  tt0000574  The Story of the Kelly Gang   \n",
       "\n",
       "                                                genres plotLong  \\\n",
       "501                                               None     None   \n",
       "573  [Action, Adventure, Biography, Crime, Drama, H...     None   \n",
       "\n",
       "                                  imdbRating    year  \\\n",
       "501    {'numberOfVotes': 8.0, 'rating': 4.5}  1905.0   \n",
       "573  {'numberOfVotes': 623.0, 'rating': 6.1}  1906.0   \n",
       "\n",
       "                                                Actors           Directors  \\\n",
       "501                    [Antonio del Pozo, El Mochuelo]  [Ricardo de Baños]   \n",
       "573  [Elizabeth Tait, John Tait, Norman Campbell, B...      [Charles Tait]   \n",
       "\n",
       "                                             Producers  \\\n",
       "501                                                 []   \n",
       "573  [W.A. Gibson, Millard Johnson, John Tait, Nevi...   \n",
       "\n",
       "                                               keyword  \\\n",
       "501                                [based-on-zarzuela]   \n",
       "573  [ned-kelly, australia, historic-figure, austra...   \n",
       "\n",
       "                                              location  \n",
       "501                                                 []  \n",
       "573  [Eltham, Victoria, Australia, Greensborough, V...  "
      ]
     },
     "execution_count": 8,
     "metadata": {},
     "output_type": "execute_result"
    }
   ],
   "source": [
    "df_meta = pd.read_parquet(\"s3://mlsl-imdb-data/raw-data/movies_llm.parquet\")\n",
    "df_meta.head(2)"
   ]
  },
  {
   "cell_type": "code",
   "execution_count": 9,
   "id": "be3501ab",
   "metadata": {},
   "outputs": [
    {
     "data": {
      "text/plain": [
       "(602895, 11)"
      ]
     },
     "execution_count": 9,
     "metadata": {},
     "output_type": "execute_result"
    }
   ],
   "source": [
    "df_meta.shape"
   ]
  },
  {
   "cell_type": "code",
   "execution_count": 10,
   "id": "3cb9b9be",
   "metadata": {},
   "outputs": [],
   "source": [
    "ml_ttid = ['tt'+ttid for ttid in ml_ttid]"
   ]
  },
  {
   "cell_type": "markdown",
   "id": "bfc1aed3",
   "metadata": {},
   "source": [
    "### Filter full movies dataset for only MovieLens movies"
   ]
  },
  {
   "cell_type": "code",
   "execution_count": 11,
   "id": "7318c2a4",
   "metadata": {},
   "outputs": [],
   "source": [
    "df_meta_small = df_meta[df_meta.titleId.isin(ml_ttid)]"
   ]
  },
  {
   "cell_type": "code",
   "execution_count": 12,
   "id": "56d55d40",
   "metadata": {},
   "outputs": [
    {
     "data": {
      "text/plain": [
       "(9086, 11)"
      ]
     },
     "execution_count": 12,
     "metadata": {},
     "output_type": "execute_result"
    }
   ],
   "source": [
    "df_meta_small.shape"
   ]
  },
  {
   "cell_type": "markdown",
   "id": "28bafbed",
   "metadata": {},
   "source": [
    "### Retrieve IMDb plots"
   ]
  },
  {
   "cell_type": "code",
   "execution_count": 13,
   "id": "1a34cdd7",
   "metadata": {},
   "outputs": [],
   "source": [
    "plots = pd.read_parquet('s3://mlsl-imdb-data/plotinfo/plotinfo.parquet')"
   ]
  },
  {
   "cell_type": "code",
   "execution_count": 14,
   "id": "2869c255",
   "metadata": {},
   "outputs": [
    {
     "data": {
      "text/plain": [
       "(602895, 2)"
      ]
     },
     "execution_count": 14,
     "metadata": {},
     "output_type": "execute_result"
    }
   ],
   "source": [
    "plots.shape"
   ]
  },
  {
   "cell_type": "code",
   "execution_count": 15,
   "id": "b8413b13",
   "metadata": {},
   "outputs": [
    {
     "data": {
      "text/html": [
       "<div>\n",
       "<style scoped>\n",
       "    .dataframe tbody tr th:only-of-type {\n",
       "        vertical-align: middle;\n",
       "    }\n",
       "\n",
       "    .dataframe tbody tr th {\n",
       "        vertical-align: top;\n",
       "    }\n",
       "\n",
       "    .dataframe thead th {\n",
       "        text-align: right;\n",
       "    }\n",
       "</style>\n",
       "<table border=\"1\" class=\"dataframe\">\n",
       "  <thead>\n",
       "    <tr style=\"text-align: right;\">\n",
       "      <th></th>\n",
       "      <th>titleId</th>\n",
       "      <th>plot</th>\n",
       "    </tr>\n",
       "  </thead>\n",
       "  <tbody>\n",
       "    <tr>\n",
       "      <th>501</th>\n",
       "      <td>tt0000502</td>\n",
       "      <td>None</td>\n",
       "    </tr>\n",
       "    <tr>\n",
       "      <th>573</th>\n",
       "      <td>tt0000574</td>\n",
       "      <td>True story of notorious Australian outlaw Ned ...</td>\n",
       "    </tr>\n",
       "  </tbody>\n",
       "</table>\n",
       "</div>"
      ],
      "text/plain": [
       "       titleId                                               plot\n",
       "501  tt0000502                                               None\n",
       "573  tt0000574  True story of notorious Australian outlaw Ned ..."
      ]
     },
     "execution_count": 15,
     "metadata": {},
     "output_type": "execute_result"
    }
   ],
   "source": [
    "plots.head(2)"
   ]
  },
  {
   "cell_type": "code",
   "execution_count": 16,
   "id": "7841e3e5",
   "metadata": {},
   "outputs": [
    {
     "data": {
      "text/plain": [
       "9086"
      ]
     },
     "execution_count": 16,
     "metadata": {},
     "output_type": "execute_result"
    }
   ],
   "source": [
    "len(set(df_meta_small.titleId).intersection(set(plots.titleId)))"
   ]
  },
  {
   "cell_type": "code",
   "execution_count": 18,
   "id": "bcd149b7",
   "metadata": {},
   "outputs": [],
   "source": [
    "plot_dict = dict()\n",
    "for idx, row in plots.iterrows():\n",
    "    plot_dict[row['titleId']] = row['plot']\n",
    "    "
   ]
  },
  {
   "cell_type": "code",
   "execution_count": 19,
   "id": "a2d3828d",
   "metadata": {},
   "outputs": [
    {
     "name": "stderr",
     "output_type": "stream",
     "text": [
      "/tmp/ipykernel_17111/1356107073.py:1: SettingWithCopyWarning: \n",
      "A value is trying to be set on a copy of a slice from a DataFrame.\n",
      "Try using .loc[row_indexer,col_indexer] = value instead\n",
      "\n",
      "See the caveats in the documentation: https://pandas.pydata.org/pandas-docs/stable/user_guide/indexing.html#returning-a-view-versus-a-copy\n",
      "  df_meta_small['plot'] = df_meta['titleId'].apply(lambda x: plot_dict[x] if x in plot_dict else None)\n"
     ]
    }
   ],
   "source": [
    "df_meta_small['plot'] = df_meta['titleId'].apply(lambda x: plot_dict[x] if x in plot_dict else None)"
   ]
  },
  {
   "cell_type": "code",
   "execution_count": 20,
   "id": "34a145d7",
   "metadata": {},
   "outputs": [
    {
     "data": {
      "text/html": [
       "<div>\n",
       "<style scoped>\n",
       "    .dataframe tbody tr th:only-of-type {\n",
       "        vertical-align: middle;\n",
       "    }\n",
       "\n",
       "    .dataframe tbody tr th {\n",
       "        vertical-align: top;\n",
       "    }\n",
       "\n",
       "    .dataframe thead th {\n",
       "        text-align: right;\n",
       "    }\n",
       "</style>\n",
       "<table border=\"1\" class=\"dataframe\">\n",
       "  <thead>\n",
       "    <tr style=\"text-align: right;\">\n",
       "      <th></th>\n",
       "      <th>titleId</th>\n",
       "      <th>originalTitle</th>\n",
       "      <th>genres</th>\n",
       "      <th>plotLong</th>\n",
       "      <th>imdbRating</th>\n",
       "      <th>year</th>\n",
       "      <th>Actors</th>\n",
       "      <th>Directors</th>\n",
       "      <th>Producers</th>\n",
       "      <th>keyword</th>\n",
       "      <th>location</th>\n",
       "      <th>plot</th>\n",
       "    </tr>\n",
       "  </thead>\n",
       "  <tbody>\n",
       "    <tr>\n",
       "      <th>4963</th>\n",
       "      <td>tt0004972</td>\n",
       "      <td>The Birth of a Nation</td>\n",
       "      <td>[Drama, History, War]</td>\n",
       "      <td>The first half of the film begins before the C...</td>\n",
       "      <td>{'numberOfVotes': 22971.0, 'rating': 6.3}</td>\n",
       "      <td>1915.0</td>\n",
       "      <td>[Lillian Gish, Mae Marsh, Henry B. Walthall, M...</td>\n",
       "      <td>[D.W. Griffith]</td>\n",
       "      <td>[]</td>\n",
       "      <td>[ku-klux-klan, civil-war, reconstruction-era, ...</td>\n",
       "      <td>[Calexico, California, USA, Forest Lawn Hollyw...</td>\n",
       "      <td>The Stoneman family finds its friendship with ...</td>\n",
       "    </tr>\n",
       "    <tr>\n",
       "      <th>6324</th>\n",
       "      <td>tt0006333</td>\n",
       "      <td>20,000 Leagues Under the Sea</td>\n",
       "      <td>[Action, Adventure, Sci-Fi]</td>\n",
       "      <td>None</td>\n",
       "      <td>{'numberOfVotes': 1545.0, 'rating': 6.2}</td>\n",
       "      <td>1916.0</td>\n",
       "      <td>[Allen Holubar, Dan Hanlon, Edna Pendleton, Cu...</td>\n",
       "      <td>[Stuart Paton]</td>\n",
       "      <td>[]</td>\n",
       "      <td>[national-film-registry, public-domain, based-...</td>\n",
       "      <td>[New Providence Island, Bahamas, Universal Stu...</td>\n",
       "      <td>A French professor and his daughter accompany ...</td>\n",
       "    </tr>\n",
       "  </tbody>\n",
       "</table>\n",
       "</div>"
      ],
      "text/plain": [
       "        titleId                 originalTitle                       genres  \\\n",
       "4963  tt0004972         The Birth of a Nation        [Drama, History, War]   \n",
       "6324  tt0006333  20,000 Leagues Under the Sea  [Action, Adventure, Sci-Fi]   \n",
       "\n",
       "                                               plotLong  \\\n",
       "4963  The first half of the film begins before the C...   \n",
       "6324                                               None   \n",
       "\n",
       "                                     imdbRating    year  \\\n",
       "4963  {'numberOfVotes': 22971.0, 'rating': 6.3}  1915.0   \n",
       "6324   {'numberOfVotes': 1545.0, 'rating': 6.2}  1916.0   \n",
       "\n",
       "                                                 Actors        Directors  \\\n",
       "4963  [Lillian Gish, Mae Marsh, Henry B. Walthall, M...  [D.W. Griffith]   \n",
       "6324  [Allen Holubar, Dan Hanlon, Edna Pendleton, Cu...   [Stuart Paton]   \n",
       "\n",
       "     Producers                                            keyword  \\\n",
       "4963        []  [ku-klux-klan, civil-war, reconstruction-era, ...   \n",
       "6324        []  [national-film-registry, public-domain, based-...   \n",
       "\n",
       "                                               location  \\\n",
       "4963  [Calexico, California, USA, Forest Lawn Hollyw...   \n",
       "6324  [New Providence Island, Bahamas, Universal Stu...   \n",
       "\n",
       "                                                   plot  \n",
       "4963  The Stoneman family finds its friendship with ...  \n",
       "6324  A French professor and his daughter accompany ...  "
      ]
     },
     "execution_count": 20,
     "metadata": {},
     "output_type": "execute_result"
    }
   ],
   "source": [
    "df_meta_small.head(2)"
   ]
  },
  {
   "cell_type": "code",
   "execution_count": 21,
   "id": "d3327983",
   "metadata": {},
   "outputs": [
    {
     "data": {
      "text/plain": [
       "titleId             0\n",
       "originalTitle       0\n",
       "genres              0\n",
       "plotLong         3818\n",
       "imdbRating          0\n",
       "year                0\n",
       "Actors              0\n",
       "Directors           0\n",
       "Producers           0\n",
       "keyword             0\n",
       "location            0\n",
       "plot                5\n",
       "dtype: int64"
      ]
     },
     "execution_count": 21,
     "metadata": {},
     "output_type": "execute_result"
    }
   ],
   "source": [
    "df_meta_small.isna().sum()"
   ]
  },
  {
   "cell_type": "code",
   "execution_count": 22,
   "id": "7f1d5b8f",
   "metadata": {},
   "outputs": [
    {
     "name": "stderr",
     "output_type": "stream",
     "text": [
      "/tmp/ipykernel_17111/1902548358.py:1: SettingWithCopyWarning: \n",
      "A value is trying to be set on a copy of a slice from a DataFrame.\n",
      "Try using .loc[row_indexer,col_indexer] = value instead\n",
      "\n",
      "See the caveats in the documentation: https://pandas.pydata.org/pandas-docs/stable/user_guide/indexing.html#returning-a-view-versus-a-copy\n",
      "  df_meta_small['rating'] = df_meta_small['imdbRating'].apply(lambda x: x['rating'])\n"
     ]
    }
   ],
   "source": [
    "df_meta_small['rating'] = df_meta_small['imdbRating'].apply(lambda x: x['rating'])"
   ]
  },
  {
   "cell_type": "code",
   "execution_count": 23,
   "id": "67977b88",
   "metadata": {},
   "outputs": [
    {
     "data": {
      "text/html": [
       "<div>\n",
       "<style scoped>\n",
       "    .dataframe tbody tr th:only-of-type {\n",
       "        vertical-align: middle;\n",
       "    }\n",
       "\n",
       "    .dataframe tbody tr th {\n",
       "        vertical-align: top;\n",
       "    }\n",
       "\n",
       "    .dataframe thead th {\n",
       "        text-align: right;\n",
       "    }\n",
       "</style>\n",
       "<table border=\"1\" class=\"dataframe\">\n",
       "  <thead>\n",
       "    <tr style=\"text-align: right;\">\n",
       "      <th></th>\n",
       "      <th>titleId</th>\n",
       "      <th>originalTitle</th>\n",
       "      <th>genres</th>\n",
       "      <th>plotLong</th>\n",
       "      <th>imdbRating</th>\n",
       "      <th>year</th>\n",
       "      <th>Actors</th>\n",
       "      <th>Directors</th>\n",
       "      <th>Producers</th>\n",
       "      <th>keyword</th>\n",
       "      <th>location</th>\n",
       "      <th>plot</th>\n",
       "      <th>rating</th>\n",
       "    </tr>\n",
       "  </thead>\n",
       "  <tbody>\n",
       "    <tr>\n",
       "      <th>4963</th>\n",
       "      <td>tt0004972</td>\n",
       "      <td>The Birth of a Nation</td>\n",
       "      <td>[Drama, History, War]</td>\n",
       "      <td>The first half of the film begins before the C...</td>\n",
       "      <td>{'numberOfVotes': 22971.0, 'rating': 6.3}</td>\n",
       "      <td>1915.0</td>\n",
       "      <td>[Lillian Gish, Mae Marsh, Henry B. Walthall, M...</td>\n",
       "      <td>[D.W. Griffith]</td>\n",
       "      <td>[]</td>\n",
       "      <td>[ku-klux-klan, civil-war, reconstruction-era, ...</td>\n",
       "      <td>[Calexico, California, USA, Forest Lawn Hollyw...</td>\n",
       "      <td>The Stoneman family finds its friendship with ...</td>\n",
       "      <td>6.3</td>\n",
       "    </tr>\n",
       "    <tr>\n",
       "      <th>6324</th>\n",
       "      <td>tt0006333</td>\n",
       "      <td>20,000 Leagues Under the Sea</td>\n",
       "      <td>[Action, Adventure, Sci-Fi]</td>\n",
       "      <td>None</td>\n",
       "      <td>{'numberOfVotes': 1545.0, 'rating': 6.2}</td>\n",
       "      <td>1916.0</td>\n",
       "      <td>[Allen Holubar, Dan Hanlon, Edna Pendleton, Cu...</td>\n",
       "      <td>[Stuart Paton]</td>\n",
       "      <td>[]</td>\n",
       "      <td>[national-film-registry, public-domain, based-...</td>\n",
       "      <td>[New Providence Island, Bahamas, Universal Stu...</td>\n",
       "      <td>A French professor and his daughter accompany ...</td>\n",
       "      <td>6.2</td>\n",
       "    </tr>\n",
       "  </tbody>\n",
       "</table>\n",
       "</div>"
      ],
      "text/plain": [
       "        titleId                 originalTitle                       genres  \\\n",
       "4963  tt0004972         The Birth of a Nation        [Drama, History, War]   \n",
       "6324  tt0006333  20,000 Leagues Under the Sea  [Action, Adventure, Sci-Fi]   \n",
       "\n",
       "                                               plotLong  \\\n",
       "4963  The first half of the film begins before the C...   \n",
       "6324                                               None   \n",
       "\n",
       "                                     imdbRating    year  \\\n",
       "4963  {'numberOfVotes': 22971.0, 'rating': 6.3}  1915.0   \n",
       "6324   {'numberOfVotes': 1545.0, 'rating': 6.2}  1916.0   \n",
       "\n",
       "                                                 Actors        Directors  \\\n",
       "4963  [Lillian Gish, Mae Marsh, Henry B. Walthall, M...  [D.W. Griffith]   \n",
       "6324  [Allen Holubar, Dan Hanlon, Edna Pendleton, Cu...   [Stuart Paton]   \n",
       "\n",
       "     Producers                                            keyword  \\\n",
       "4963        []  [ku-klux-klan, civil-war, reconstruction-era, ...   \n",
       "6324        []  [national-film-registry, public-domain, based-...   \n",
       "\n",
       "                                               location  \\\n",
       "4963  [Calexico, California, USA, Forest Lawn Hollyw...   \n",
       "6324  [New Providence Island, Bahamas, Universal Stu...   \n",
       "\n",
       "                                                   plot  rating  \n",
       "4963  The Stoneman family finds its friendship with ...     6.3  \n",
       "6324  A French professor and his daughter accompany ...     6.2  "
      ]
     },
     "execution_count": 23,
     "metadata": {},
     "output_type": "execute_result"
    }
   ],
   "source": [
    "df_meta_small.head(2)"
   ]
  },
  {
   "cell_type": "code",
   "execution_count": 24,
   "id": "31bd3de7",
   "metadata": {},
   "outputs": [
    {
     "data": {
      "text/plain": [
       "Index(['titleId', 'originalTitle', 'genres', 'plotLong', 'imdbRating', 'year',\n",
       "       'Actors', 'Directors', 'Producers', 'keyword', 'location', 'plot',\n",
       "       'rating'],\n",
       "      dtype='object')"
      ]
     },
     "execution_count": 24,
     "metadata": {},
     "output_type": "execute_result"
    }
   ],
   "source": [
    "df_meta_small.columns"
   ]
  },
  {
   "cell_type": "code",
   "execution_count": 25,
   "id": "1163ab04",
   "metadata": {},
   "outputs": [
    {
     "data": {
      "text/plain": [
       "4963       [Lillian Gish, Mae Marsh, Henry B. Walthall, M...\n",
       "6324       [Allen Holubar, Dan Hanlon, Edna Pendleton, Cu...\n",
       "6854       [Lillian Gish, Robert Harron, Mae Marsh, F.A. ...\n",
       "7351       [Dorothy Cumming, Creighton Hale, Lionel Braha...\n",
       "10024      [Mary Pickford, Milla Davenport, Percy Haswell...\n",
       "                                 ...                        \n",
       "6694945    [John David Washington, Adam Driver, Laura Har...\n",
       "6787728    [Dana Carvey, Robert Smigel, Steve Carell, Ste...\n",
       "6852490    [Fred Rogers, Joanne Rogers, John Rogers, Jim ...\n",
       "6856582    [Trevor Jackson, Jason Mitchell, Lex Scott Dav...\n",
       "7188202    [Brian Beacock, Ray Chase, Lucien Dodge, Carri...\n",
       "Name: Actors, Length: 9086, dtype: object"
      ]
     },
     "execution_count": 25,
     "metadata": {},
     "output_type": "execute_result"
    }
   ],
   "source": [
    "df_meta_small['Actors']"
   ]
  },
  {
   "cell_type": "code",
   "execution_count": 26,
   "id": "ed198b73",
   "metadata": {},
   "outputs": [],
   "source": [
    "df_meta_small[['titleId', 'originalTitle', 'genres', 'year',\n",
    "       'Actors', 'Directors', 'Producers', 'keyword', 'location', 'plot',\n",
    "       'rating']].to_parquet('s3://mlsl-imdb-data/imdb_ml_10k.parquet', index=False)"
   ]
  },
  {
   "cell_type": "code",
   "execution_count": 27,
   "id": "e858056d",
   "metadata": {},
   "outputs": [],
   "source": [
    "df = pd.read_parquet('s3://mlsl-imdb-data/imdb_ml_10k.parquet')"
   ]
  },
  {
   "cell_type": "markdown",
   "id": "348bbd52",
   "metadata": {},
   "source": [
    "### Process location to remove duplicates in city/country names"
   ]
  },
  {
   "cell_type": "code",
   "execution_count": 41,
   "id": "1da9adaa",
   "metadata": {},
   "outputs": [],
   "source": [
    "def process_location(loc_list):\n",
    "    new_places = []\n",
    "    if loc_list is None: return [] \n",
    "    for loc in loc_list:\n",
    "        places = loc.split(',')[-3:]\n",
    "        new_places.extend(places)\n",
    "    return [place.strip() for place in list(set(new_places))]"
   ]
  },
  {
   "cell_type": "code",
   "execution_count": 42,
   "id": "3d00b58d",
   "metadata": {},
   "outputs": [],
   "source": [
    "df['location_new'] = df['location'].apply(lambda x: process_location(x))"
   ]
  },
  {
   "cell_type": "markdown",
   "id": "1547919f",
   "metadata": {},
   "source": [
    "### Add posters information"
   ]
  },
  {
   "cell_type": "code",
   "execution_count": 48,
   "id": "7732f4a6",
   "metadata": {},
   "outputs": [],
   "source": [
    "posters = pd.read_parquet(\"s3://mlsl-imdb-data/poster.parquet\")"
   ]
  },
  {
   "cell_type": "code",
   "execution_count": 49,
   "id": "6ef16bf7",
   "metadata": {},
   "outputs": [
    {
     "data": {
      "text/html": [
       "<div>\n",
       "<style scoped>\n",
       "    .dataframe tbody tr th:only-of-type {\n",
       "        vertical-align: middle;\n",
       "    }\n",
       "\n",
       "    .dataframe tbody tr th {\n",
       "        vertical-align: top;\n",
       "    }\n",
       "\n",
       "    .dataframe thead th {\n",
       "        text-align: right;\n",
       "    }\n",
       "</style>\n",
       "<table border=\"1\" class=\"dataframe\">\n",
       "  <thead>\n",
       "    <tr style=\"text-align: right;\">\n",
       "      <th></th>\n",
       "      <th>titleId</th>\n",
       "      <th>image</th>\n",
       "      <th>url</th>\n",
       "    </tr>\n",
       "  </thead>\n",
       "  <tbody>\n",
       "    <tr>\n",
       "      <th>0</th>\n",
       "      <td>tt0000001</td>\n",
       "      <td>{'height': 800.0, 'url': 'https://m.media-amaz...</td>\n",
       "      <td>https://m.media-amazon.com/images/M/MV5BZmUzOW...</td>\n",
       "    </tr>\n",
       "    <tr>\n",
       "      <th>1</th>\n",
       "      <td>tt0000002</td>\n",
       "      <td>{'height': 533.0, 'url': 'https://m.media-amaz...</td>\n",
       "      <td>https://m.media-amazon.com/images/M/MV5BZDI4ZD...</td>\n",
       "    </tr>\n",
       "  </tbody>\n",
       "</table>\n",
       "</div>"
      ],
      "text/plain": [
       "     titleId                                              image  \\\n",
       "0  tt0000001  {'height': 800.0, 'url': 'https://m.media-amaz...   \n",
       "1  tt0000002  {'height': 533.0, 'url': 'https://m.media-amaz...   \n",
       "\n",
       "                                                 url  \n",
       "0  https://m.media-amazon.com/images/M/MV5BZmUzOW...  \n",
       "1  https://m.media-amazon.com/images/M/MV5BZDI4ZD...  "
      ]
     },
     "execution_count": 49,
     "metadata": {},
     "output_type": "execute_result"
    }
   ],
   "source": [
    "posters.head(2)"
   ]
  },
  {
   "cell_type": "code",
   "execution_count": 50,
   "id": "e5785200",
   "metadata": {
    "scrolled": true
   },
   "outputs": [],
   "source": [
    "posters = dict(zip(posters.titleId, posters.url))"
   ]
  },
  {
   "cell_type": "code",
   "execution_count": 51,
   "id": "7c82aed2",
   "metadata": {},
   "outputs": [],
   "source": [
    "df['poster_url'] = df['titleId'].apply(lambda x: posters[x] if x in posters else None)"
   ]
  },
  {
   "cell_type": "code",
   "execution_count": 52,
   "id": "2d40f0fb",
   "metadata": {},
   "outputs": [
    {
     "data": {
      "text/html": [
       "<div>\n",
       "<style scoped>\n",
       "    .dataframe tbody tr th:only-of-type {\n",
       "        vertical-align: middle;\n",
       "    }\n",
       "\n",
       "    .dataframe tbody tr th {\n",
       "        vertical-align: top;\n",
       "    }\n",
       "\n",
       "    .dataframe thead th {\n",
       "        text-align: right;\n",
       "    }\n",
       "</style>\n",
       "<table border=\"1\" class=\"dataframe\">\n",
       "  <thead>\n",
       "    <tr style=\"text-align: right;\">\n",
       "      <th></th>\n",
       "      <th>titleId</th>\n",
       "      <th>originalTitle</th>\n",
       "      <th>genres</th>\n",
       "      <th>year</th>\n",
       "      <th>Actors</th>\n",
       "      <th>Directors</th>\n",
       "      <th>Producers</th>\n",
       "      <th>keyword</th>\n",
       "      <th>location</th>\n",
       "      <th>plot</th>\n",
       "      <th>rating</th>\n",
       "      <th>location_new</th>\n",
       "      <th>poster_url</th>\n",
       "    </tr>\n",
       "  </thead>\n",
       "  <tbody>\n",
       "    <tr>\n",
       "      <th>0</th>\n",
       "      <td>tt0004972</td>\n",
       "      <td>The Birth of a Nation</td>\n",
       "      <td>[Drama, History, War]</td>\n",
       "      <td>1915.0</td>\n",
       "      <td>[Lillian Gish, Mae Marsh, Henry B. Walthall, M...</td>\n",
       "      <td>[D.W. Griffith]</td>\n",
       "      <td>[]</td>\n",
       "      <td>[ku-klux-klan, civil-war, reconstruction-era, ...</td>\n",
       "      <td>[Calexico, California, USA, Forest Lawn Hollyw...</td>\n",
       "      <td>The Stoneman family finds its friendship with ...</td>\n",
       "      <td>6.3</td>\n",
       "      <td>[Thousand Oaks, Fullerton, Los Angeles, Califo...</td>\n",
       "      <td>https://m.media-amazon.com/images/M/MV5BYTM4ZD...</td>\n",
       "    </tr>\n",
       "    <tr>\n",
       "      <th>1</th>\n",
       "      <td>tt0006333</td>\n",
       "      <td>20,000 Leagues Under the Sea</td>\n",
       "      <td>[Action, Adventure, Sci-Fi]</td>\n",
       "      <td>1916.0</td>\n",
       "      <td>[Allen Holubar, Dan Hanlon, Edna Pendleton, Cu...</td>\n",
       "      <td>[Stuart Paton]</td>\n",
       "      <td>[]</td>\n",
       "      <td>[national-film-registry, public-domain, based-...</td>\n",
       "      <td>[New Providence Island, Bahamas, Universal Stu...</td>\n",
       "      <td>A French professor and his daughter accompany ...</td>\n",
       "      <td>6.2</td>\n",
       "      <td>[Bahamas, California, Universal City, USA, New...</td>\n",
       "      <td>https://m.media-amazon.com/images/M/MV5BMTQ0OT...</td>\n",
       "    </tr>\n",
       "  </tbody>\n",
       "</table>\n",
       "</div>"
      ],
      "text/plain": [
       "     titleId                 originalTitle                       genres  \\\n",
       "0  tt0004972         The Birth of a Nation        [Drama, History, War]   \n",
       "1  tt0006333  20,000 Leagues Under the Sea  [Action, Adventure, Sci-Fi]   \n",
       "\n",
       "     year                                             Actors        Directors  \\\n",
       "0  1915.0  [Lillian Gish, Mae Marsh, Henry B. Walthall, M...  [D.W. Griffith]   \n",
       "1  1916.0  [Allen Holubar, Dan Hanlon, Edna Pendleton, Cu...   [Stuart Paton]   \n",
       "\n",
       "  Producers                                            keyword  \\\n",
       "0        []  [ku-klux-klan, civil-war, reconstruction-era, ...   \n",
       "1        []  [national-film-registry, public-domain, based-...   \n",
       "\n",
       "                                            location  \\\n",
       "0  [Calexico, California, USA, Forest Lawn Hollyw...   \n",
       "1  [New Providence Island, Bahamas, Universal Stu...   \n",
       "\n",
       "                                                plot  rating  \\\n",
       "0  The Stoneman family finds its friendship with ...     6.3   \n",
       "1  A French professor and his daughter accompany ...     6.2   \n",
       "\n",
       "                                        location_new  \\\n",
       "0  [Thousand Oaks, Fullerton, Los Angeles, Califo...   \n",
       "1  [Bahamas, California, Universal City, USA, New...   \n",
       "\n",
       "                                          poster_url  \n",
       "0  https://m.media-amazon.com/images/M/MV5BYTM4ZD...  \n",
       "1  https://m.media-amazon.com/images/M/MV5BMTQ0OT...  "
      ]
     },
     "execution_count": 52,
     "metadata": {},
     "output_type": "execute_result"
    }
   ],
   "source": [
    "df.head(2)"
   ]
  },
  {
   "cell_type": "code",
   "execution_count": 54,
   "id": "821b70d6",
   "metadata": {},
   "outputs": [],
   "source": [
    "df_meta_small = df[['titleId', 'originalTitle', 'genres', 'year',\n",
    "       'Actors', 'Directors', 'Producers', 'keyword', 'location_new', 'plot',\n",
    "       'rating', 'poster_url']]"
   ]
  },
  {
   "cell_type": "code",
   "execution_count": 55,
   "id": "b4410783",
   "metadata": {},
   "outputs": [
    {
     "name": "stderr",
     "output_type": "stream",
     "text": [
      "/tmp/ipykernel_17111/984548817.py:1: SettingWithCopyWarning: \n",
      "A value is trying to be set on a copy of a slice from a DataFrame\n",
      "\n",
      "See the caveats in the documentation: https://pandas.pydata.org/pandas-docs/stable/user_guide/indexing.html#returning-a-view-versus-a-copy\n",
      "  df_meta_small.rename(columns={'location_new': 'location'}, inplace=True)\n"
     ]
    }
   ],
   "source": [
    "df_meta_small.rename(columns={'location_new': 'location'}, inplace=True)"
   ]
  },
  {
   "cell_type": "code",
   "execution_count": 56,
   "id": "087a9d43",
   "metadata": {},
   "outputs": [
    {
     "data": {
      "text/html": [
       "<div>\n",
       "<style scoped>\n",
       "    .dataframe tbody tr th:only-of-type {\n",
       "        vertical-align: middle;\n",
       "    }\n",
       "\n",
       "    .dataframe tbody tr th {\n",
       "        vertical-align: top;\n",
       "    }\n",
       "\n",
       "    .dataframe thead th {\n",
       "        text-align: right;\n",
       "    }\n",
       "</style>\n",
       "<table border=\"1\" class=\"dataframe\">\n",
       "  <thead>\n",
       "    <tr style=\"text-align: right;\">\n",
       "      <th></th>\n",
       "      <th>titleId</th>\n",
       "      <th>originalTitle</th>\n",
       "      <th>genres</th>\n",
       "      <th>year</th>\n",
       "      <th>Actors</th>\n",
       "      <th>Directors</th>\n",
       "      <th>Producers</th>\n",
       "      <th>keyword</th>\n",
       "      <th>location</th>\n",
       "      <th>plot</th>\n",
       "      <th>rating</th>\n",
       "      <th>poster_url</th>\n",
       "    </tr>\n",
       "  </thead>\n",
       "  <tbody>\n",
       "    <tr>\n",
       "      <th>0</th>\n",
       "      <td>tt0004972</td>\n",
       "      <td>The Birth of a Nation</td>\n",
       "      <td>[Drama, History, War]</td>\n",
       "      <td>1915.0</td>\n",
       "      <td>[Lillian Gish, Mae Marsh, Henry B. Walthall, M...</td>\n",
       "      <td>[D.W. Griffith]</td>\n",
       "      <td>[]</td>\n",
       "      <td>[ku-klux-klan, civil-war, reconstruction-era, ...</td>\n",
       "      <td>[Thousand Oaks, Fullerton, Los Angeles, Califo...</td>\n",
       "      <td>The Stoneman family finds its friendship with ...</td>\n",
       "      <td>6.3</td>\n",
       "      <td>https://m.media-amazon.com/images/M/MV5BYTM4ZD...</td>\n",
       "    </tr>\n",
       "    <tr>\n",
       "      <th>1</th>\n",
       "      <td>tt0006333</td>\n",
       "      <td>20,000 Leagues Under the Sea</td>\n",
       "      <td>[Action, Adventure, Sci-Fi]</td>\n",
       "      <td>1916.0</td>\n",
       "      <td>[Allen Holubar, Dan Hanlon, Edna Pendleton, Cu...</td>\n",
       "      <td>[Stuart Paton]</td>\n",
       "      <td>[]</td>\n",
       "      <td>[national-film-registry, public-domain, based-...</td>\n",
       "      <td>[Bahamas, California, Universal City, USA, New...</td>\n",
       "      <td>A French professor and his daughter accompany ...</td>\n",
       "      <td>6.2</td>\n",
       "      <td>https://m.media-amazon.com/images/M/MV5BMTQ0OT...</td>\n",
       "    </tr>\n",
       "  </tbody>\n",
       "</table>\n",
       "</div>"
      ],
      "text/plain": [
       "     titleId                 originalTitle                       genres  \\\n",
       "0  tt0004972         The Birth of a Nation        [Drama, History, War]   \n",
       "1  tt0006333  20,000 Leagues Under the Sea  [Action, Adventure, Sci-Fi]   \n",
       "\n",
       "     year                                             Actors        Directors  \\\n",
       "0  1915.0  [Lillian Gish, Mae Marsh, Henry B. Walthall, M...  [D.W. Griffith]   \n",
       "1  1916.0  [Allen Holubar, Dan Hanlon, Edna Pendleton, Cu...   [Stuart Paton]   \n",
       "\n",
       "  Producers                                            keyword  \\\n",
       "0        []  [ku-klux-klan, civil-war, reconstruction-era, ...   \n",
       "1        []  [national-film-registry, public-domain, based-...   \n",
       "\n",
       "                                            location  \\\n",
       "0  [Thousand Oaks, Fullerton, Los Angeles, Califo...   \n",
       "1  [Bahamas, California, Universal City, USA, New...   \n",
       "\n",
       "                                                plot  rating  \\\n",
       "0  The Stoneman family finds its friendship with ...     6.3   \n",
       "1  A French professor and his daughter accompany ...     6.2   \n",
       "\n",
       "                                          poster_url  \n",
       "0  https://m.media-amazon.com/images/M/MV5BYTM4ZD...  \n",
       "1  https://m.media-amazon.com/images/M/MV5BMTQ0OT...  "
      ]
     },
     "execution_count": 56,
     "metadata": {},
     "output_type": "execute_result"
    }
   ],
   "source": [
    "df_meta_small.head(2)"
   ]
  },
  {
   "cell_type": "code",
   "execution_count": 57,
   "id": "6f57548a",
   "metadata": {},
   "outputs": [],
   "source": [
    "df_meta_small.to_parquet('s3://mlsl-imdb-data/imdb_ml_10k_posters.parquet', index=False)"
   ]
  },
  {
   "cell_type": "markdown",
   "id": "5d5e05b4",
   "metadata": {},
   "source": [
    "Preprocessed data will be sent back to s3"
   ]
  }
 ],
 "metadata": {
  "kernelspec": {
   "display_name": "conda_python3",
   "language": "python",
   "name": "conda_python3"
  },
  "language_info": {
   "codemirror_mode": {
    "name": "ipython",
    "version": 3
   },
   "file_extension": ".py",
   "mimetype": "text/x-python",
   "name": "python",
   "nbconvert_exporter": "python",
   "pygments_lexer": "ipython3",
   "version": "3.10.8"
  }
 },
 "nbformat": 4,
 "nbformat_minor": 5
}
