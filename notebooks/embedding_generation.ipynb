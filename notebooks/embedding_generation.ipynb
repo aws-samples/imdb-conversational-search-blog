{
 "cells": [
  {
   "cell_type": "code",
   "execution_count": 1,
   "id": "b4d9c581-2d91-47a8-b19d-b99f94d15a55",
   "metadata": {},
   "outputs": [],
   "source": [
    "# !pip install pyarrow -q\n",
    "# !pip install fastparquet -q"
   ]
  },
  {
   "cell_type": "markdown",
   "id": "2ae33de5-a322-49af-9365-76213070fbf2",
   "metadata": {},
   "source": [
    "The goal of notebook is as follows:\n",
    "1. we augment the imdb information with the metadata in movielens-20m dataset from https://grouplens.org/datasets/movielens/\n",
    "2. we develop embedding of unified imdb meta from all sources.\n"
   ]
  },
  {
   "cell_type": "code",
   "execution_count": 1,
   "id": "773e2b39-4b24-4457-a77b-a1c104d54e9e",
   "metadata": {
    "tags": []
   },
   "outputs": [],
   "source": [
    "import pandas as pd\n",
    "import numpy as np"
   ]
  },
  {
   "cell_type": "code",
   "execution_count": 2,
   "id": "c66bed6d-723d-47bf-8196-06000fb39a34",
   "metadata": {},
   "outputs": [],
   "source": [
    "movies = pd.read_parquet('s3://mlsl-imdb-data/imdb_ml_10k_posters.parquet')"
   ]
  },
  {
   "cell_type": "code",
   "execution_count": 3,
   "id": "ddf04f09-7e16-4010-b397-a6e4bcde7a33",
   "metadata": {},
   "outputs": [
    {
     "data": {
      "text/html": [
       "<div>\n",
       "<style scoped>\n",
       "    .dataframe tbody tr th:only-of-type {\n",
       "        vertical-align: middle;\n",
       "    }\n",
       "\n",
       "    .dataframe tbody tr th {\n",
       "        vertical-align: top;\n",
       "    }\n",
       "\n",
       "    .dataframe thead th {\n",
       "        text-align: right;\n",
       "    }\n",
       "</style>\n",
       "<table border=\"1\" class=\"dataframe\">\n",
       "  <thead>\n",
       "    <tr style=\"text-align: right;\">\n",
       "      <th></th>\n",
       "      <th>titleId</th>\n",
       "      <th>originalTitle</th>\n",
       "      <th>genres</th>\n",
       "      <th>year</th>\n",
       "      <th>Actors</th>\n",
       "      <th>Directors</th>\n",
       "      <th>Producers</th>\n",
       "      <th>keyword</th>\n",
       "      <th>location</th>\n",
       "      <th>plot</th>\n",
       "      <th>rating</th>\n",
       "      <th>poster_url</th>\n",
       "    </tr>\n",
       "  </thead>\n",
       "  <tbody>\n",
       "    <tr>\n",
       "      <th>0</th>\n",
       "      <td>tt0004972</td>\n",
       "      <td>The Birth of a Nation</td>\n",
       "      <td>[Drama, History, War]</td>\n",
       "      <td>1915.0</td>\n",
       "      <td>[Lillian Gish, Mae Marsh, Henry B. Walthall, M...</td>\n",
       "      <td>[D.W. Griffith]</td>\n",
       "      <td>[]</td>\n",
       "      <td>[ku-klux-klan, civil-war, reconstruction-era, ...</td>\n",
       "      <td>[Thousand Oaks, Fullerton, Los Angeles, Califo...</td>\n",
       "      <td>The Stoneman family finds its friendship with ...</td>\n",
       "      <td>6.3</td>\n",
       "      <td>https://m.media-amazon.com/images/M/MV5BYTM4ZD...</td>\n",
       "    </tr>\n",
       "    <tr>\n",
       "      <th>1</th>\n",
       "      <td>tt0006333</td>\n",
       "      <td>20,000 Leagues Under the Sea</td>\n",
       "      <td>[Action, Adventure, Sci-Fi]</td>\n",
       "      <td>1916.0</td>\n",
       "      <td>[Allen Holubar, Dan Hanlon, Edna Pendleton, Cu...</td>\n",
       "      <td>[Stuart Paton]</td>\n",
       "      <td>[]</td>\n",
       "      <td>[national-film-registry, public-domain, based-...</td>\n",
       "      <td>[Bahamas, California, Universal City, USA, New...</td>\n",
       "      <td>A French professor and his daughter accompany ...</td>\n",
       "      <td>6.2</td>\n",
       "      <td>https://m.media-amazon.com/images/M/MV5BMTQ0OT...</td>\n",
       "    </tr>\n",
       "  </tbody>\n",
       "</table>\n",
       "</div>"
      ],
      "text/plain": [
       "     titleId                 originalTitle                       genres  \\\n",
       "0  tt0004972         The Birth of a Nation        [Drama, History, War]   \n",
       "1  tt0006333  20,000 Leagues Under the Sea  [Action, Adventure, Sci-Fi]   \n",
       "\n",
       "     year                                             Actors        Directors  \\\n",
       "0  1915.0  [Lillian Gish, Mae Marsh, Henry B. Walthall, M...  [D.W. Griffith]   \n",
       "1  1916.0  [Allen Holubar, Dan Hanlon, Edna Pendleton, Cu...   [Stuart Paton]   \n",
       "\n",
       "  Producers                                            keyword  \\\n",
       "0        []  [ku-klux-klan, civil-war, reconstruction-era, ...   \n",
       "1        []  [national-film-registry, public-domain, based-...   \n",
       "\n",
       "                                            location  \\\n",
       "0  [Thousand Oaks, Fullerton, Los Angeles, Califo...   \n",
       "1  [Bahamas, California, Universal City, USA, New...   \n",
       "\n",
       "                                                plot  rating  \\\n",
       "0  The Stoneman family finds its friendship with ...     6.3   \n",
       "1  A French professor and his daughter accompany ...     6.2   \n",
       "\n",
       "                                          poster_url  \n",
       "0  https://m.media-amazon.com/images/M/MV5BYTM4ZD...  \n",
       "1  https://m.media-amazon.com/images/M/MV5BMTQ0OT...  "
      ]
     },
     "execution_count": 3,
     "metadata": {},
     "output_type": "execute_result"
    }
   ],
   "source": [
    "movies.head(2)"
   ]
  },
  {
   "cell_type": "code",
   "execution_count": 4,
   "id": "d55b3900-d3db-4800-8ff4-bf00e468ec6b",
   "metadata": {},
   "outputs": [],
   "source": [
    "keyword_scores = pd.read_csv('../data/ml-20m/genome-scores.csv')\n",
    "keyword_tags = pd.read_csv('../data/ml-20m/genome-tags.csv')"
   ]
  },
  {
   "cell_type": "code",
   "execution_count": 5,
   "id": "37a7d6a4-b5d6-4e02-a874-fa84fbe6051d",
   "metadata": {},
   "outputs": [
    {
     "data": {
      "text/html": [
       "<div>\n",
       "<style scoped>\n",
       "    .dataframe tbody tr th:only-of-type {\n",
       "        vertical-align: middle;\n",
       "    }\n",
       "\n",
       "    .dataframe tbody tr th {\n",
       "        vertical-align: top;\n",
       "    }\n",
       "\n",
       "    .dataframe thead th {\n",
       "        text-align: right;\n",
       "    }\n",
       "</style>\n",
       "<table border=\"1\" class=\"dataframe\">\n",
       "  <thead>\n",
       "    <tr style=\"text-align: right;\">\n",
       "      <th></th>\n",
       "      <th>movieId</th>\n",
       "      <th>tagId</th>\n",
       "      <th>relevance</th>\n",
       "    </tr>\n",
       "  </thead>\n",
       "  <tbody>\n",
       "    <tr>\n",
       "      <th>0</th>\n",
       "      <td>1</td>\n",
       "      <td>1</td>\n",
       "      <td>0.025</td>\n",
       "    </tr>\n",
       "    <tr>\n",
       "      <th>1</th>\n",
       "      <td>1</td>\n",
       "      <td>2</td>\n",
       "      <td>0.025</td>\n",
       "    </tr>\n",
       "  </tbody>\n",
       "</table>\n",
       "</div>"
      ],
      "text/plain": [
       "   movieId  tagId  relevance\n",
       "0        1      1      0.025\n",
       "1        1      2      0.025"
      ]
     },
     "execution_count": 5,
     "metadata": {},
     "output_type": "execute_result"
    }
   ],
   "source": [
    "keyword_scores.head(2)"
   ]
  },
  {
   "cell_type": "code",
   "execution_count": 6,
   "id": "af181b77-b835-4466-8ab5-c780009ef1a0",
   "metadata": {},
   "outputs": [
    {
     "data": {
      "text/html": [
       "<div>\n",
       "<style scoped>\n",
       "    .dataframe tbody tr th:only-of-type {\n",
       "        vertical-align: middle;\n",
       "    }\n",
       "\n",
       "    .dataframe tbody tr th {\n",
       "        vertical-align: top;\n",
       "    }\n",
       "\n",
       "    .dataframe thead th {\n",
       "        text-align: right;\n",
       "    }\n",
       "</style>\n",
       "<table border=\"1\" class=\"dataframe\">\n",
       "  <thead>\n",
       "    <tr style=\"text-align: right;\">\n",
       "      <th></th>\n",
       "      <th>tagId</th>\n",
       "      <th>tag</th>\n",
       "    </tr>\n",
       "  </thead>\n",
       "  <tbody>\n",
       "    <tr>\n",
       "      <th>0</th>\n",
       "      <td>1</td>\n",
       "      <td>007</td>\n",
       "    </tr>\n",
       "    <tr>\n",
       "      <th>1</th>\n",
       "      <td>2</td>\n",
       "      <td>007 (series)</td>\n",
       "    </tr>\n",
       "  </tbody>\n",
       "</table>\n",
       "</div>"
      ],
      "text/plain": [
       "   tagId           tag\n",
       "0      1           007\n",
       "1      2  007 (series)"
      ]
     },
     "execution_count": 6,
     "metadata": {},
     "output_type": "execute_result"
    }
   ],
   "source": [
    "keyword_tags.head(2)"
   ]
  },
  {
   "cell_type": "code",
   "execution_count": 7,
   "id": "98baa623-d6cd-40bf-9a7b-fa5037611293",
   "metadata": {},
   "outputs": [],
   "source": [
    "keyword_tags_dict = {}\n",
    "for row in keyword_tags.itertuples():\n",
    "    keyword_tags_dict[row.tagId] = row.tag"
   ]
  },
  {
   "cell_type": "code",
   "execution_count": 8,
   "id": "921cbad4-abed-477c-9484-5cf39b24827a",
   "metadata": {},
   "outputs": [],
   "source": [
    "keyword_scores = keyword_scores[keyword_scores.relevance>0.7]"
   ]
  },
  {
   "cell_type": "code",
   "execution_count": 9,
   "id": "64c3a1f4-bbfd-4d9b-8340-8a5ebc98f373",
   "metadata": {},
   "outputs": [],
   "source": [
    "keyword_scores['keyword'] =  keyword_scores['tagId'].apply(lambda x: keyword_tags_dict[x])"
   ]
  },
  {
   "cell_type": "code",
   "execution_count": 10,
   "id": "96c07bdb-b47d-41b0-94d4-a83acc579046",
   "metadata": {},
   "outputs": [
    {
     "data": {
      "text/html": [
       "<div>\n",
       "<style scoped>\n",
       "    .dataframe tbody tr th:only-of-type {\n",
       "        vertical-align: middle;\n",
       "    }\n",
       "\n",
       "    .dataframe tbody tr th {\n",
       "        vertical-align: top;\n",
       "    }\n",
       "\n",
       "    .dataframe thead th {\n",
       "        text-align: right;\n",
       "    }\n",
       "</style>\n",
       "<table border=\"1\" class=\"dataframe\">\n",
       "  <thead>\n",
       "    <tr style=\"text-align: right;\">\n",
       "      <th></th>\n",
       "      <th>movieId</th>\n",
       "      <th>tagId</th>\n",
       "      <th>relevance</th>\n",
       "      <th>keyword</th>\n",
       "    </tr>\n",
       "  </thead>\n",
       "  <tbody>\n",
       "    <tr>\n",
       "      <th>28</th>\n",
       "      <td>1</td>\n",
       "      <td>29</td>\n",
       "      <td>0.89200</td>\n",
       "      <td>adventure</td>\n",
       "    </tr>\n",
       "    <tr>\n",
       "      <th>62</th>\n",
       "      <td>1</td>\n",
       "      <td>63</td>\n",
       "      <td>0.93325</td>\n",
       "      <td>animated</td>\n",
       "    </tr>\n",
       "    <tr>\n",
       "      <th>63</th>\n",
       "      <td>1</td>\n",
       "      <td>64</td>\n",
       "      <td>0.98575</td>\n",
       "      <td>animation</td>\n",
       "    </tr>\n",
       "    <tr>\n",
       "      <th>185</th>\n",
       "      <td>1</td>\n",
       "      <td>186</td>\n",
       "      <td>0.95650</td>\n",
       "      <td>cartoon</td>\n",
       "    </tr>\n",
       "    <tr>\n",
       "      <th>192</th>\n",
       "      <td>1</td>\n",
       "      <td>193</td>\n",
       "      <td>0.81925</td>\n",
       "      <td>cgi</td>\n",
       "    </tr>\n",
       "    <tr>\n",
       "      <th>...</th>\n",
       "      <td>...</td>\n",
       "      <td>...</td>\n",
       "      <td>...</td>\n",
       "      <td>...</td>\n",
       "    </tr>\n",
       "    <tr>\n",
       "      <th>11709637</th>\n",
       "      <td>131170</td>\n",
       "      <td>998</td>\n",
       "      <td>0.80550</td>\n",
       "      <td>survival</td>\n",
       "    </tr>\n",
       "    <tr>\n",
       "      <th>11709638</th>\n",
       "      <td>131170</td>\n",
       "      <td>999</td>\n",
       "      <td>0.81525</td>\n",
       "      <td>suspense</td>\n",
       "    </tr>\n",
       "    <tr>\n",
       "      <th>11709651</th>\n",
       "      <td>131170</td>\n",
       "      <td>1012</td>\n",
       "      <td>0.85725</td>\n",
       "      <td>technology</td>\n",
       "    </tr>\n",
       "    <tr>\n",
       "      <th>11709690</th>\n",
       "      <td>131170</td>\n",
       "      <td>1051</td>\n",
       "      <td>0.74175</td>\n",
       "      <td>twists &amp; turns</td>\n",
       "    </tr>\n",
       "    <tr>\n",
       "      <th>11709743</th>\n",
       "      <td>131170</td>\n",
       "      <td>1104</td>\n",
       "      <td>0.70550</td>\n",
       "      <td>weird</td>\n",
       "    </tr>\n",
       "  </tbody>\n",
       "</table>\n",
       "<p>183045 rows × 4 columns</p>\n",
       "</div>"
      ],
      "text/plain": [
       "          movieId  tagId  relevance         keyword\n",
       "28              1     29    0.89200       adventure\n",
       "62              1     63    0.93325        animated\n",
       "63              1     64    0.98575       animation\n",
       "185             1    186    0.95650         cartoon\n",
       "192             1    193    0.81925             cgi\n",
       "...           ...    ...        ...             ...\n",
       "11709637   131170    998    0.80550        survival\n",
       "11709638   131170    999    0.81525        suspense\n",
       "11709651   131170   1012    0.85725      technology\n",
       "11709690   131170   1051    0.74175  twists & turns\n",
       "11709743   131170   1104    0.70550           weird\n",
       "\n",
       "[183045 rows x 4 columns]"
      ]
     },
     "execution_count": 10,
     "metadata": {},
     "output_type": "execute_result"
    }
   ],
   "source": [
    "keyword_scores"
   ]
  },
  {
   "cell_type": "code",
   "execution_count": 11,
   "id": "0d46a117-d032-4270-a72f-bfcbc2a58626",
   "metadata": {},
   "outputs": [
    {
     "data": {
      "text/html": [
       "<div>\n",
       "<style scoped>\n",
       "    .dataframe tbody tr th:only-of-type {\n",
       "        vertical-align: middle;\n",
       "    }\n",
       "\n",
       "    .dataframe tbody tr th {\n",
       "        vertical-align: top;\n",
       "    }\n",
       "\n",
       "    .dataframe thead th {\n",
       "        text-align: right;\n",
       "    }\n",
       "</style>\n",
       "<table border=\"1\" class=\"dataframe\">\n",
       "  <thead>\n",
       "    <tr style=\"text-align: right;\">\n",
       "      <th></th>\n",
       "      <th>movieId</th>\n",
       "      <th>imdbId</th>\n",
       "      <th>tmdbId</th>\n",
       "    </tr>\n",
       "  </thead>\n",
       "  <tbody>\n",
       "    <tr>\n",
       "      <th>0</th>\n",
       "      <td>1</td>\n",
       "      <td>114709</td>\n",
       "      <td>862.0</td>\n",
       "    </tr>\n",
       "    <tr>\n",
       "      <th>1</th>\n",
       "      <td>2</td>\n",
       "      <td>113497</td>\n",
       "      <td>8844.0</td>\n",
       "    </tr>\n",
       "  </tbody>\n",
       "</table>\n",
       "</div>"
      ],
      "text/plain": [
       "   movieId  imdbId  tmdbId\n",
       "0        1  114709   862.0\n",
       "1        2  113497  8844.0"
      ]
     },
     "execution_count": 11,
     "metadata": {},
     "output_type": "execute_result"
    }
   ],
   "source": [
    "links = pd.read_csv('../data/ml-latest-small/links.csv')\n",
    "links.head(2)"
   ]
  },
  {
   "cell_type": "code",
   "execution_count": 12,
   "id": "2fca33df-c72b-4f93-baf0-488cd950464b",
   "metadata": {},
   "outputs": [],
   "source": [
    "movieId_dict = {}\n",
    "for row in links.itertuples():\n",
    "    movieId_dict[row.movieId] = row.imdbId"
   ]
  },
  {
   "cell_type": "code",
   "execution_count": 13,
   "id": "8d0450b1-e228-454c-91d9-021200d7d463",
   "metadata": {},
   "outputs": [],
   "source": [
    "keyword_scores['imdbId'] = keyword_scores['movieId'].apply(lambda x: movieId_dict[x] if x in movieId_dict else -1)"
   ]
  },
  {
   "cell_type": "code",
   "execution_count": 14,
   "id": "4e4cf512-db85-40a3-a888-2833620e7ad7",
   "metadata": {},
   "outputs": [
    {
     "data": {
      "text/html": [
       "<div>\n",
       "<style scoped>\n",
       "    .dataframe tbody tr th:only-of-type {\n",
       "        vertical-align: middle;\n",
       "    }\n",
       "\n",
       "    .dataframe tbody tr th {\n",
       "        vertical-align: top;\n",
       "    }\n",
       "\n",
       "    .dataframe thead th {\n",
       "        text-align: right;\n",
       "    }\n",
       "</style>\n",
       "<table border=\"1\" class=\"dataframe\">\n",
       "  <thead>\n",
       "    <tr style=\"text-align: right;\">\n",
       "      <th></th>\n",
       "      <th>movieId</th>\n",
       "      <th>tagId</th>\n",
       "      <th>relevance</th>\n",
       "      <th>keyword</th>\n",
       "      <th>imdbId</th>\n",
       "    </tr>\n",
       "  </thead>\n",
       "  <tbody>\n",
       "    <tr>\n",
       "      <th>28</th>\n",
       "      <td>1</td>\n",
       "      <td>29</td>\n",
       "      <td>0.89200</td>\n",
       "      <td>adventure</td>\n",
       "      <td>114709</td>\n",
       "    </tr>\n",
       "    <tr>\n",
       "      <th>62</th>\n",
       "      <td>1</td>\n",
       "      <td>63</td>\n",
       "      <td>0.93325</td>\n",
       "      <td>animated</td>\n",
       "      <td>114709</td>\n",
       "    </tr>\n",
       "  </tbody>\n",
       "</table>\n",
       "</div>"
      ],
      "text/plain": [
       "    movieId  tagId  relevance    keyword  imdbId\n",
       "28        1     29    0.89200  adventure  114709\n",
       "62        1     63    0.93325   animated  114709"
      ]
     },
     "execution_count": 14,
     "metadata": {},
     "output_type": "execute_result"
    }
   ],
   "source": [
    "keyword_scores = keyword_scores[keyword_scores.imdbId!=-1]\n",
    "keyword_scores.head(2)"
   ]
  },
  {
   "cell_type": "code",
   "execution_count": 15,
   "id": "61badd17-a4b3-4182-afea-8e96b0618cbe",
   "metadata": {},
   "outputs": [],
   "source": [
    "ml_ttid = list(set(links.imdbId.apply(lambda x: \"{:07d}\".format(x))))\n",
    "ml_ttid = ['tt'+ttid for ttid in ml_ttid]"
   ]
  },
  {
   "cell_type": "code",
   "execution_count": 16,
   "id": "d79a79ee-f48d-4837-9da2-356430da5bf3",
   "metadata": {},
   "outputs": [
    {
     "name": "stderr",
     "output_type": "stream",
     "text": [
      "/tmp/ipykernel_3550/4117645898.py:1: SettingWithCopyWarning: \n",
      "A value is trying to be set on a copy of a slice from a DataFrame.\n",
      "Try using .loc[row_indexer,col_indexer] = value instead\n",
      "\n",
      "See the caveats in the documentation: https://pandas.pydata.org/pandas-docs/stable/user_guide/indexing.html#returning-a-view-versus-a-copy\n",
      "  keyword_scores['imdbId'] = keyword_scores['imdbId'].apply(lambda x:  \"tt{:07d}\".format(x))\n"
     ]
    },
    {
     "data": {
      "text/html": [
       "<div>\n",
       "<style scoped>\n",
       "    .dataframe tbody tr th:only-of-type {\n",
       "        vertical-align: middle;\n",
       "    }\n",
       "\n",
       "    .dataframe tbody tr th {\n",
       "        vertical-align: top;\n",
       "    }\n",
       "\n",
       "    .dataframe thead th {\n",
       "        text-align: right;\n",
       "    }\n",
       "</style>\n",
       "<table border=\"1\" class=\"dataframe\">\n",
       "  <thead>\n",
       "    <tr style=\"text-align: right;\">\n",
       "      <th></th>\n",
       "      <th>movieId</th>\n",
       "      <th>tagId</th>\n",
       "      <th>relevance</th>\n",
       "      <th>keyword</th>\n",
       "      <th>imdbId</th>\n",
       "    </tr>\n",
       "  </thead>\n",
       "  <tbody>\n",
       "    <tr>\n",
       "      <th>28</th>\n",
       "      <td>1</td>\n",
       "      <td>29</td>\n",
       "      <td>0.89200</td>\n",
       "      <td>adventure</td>\n",
       "      <td>tt0114709</td>\n",
       "    </tr>\n",
       "    <tr>\n",
       "      <th>62</th>\n",
       "      <td>1</td>\n",
       "      <td>63</td>\n",
       "      <td>0.93325</td>\n",
       "      <td>animated</td>\n",
       "      <td>tt0114709</td>\n",
       "    </tr>\n",
       "  </tbody>\n",
       "</table>\n",
       "</div>"
      ],
      "text/plain": [
       "    movieId  tagId  relevance    keyword     imdbId\n",
       "28        1     29    0.89200  adventure  tt0114709\n",
       "62        1     63    0.93325   animated  tt0114709"
      ]
     },
     "execution_count": 16,
     "metadata": {},
     "output_type": "execute_result"
    }
   ],
   "source": [
    "keyword_scores['imdbId'] = keyword_scores['imdbId'].apply(lambda x:  \"tt{:07d}\".format(x))\n",
    "keyword_scores.head(2)"
   ]
  },
  {
   "cell_type": "code",
   "execution_count": 17,
   "id": "85b11148-412a-4a7b-abd2-438d516e13ac",
   "metadata": {},
   "outputs": [],
   "source": [
    "keyword_scores = keyword_scores.groupby('imdbId')['keyword'].apply(list).reset_index()"
   ]
  },
  {
   "cell_type": "code",
   "execution_count": 18,
   "id": "1ad6b402-aac8-4fa4-9be9-dcb1b6083e57",
   "metadata": {},
   "outputs": [
    {
     "data": {
      "text/html": [
       "<div>\n",
       "<style scoped>\n",
       "    .dataframe tbody tr th:only-of-type {\n",
       "        vertical-align: middle;\n",
       "    }\n",
       "\n",
       "    .dataframe tbody tr th {\n",
       "        vertical-align: top;\n",
       "    }\n",
       "\n",
       "    .dataframe thead th {\n",
       "        text-align: right;\n",
       "    }\n",
       "</style>\n",
       "<table border=\"1\" class=\"dataframe\">\n",
       "  <thead>\n",
       "    <tr style=\"text-align: right;\">\n",
       "      <th></th>\n",
       "      <th>imdbId</th>\n",
       "      <th>keyword</th>\n",
       "    </tr>\n",
       "  </thead>\n",
       "  <tbody>\n",
       "    <tr>\n",
       "      <th>0</th>\n",
       "      <td>tt0000417</td>\n",
       "      <td>[aliens, artistic, astronauts, black and white...</td>\n",
       "    </tr>\n",
       "    <tr>\n",
       "      <th>1</th>\n",
       "      <td>tt0004972</td>\n",
       "      <td>[american civil war, civil war, controversial,...</td>\n",
       "    </tr>\n",
       "  </tbody>\n",
       "</table>\n",
       "</div>"
      ],
      "text/plain": [
       "      imdbId                                            keyword\n",
       "0  tt0000417  [aliens, artistic, astronauts, black and white...\n",
       "1  tt0004972  [american civil war, civil war, controversial,..."
      ]
     },
     "execution_count": 18,
     "metadata": {},
     "output_type": "execute_result"
    }
   ],
   "source": [
    "keyword_scores.head(2)"
   ]
  },
  {
   "cell_type": "code",
   "execution_count": 19,
   "id": "9d58e0ad-73a3-4c5a-8735-6e278338ada0",
   "metadata": {},
   "outputs": [],
   "source": [
    "keyword_scores_dict = {}\n",
    "for row in keyword_scores.itertuples():\n",
    "    keyword_scores_dict[row.imdbId] = row.keyword"
   ]
  },
  {
   "cell_type": "code",
   "execution_count": 20,
   "id": "1022585a-da23-4bb2-ac73-84dc4db8df00",
   "metadata": {},
   "outputs": [],
   "source": [
    "movies['ml_keyword'] = movies['titleId'].apply(lambda x: list(set(keyword_scores_dict[x])) if x in keyword_scores_dict else None)"
   ]
  },
  {
   "cell_type": "code",
   "execution_count": 21,
   "id": "bd3345d7-2baa-41ee-99bb-a53ec760dd4f",
   "metadata": {},
   "outputs": [
    {
     "data": {
      "text/html": [
       "<div>\n",
       "<style scoped>\n",
       "    .dataframe tbody tr th:only-of-type {\n",
       "        vertical-align: middle;\n",
       "    }\n",
       "\n",
       "    .dataframe tbody tr th {\n",
       "        vertical-align: top;\n",
       "    }\n",
       "\n",
       "    .dataframe thead th {\n",
       "        text-align: right;\n",
       "    }\n",
       "</style>\n",
       "<table border=\"1\" class=\"dataframe\">\n",
       "  <thead>\n",
       "    <tr style=\"text-align: right;\">\n",
       "      <th></th>\n",
       "      <th>titleId</th>\n",
       "      <th>originalTitle</th>\n",
       "      <th>genres</th>\n",
       "      <th>year</th>\n",
       "      <th>Actors</th>\n",
       "      <th>Directors</th>\n",
       "      <th>Producers</th>\n",
       "      <th>keyword</th>\n",
       "      <th>location</th>\n",
       "      <th>plot</th>\n",
       "      <th>rating</th>\n",
       "      <th>poster_url</th>\n",
       "      <th>ml_keyword</th>\n",
       "    </tr>\n",
       "  </thead>\n",
       "  <tbody>\n",
       "    <tr>\n",
       "      <th>0</th>\n",
       "      <td>tt0004972</td>\n",
       "      <td>The Birth of a Nation</td>\n",
       "      <td>[Drama, History, War]</td>\n",
       "      <td>1915.0</td>\n",
       "      <td>[Lillian Gish, Mae Marsh, Henry B. Walthall, M...</td>\n",
       "      <td>[D.W. Griffith]</td>\n",
       "      <td>[]</td>\n",
       "      <td>[ku-klux-klan, civil-war, reconstruction-era, ...</td>\n",
       "      <td>[Thousand Oaks, Fullerton, Los Angeles, Califo...</td>\n",
       "      <td>The Stoneman family finds its friendship with ...</td>\n",
       "      <td>6.3</td>\n",
       "      <td>https://m.media-amazon.com/images/M/MV5BYTM4ZD...</td>\n",
       "      <td>[silent, controversial, american civil war, in...</td>\n",
       "    </tr>\n",
       "    <tr>\n",
       "      <th>1</th>\n",
       "      <td>tt0006333</td>\n",
       "      <td>20,000 Leagues Under the Sea</td>\n",
       "      <td>[Action, Adventure, Sci-Fi]</td>\n",
       "      <td>1916.0</td>\n",
       "      <td>[Allen Holubar, Dan Hanlon, Edna Pendleton, Cu...</td>\n",
       "      <td>[Stuart Paton]</td>\n",
       "      <td>[]</td>\n",
       "      <td>[national-film-registry, public-domain, based-...</td>\n",
       "      <td>[Bahamas, California, Universal City, USA, New...</td>\n",
       "      <td>A French professor and his daughter accompany ...</td>\n",
       "      <td>6.2</td>\n",
       "      <td>https://m.media-amazon.com/images/M/MV5BMTQ0OT...</td>\n",
       "      <td>None</td>\n",
       "    </tr>\n",
       "  </tbody>\n",
       "</table>\n",
       "</div>"
      ],
      "text/plain": [
       "     titleId                 originalTitle                       genres  \\\n",
       "0  tt0004972         The Birth of a Nation        [Drama, History, War]   \n",
       "1  tt0006333  20,000 Leagues Under the Sea  [Action, Adventure, Sci-Fi]   \n",
       "\n",
       "     year                                             Actors        Directors  \\\n",
       "0  1915.0  [Lillian Gish, Mae Marsh, Henry B. Walthall, M...  [D.W. Griffith]   \n",
       "1  1916.0  [Allen Holubar, Dan Hanlon, Edna Pendleton, Cu...   [Stuart Paton]   \n",
       "\n",
       "  Producers                                            keyword  \\\n",
       "0        []  [ku-klux-klan, civil-war, reconstruction-era, ...   \n",
       "1        []  [national-film-registry, public-domain, based-...   \n",
       "\n",
       "                                            location  \\\n",
       "0  [Thousand Oaks, Fullerton, Los Angeles, Califo...   \n",
       "1  [Bahamas, California, Universal City, USA, New...   \n",
       "\n",
       "                                                plot  rating  \\\n",
       "0  The Stoneman family finds its friendship with ...     6.3   \n",
       "1  A French professor and his daughter accompany ...     6.2   \n",
       "\n",
       "                                          poster_url  \\\n",
       "0  https://m.media-amazon.com/images/M/MV5BYTM4ZD...   \n",
       "1  https://m.media-amazon.com/images/M/MV5BMTQ0OT...   \n",
       "\n",
       "                                          ml_keyword  \n",
       "0  [silent, controversial, american civil war, in...  \n",
       "1                                               None  "
      ]
     },
     "execution_count": 21,
     "metadata": {},
     "output_type": "execute_result"
    }
   ],
   "source": [
    "movies.head(2)"
   ]
  },
  {
   "cell_type": "code",
   "execution_count": 22,
   "id": "3a07479e-a7ff-4e25-8903-3a680a8232e8",
   "metadata": {},
   "outputs": [],
   "source": [
    "movies['plot'].fillna('', inplace=True)"
   ]
  },
  {
   "cell_type": "code",
   "execution_count": 23,
   "id": "1fc85921-59e8-475f-b2cd-107be304fa11",
   "metadata": {},
   "outputs": [],
   "source": [
    "movies['genres'].fillna('', inplace=True)\n",
    "movies['keyword'].fillna('', inplace=True)"
   ]
  },
  {
   "cell_type": "code",
   "execution_count": 24,
   "id": "0293ddad-9d73-46be-8b66-84e3278fc791",
   "metadata": {},
   "outputs": [],
   "source": [
    "movies['ml_keyword']= movies['ml_keyword'].apply(lambda x: x[0:10] if x is not None else [])\n",
    "movies['keyword']= movies['keyword'].apply(lambda x: x[0:10] if x is not None else [])"
   ]
  },
  {
   "cell_type": "code",
   "execution_count": 25,
   "id": "fa439d28-830f-4cab-bedb-e4cf866e0844",
   "metadata": {},
   "outputs": [],
   "source": [
    "movies['all_keywords'] = movies.apply(lambda x: x['genres'].tolist()+x['ml_keyword'][0:10]+x['keyword'][0:10].tolist(), axis=1)"
   ]
  },
  {
   "cell_type": "code",
   "execution_count": 26,
   "id": "e0de2776-f0dc-4e41-a101-16b6297a43ae",
   "metadata": {},
   "outputs": [],
   "source": [
    "movies['all_keywords']  =  movies['all_keywords'].apply(lambda x: ','.join(x))"
   ]
  },
  {
   "cell_type": "code",
   "execution_count": 27,
   "id": "ff1a5569-d28a-4277-aa3a-59fc1f88eb8e",
   "metadata": {},
   "outputs": [
    {
     "data": {
      "text/html": [
       "<div>\n",
       "<style scoped>\n",
       "    .dataframe tbody tr th:only-of-type {\n",
       "        vertical-align: middle;\n",
       "    }\n",
       "\n",
       "    .dataframe tbody tr th {\n",
       "        vertical-align: top;\n",
       "    }\n",
       "\n",
       "    .dataframe thead th {\n",
       "        text-align: right;\n",
       "    }\n",
       "</style>\n",
       "<table border=\"1\" class=\"dataframe\">\n",
       "  <thead>\n",
       "    <tr style=\"text-align: right;\">\n",
       "      <th></th>\n",
       "      <th>titleId</th>\n",
       "      <th>originalTitle</th>\n",
       "      <th>genres</th>\n",
       "      <th>year</th>\n",
       "      <th>Actors</th>\n",
       "      <th>Directors</th>\n",
       "      <th>Producers</th>\n",
       "      <th>keyword</th>\n",
       "      <th>location</th>\n",
       "      <th>plot</th>\n",
       "      <th>rating</th>\n",
       "      <th>poster_url</th>\n",
       "      <th>ml_keyword</th>\n",
       "      <th>all_keywords</th>\n",
       "    </tr>\n",
       "  </thead>\n",
       "  <tbody>\n",
       "    <tr>\n",
       "      <th>0</th>\n",
       "      <td>tt0004972</td>\n",
       "      <td>The Birth of a Nation</td>\n",
       "      <td>[Drama, History, War]</td>\n",
       "      <td>1915.0</td>\n",
       "      <td>[Lillian Gish, Mae Marsh, Henry B. Walthall, M...</td>\n",
       "      <td>[D.W. Griffith]</td>\n",
       "      <td>[]</td>\n",
       "      <td>[ku-klux-klan, civil-war, reconstruction-era, ...</td>\n",
       "      <td>[Thousand Oaks, Fullerton, Los Angeles, Califo...</td>\n",
       "      <td>The Stoneman family finds its friendship with ...</td>\n",
       "      <td>6.3</td>\n",
       "      <td>https://m.media-amazon.com/images/M/MV5BYTM4ZD...</td>\n",
       "      <td>[silent, controversial, american civil war, in...</td>\n",
       "      <td>Drama,History,War,silent,controversial,america...</td>\n",
       "    </tr>\n",
       "    <tr>\n",
       "      <th>1</th>\n",
       "      <td>tt0006333</td>\n",
       "      <td>20,000 Leagues Under the Sea</td>\n",
       "      <td>[Action, Adventure, Sci-Fi]</td>\n",
       "      <td>1916.0</td>\n",
       "      <td>[Allen Holubar, Dan Hanlon, Edna Pendleton, Cu...</td>\n",
       "      <td>[Stuart Paton]</td>\n",
       "      <td>[]</td>\n",
       "      <td>[national-film-registry, public-domain, based-...</td>\n",
       "      <td>[Bahamas, California, Universal City, USA, New...</td>\n",
       "      <td>A French professor and his daughter accompany ...</td>\n",
       "      <td>6.2</td>\n",
       "      <td>https://m.media-amazon.com/images/M/MV5BMTQ0OT...</td>\n",
       "      <td>[]</td>\n",
       "      <td>Action,Adventure,Sci-Fi,national-film-registry...</td>\n",
       "    </tr>\n",
       "  </tbody>\n",
       "</table>\n",
       "</div>"
      ],
      "text/plain": [
       "     titleId                 originalTitle                       genres  \\\n",
       "0  tt0004972         The Birth of a Nation        [Drama, History, War]   \n",
       "1  tt0006333  20,000 Leagues Under the Sea  [Action, Adventure, Sci-Fi]   \n",
       "\n",
       "     year                                             Actors        Directors  \\\n",
       "0  1915.0  [Lillian Gish, Mae Marsh, Henry B. Walthall, M...  [D.W. Griffith]   \n",
       "1  1916.0  [Allen Holubar, Dan Hanlon, Edna Pendleton, Cu...   [Stuart Paton]   \n",
       "\n",
       "  Producers                                            keyword  \\\n",
       "0        []  [ku-klux-klan, civil-war, reconstruction-era, ...   \n",
       "1        []  [national-film-registry, public-domain, based-...   \n",
       "\n",
       "                                            location  \\\n",
       "0  [Thousand Oaks, Fullerton, Los Angeles, Califo...   \n",
       "1  [Bahamas, California, Universal City, USA, New...   \n",
       "\n",
       "                                                plot  rating  \\\n",
       "0  The Stoneman family finds its friendship with ...     6.3   \n",
       "1  A French professor and his daughter accompany ...     6.2   \n",
       "\n",
       "                                          poster_url  \\\n",
       "0  https://m.media-amazon.com/images/M/MV5BYTM4ZD...   \n",
       "1  https://m.media-amazon.com/images/M/MV5BMTQ0OT...   \n",
       "\n",
       "                                          ml_keyword  \\\n",
       "0  [silent, controversial, american civil war, in...   \n",
       "1                                                 []   \n",
       "\n",
       "                                        all_keywords  \n",
       "0  Drama,History,War,silent,controversial,america...  \n",
       "1  Action,Adventure,Sci-Fi,national-film-registry...  "
      ]
     },
     "execution_count": 27,
     "metadata": {},
     "output_type": "execute_result"
    }
   ],
   "source": [
    "movies.head(2)"
   ]
  },
  {
   "cell_type": "code",
   "execution_count": 28,
   "id": "89d6007d-e135-4054-9744-cbefc8522a80",
   "metadata": {},
   "outputs": [],
   "source": [
    "movies['plot_kw'] = movies['plot'] + movies['all_keywords'] "
   ]
  },
  {
   "cell_type": "code",
   "execution_count": 29,
   "id": "10e4c420-fd70-4971-bb41-443d46500808",
   "metadata": {
    "scrolled": true
   },
   "outputs": [],
   "source": [
    "## Using T5 to generate embeddings\n",
    "from sentence_transformers import SentenceTransformer\n",
    "model = SentenceTransformer(\"sentence-transformers/gtr-t5-large\")"
   ]
  },
  {
   "cell_type": "code",
   "execution_count": null,
   "id": "dd6831c4-c7e2-49b3-bad4-db9606277382",
   "metadata": {},
   "outputs": [],
   "source": [
    "embeddings = model.encode(movies['plot_kw'].values)\n",
    "np.save(\"../data/plot_kw_embeddings.npy\", embeddings)"
   ]
  },
  {
   "cell_type": "code",
   "execution_count": 31,
   "id": "0c62db45-a676-488d-9064-23bb8a611329",
   "metadata": {},
   "outputs": [
    {
     "data": {
      "text/plain": [
       "(9086, 768)"
      ]
     },
     "execution_count": 31,
     "metadata": {},
     "output_type": "execute_result"
    }
   ],
   "source": [
    "embeddings.shape"
   ]
  },
  {
   "cell_type": "code",
   "execution_count": 70,
   "id": "d6297ebd-8a13-4810-9436-2320fdd286e6",
   "metadata": {},
   "outputs": [],
   "source": [
    "# embeddings = model.encode(movies['plot'].values)\n",
    "# np.save(\"../data/plot_embeddings.npy\", embeddings)\n",
    "# embeddings = model.encode(movies['all_keywords'].values)\n",
    "# np.save(\"../data/keyword_embeddings.npy\", embeddings)"
   ]
  },
  {
   "cell_type": "code",
   "execution_count": 29,
   "id": "e0925770-f4ae-4559-8cc4-b017595da616",
   "metadata": {},
   "outputs": [],
   "source": [
    "plot_embeddings = np.load(\"../data/plot_embeddings.npy\")\n",
    "keyword_embeddings = np.load(\"../data/keyword_embeddings.npy\")\n",
    "plot_keyword_embeddings = np.load(\"../data/plot_kw_embeddings.npy\")"
   ]
  },
  {
   "cell_type": "code",
   "execution_count": 30,
   "id": "c883c6d5-9b17-46d7-a673-63ad0adb9525",
   "metadata": {},
   "outputs": [],
   "source": [
    "movies['plot_emb'] = plot_embeddings.tolist()\n",
    "movies['keyword_emb'] = keyword_embeddings.tolist()\n",
    "movies['plot_keyword_emb'] = plot_keyword_embeddings.tolist()"
   ]
  },
  {
   "cell_type": "code",
   "execution_count": 31,
   "id": "9561ebe4-156f-439c-964f-c60ed0e161b0",
   "metadata": {},
   "outputs": [],
   "source": [
    "movies = movies[['titleId','all_keywords', 'plot', 'plot_emb', 'keyword_emb', 'originalTitle', 'poster_url',\\\n",
    "       'Directors', 'Producers', 'Actors', 'rating', 'location', 'genres', 'year', 'plot_keyword_emb', 'plot_kw'\n",
    "       ]]"
   ]
  },
  {
   "cell_type": "code",
   "execution_count": 32,
   "id": "e061eef2-3b3b-4b38-af88-60e3100cebd5",
   "metadata": {},
   "outputs": [],
   "source": [
    "movies.rename(columns={'Directors': 'directors', 'Producers': 'producers', 'Actors': 'stars', 'originalTitle':'title'}, inplace=True)"
   ]
  },
  {
   "cell_type": "code",
   "execution_count": 33,
   "id": "84f358a3-07e6-4c73-820a-d19790839883",
   "metadata": {},
   "outputs": [],
   "source": [
    "movies['plotLong'] = movies['plot']"
   ]
  },
  {
   "cell_type": "code",
   "execution_count": 34,
   "id": "2790c547-513f-425f-9700-e44d61362cd7",
   "metadata": {},
   "outputs": [],
   "source": [
    "movies[['titleId','all_keywords', 'plot', 'plot_emb', 'keyword_emb', 'plot_keyword_emb', 'title', 'poster_url',\\\n",
    "       'directors', 'producers', 'stars', 'rating', 'location', 'genres', 'year', 'plotLong', 'plot_kw'\n",
    "       ]].to_parquet('../data/plot_keyword_embeddings.parquet', index=False)"
   ]
  },
  {
   "cell_type": "code",
   "execution_count": null,
   "id": "6f6deecc-ba6d-43cd-81c7-1f733da33dcd",
   "metadata": {},
   "outputs": [],
   "source": [
    "# !aws s3 cp ../data/plot_keyword_embeddings.parquet s3://mlsl-imdb-data/"
   ]
  }
 ],
 "metadata": {
  "availableInstances": [
   {
    "_defaultOrder": 0,
    "_isFastLaunch": true,
    "category": "General purpose",
    "gpuNum": 0,
    "hideHardwareSpecs": false,
    "memoryGiB": 4,
    "name": "ml.t3.medium",
    "vcpuNum": 2
   },
   {
    "_defaultOrder": 1,
    "_isFastLaunch": false,
    "category": "General purpose",
    "gpuNum": 0,
    "hideHardwareSpecs": false,
    "memoryGiB": 8,
    "name": "ml.t3.large",
    "vcpuNum": 2
   },
   {
    "_defaultOrder": 2,
    "_isFastLaunch": false,
    "category": "General purpose",
    "gpuNum": 0,
    "hideHardwareSpecs": false,
    "memoryGiB": 16,
    "name": "ml.t3.xlarge",
    "vcpuNum": 4
   },
   {
    "_defaultOrder": 3,
    "_isFastLaunch": false,
    "category": "General purpose",
    "gpuNum": 0,
    "hideHardwareSpecs": false,
    "memoryGiB": 32,
    "name": "ml.t3.2xlarge",
    "vcpuNum": 8
   },
   {
    "_defaultOrder": 4,
    "_isFastLaunch": true,
    "category": "General purpose",
    "gpuNum": 0,
    "hideHardwareSpecs": false,
    "memoryGiB": 8,
    "name": "ml.m5.large",
    "vcpuNum": 2
   },
   {
    "_defaultOrder": 5,
    "_isFastLaunch": false,
    "category": "General purpose",
    "gpuNum": 0,
    "hideHardwareSpecs": false,
    "memoryGiB": 16,
    "name": "ml.m5.xlarge",
    "vcpuNum": 4
   },
   {
    "_defaultOrder": 6,
    "_isFastLaunch": false,
    "category": "General purpose",
    "gpuNum": 0,
    "hideHardwareSpecs": false,
    "memoryGiB": 32,
    "name": "ml.m5.2xlarge",
    "vcpuNum": 8
   },
   {
    "_defaultOrder": 7,
    "_isFastLaunch": false,
    "category": "General purpose",
    "gpuNum": 0,
    "hideHardwareSpecs": false,
    "memoryGiB": 64,
    "name": "ml.m5.4xlarge",
    "vcpuNum": 16
   },
   {
    "_defaultOrder": 8,
    "_isFastLaunch": false,
    "category": "General purpose",
    "gpuNum": 0,
    "hideHardwareSpecs": false,
    "memoryGiB": 128,
    "name": "ml.m5.8xlarge",
    "vcpuNum": 32
   },
   {
    "_defaultOrder": 9,
    "_isFastLaunch": false,
    "category": "General purpose",
    "gpuNum": 0,
    "hideHardwareSpecs": false,
    "memoryGiB": 192,
    "name": "ml.m5.12xlarge",
    "vcpuNum": 48
   },
   {
    "_defaultOrder": 10,
    "_isFastLaunch": false,
    "category": "General purpose",
    "gpuNum": 0,
    "hideHardwareSpecs": false,
    "memoryGiB": 256,
    "name": "ml.m5.16xlarge",
    "vcpuNum": 64
   },
   {
    "_defaultOrder": 11,
    "_isFastLaunch": false,
    "category": "General purpose",
    "gpuNum": 0,
    "hideHardwareSpecs": false,
    "memoryGiB": 384,
    "name": "ml.m5.24xlarge",
    "vcpuNum": 96
   },
   {
    "_defaultOrder": 12,
    "_isFastLaunch": false,
    "category": "General purpose",
    "gpuNum": 0,
    "hideHardwareSpecs": false,
    "memoryGiB": 8,
    "name": "ml.m5d.large",
    "vcpuNum": 2
   },
   {
    "_defaultOrder": 13,
    "_isFastLaunch": false,
    "category": "General purpose",
    "gpuNum": 0,
    "hideHardwareSpecs": false,
    "memoryGiB": 16,
    "name": "ml.m5d.xlarge",
    "vcpuNum": 4
   },
   {
    "_defaultOrder": 14,
    "_isFastLaunch": false,
    "category": "General purpose",
    "gpuNum": 0,
    "hideHardwareSpecs": false,
    "memoryGiB": 32,
    "name": "ml.m5d.2xlarge",
    "vcpuNum": 8
   },
   {
    "_defaultOrder": 15,
    "_isFastLaunch": false,
    "category": "General purpose",
    "gpuNum": 0,
    "hideHardwareSpecs": false,
    "memoryGiB": 64,
    "name": "ml.m5d.4xlarge",
    "vcpuNum": 16
   },
   {
    "_defaultOrder": 16,
    "_isFastLaunch": false,
    "category": "General purpose",
    "gpuNum": 0,
    "hideHardwareSpecs": false,
    "memoryGiB": 128,
    "name": "ml.m5d.8xlarge",
    "vcpuNum": 32
   },
   {
    "_defaultOrder": 17,
    "_isFastLaunch": false,
    "category": "General purpose",
    "gpuNum": 0,
    "hideHardwareSpecs": false,
    "memoryGiB": 192,
    "name": "ml.m5d.12xlarge",
    "vcpuNum": 48
   },
   {
    "_defaultOrder": 18,
    "_isFastLaunch": false,
    "category": "General purpose",
    "gpuNum": 0,
    "hideHardwareSpecs": false,
    "memoryGiB": 256,
    "name": "ml.m5d.16xlarge",
    "vcpuNum": 64
   },
   {
    "_defaultOrder": 19,
    "_isFastLaunch": false,
    "category": "General purpose",
    "gpuNum": 0,
    "hideHardwareSpecs": false,
    "memoryGiB": 384,
    "name": "ml.m5d.24xlarge",
    "vcpuNum": 96
   },
   {
    "_defaultOrder": 20,
    "_isFastLaunch": false,
    "category": "General purpose",
    "gpuNum": 0,
    "hideHardwareSpecs": true,
    "memoryGiB": 0,
    "name": "ml.geospatial.interactive",
    "supportedImageNames": [
     "sagemaker-geospatial-v1-0"
    ],
    "vcpuNum": 0
   },
   {
    "_defaultOrder": 21,
    "_isFastLaunch": true,
    "category": "Compute optimized",
    "gpuNum": 0,
    "hideHardwareSpecs": false,
    "memoryGiB": 4,
    "name": "ml.c5.large",
    "vcpuNum": 2
   },
   {
    "_defaultOrder": 22,
    "_isFastLaunch": false,
    "category": "Compute optimized",
    "gpuNum": 0,
    "hideHardwareSpecs": false,
    "memoryGiB": 8,
    "name": "ml.c5.xlarge",
    "vcpuNum": 4
   },
   {
    "_defaultOrder": 23,
    "_isFastLaunch": false,
    "category": "Compute optimized",
    "gpuNum": 0,
    "hideHardwareSpecs": false,
    "memoryGiB": 16,
    "name": "ml.c5.2xlarge",
    "vcpuNum": 8
   },
   {
    "_defaultOrder": 24,
    "_isFastLaunch": false,
    "category": "Compute optimized",
    "gpuNum": 0,
    "hideHardwareSpecs": false,
    "memoryGiB": 32,
    "name": "ml.c5.4xlarge",
    "vcpuNum": 16
   },
   {
    "_defaultOrder": 25,
    "_isFastLaunch": false,
    "category": "Compute optimized",
    "gpuNum": 0,
    "hideHardwareSpecs": false,
    "memoryGiB": 72,
    "name": "ml.c5.9xlarge",
    "vcpuNum": 36
   },
   {
    "_defaultOrder": 26,
    "_isFastLaunch": false,
    "category": "Compute optimized",
    "gpuNum": 0,
    "hideHardwareSpecs": false,
    "memoryGiB": 96,
    "name": "ml.c5.12xlarge",
    "vcpuNum": 48
   },
   {
    "_defaultOrder": 27,
    "_isFastLaunch": false,
    "category": "Compute optimized",
    "gpuNum": 0,
    "hideHardwareSpecs": false,
    "memoryGiB": 144,
    "name": "ml.c5.18xlarge",
    "vcpuNum": 72
   },
   {
    "_defaultOrder": 28,
    "_isFastLaunch": false,
    "category": "Compute optimized",
    "gpuNum": 0,
    "hideHardwareSpecs": false,
    "memoryGiB": 192,
    "name": "ml.c5.24xlarge",
    "vcpuNum": 96
   },
   {
    "_defaultOrder": 29,
    "_isFastLaunch": true,
    "category": "Accelerated computing",
    "gpuNum": 1,
    "hideHardwareSpecs": false,
    "memoryGiB": 16,
    "name": "ml.g4dn.xlarge",
    "vcpuNum": 4
   },
   {
    "_defaultOrder": 30,
    "_isFastLaunch": false,
    "category": "Accelerated computing",
    "gpuNum": 1,
    "hideHardwareSpecs": false,
    "memoryGiB": 32,
    "name": "ml.g4dn.2xlarge",
    "vcpuNum": 8
   },
   {
    "_defaultOrder": 31,
    "_isFastLaunch": false,
    "category": "Accelerated computing",
    "gpuNum": 1,
    "hideHardwareSpecs": false,
    "memoryGiB": 64,
    "name": "ml.g4dn.4xlarge",
    "vcpuNum": 16
   },
   {
    "_defaultOrder": 32,
    "_isFastLaunch": false,
    "category": "Accelerated computing",
    "gpuNum": 1,
    "hideHardwareSpecs": false,
    "memoryGiB": 128,
    "name": "ml.g4dn.8xlarge",
    "vcpuNum": 32
   },
   {
    "_defaultOrder": 33,
    "_isFastLaunch": false,
    "category": "Accelerated computing",
    "gpuNum": 4,
    "hideHardwareSpecs": false,
    "memoryGiB": 192,
    "name": "ml.g4dn.12xlarge",
    "vcpuNum": 48
   },
   {
    "_defaultOrder": 34,
    "_isFastLaunch": false,
    "category": "Accelerated computing",
    "gpuNum": 1,
    "hideHardwareSpecs": false,
    "memoryGiB": 256,
    "name": "ml.g4dn.16xlarge",
    "vcpuNum": 64
   },
   {
    "_defaultOrder": 35,
    "_isFastLaunch": false,
    "category": "Accelerated computing",
    "gpuNum": 1,
    "hideHardwareSpecs": false,
    "memoryGiB": 61,
    "name": "ml.p3.2xlarge",
    "vcpuNum": 8
   },
   {
    "_defaultOrder": 36,
    "_isFastLaunch": false,
    "category": "Accelerated computing",
    "gpuNum": 4,
    "hideHardwareSpecs": false,
    "memoryGiB": 244,
    "name": "ml.p3.8xlarge",
    "vcpuNum": 32
   },
   {
    "_defaultOrder": 37,
    "_isFastLaunch": false,
    "category": "Accelerated computing",
    "gpuNum": 8,
    "hideHardwareSpecs": false,
    "memoryGiB": 488,
    "name": "ml.p3.16xlarge",
    "vcpuNum": 64
   },
   {
    "_defaultOrder": 38,
    "_isFastLaunch": false,
    "category": "Accelerated computing",
    "gpuNum": 8,
    "hideHardwareSpecs": false,
    "memoryGiB": 768,
    "name": "ml.p3dn.24xlarge",
    "vcpuNum": 96
   },
   {
    "_defaultOrder": 39,
    "_isFastLaunch": false,
    "category": "Memory Optimized",
    "gpuNum": 0,
    "hideHardwareSpecs": false,
    "memoryGiB": 16,
    "name": "ml.r5.large",
    "vcpuNum": 2
   },
   {
    "_defaultOrder": 40,
    "_isFastLaunch": false,
    "category": "Memory Optimized",
    "gpuNum": 0,
    "hideHardwareSpecs": false,
    "memoryGiB": 32,
    "name": "ml.r5.xlarge",
    "vcpuNum": 4
   },
   {
    "_defaultOrder": 41,
    "_isFastLaunch": false,
    "category": "Memory Optimized",
    "gpuNum": 0,
    "hideHardwareSpecs": false,
    "memoryGiB": 64,
    "name": "ml.r5.2xlarge",
    "vcpuNum": 8
   },
   {
    "_defaultOrder": 42,
    "_isFastLaunch": false,
    "category": "Memory Optimized",
    "gpuNum": 0,
    "hideHardwareSpecs": false,
    "memoryGiB": 128,
    "name": "ml.r5.4xlarge",
    "vcpuNum": 16
   },
   {
    "_defaultOrder": 43,
    "_isFastLaunch": false,
    "category": "Memory Optimized",
    "gpuNum": 0,
    "hideHardwareSpecs": false,
    "memoryGiB": 256,
    "name": "ml.r5.8xlarge",
    "vcpuNum": 32
   },
   {
    "_defaultOrder": 44,
    "_isFastLaunch": false,
    "category": "Memory Optimized",
    "gpuNum": 0,
    "hideHardwareSpecs": false,
    "memoryGiB": 384,
    "name": "ml.r5.12xlarge",
    "vcpuNum": 48
   },
   {
    "_defaultOrder": 45,
    "_isFastLaunch": false,
    "category": "Memory Optimized",
    "gpuNum": 0,
    "hideHardwareSpecs": false,
    "memoryGiB": 512,
    "name": "ml.r5.16xlarge",
    "vcpuNum": 64
   },
   {
    "_defaultOrder": 46,
    "_isFastLaunch": false,
    "category": "Memory Optimized",
    "gpuNum": 0,
    "hideHardwareSpecs": false,
    "memoryGiB": 768,
    "name": "ml.r5.24xlarge",
    "vcpuNum": 96
   },
   {
    "_defaultOrder": 47,
    "_isFastLaunch": false,
    "category": "Accelerated computing",
    "gpuNum": 1,
    "hideHardwareSpecs": false,
    "memoryGiB": 16,
    "name": "ml.g5.xlarge",
    "vcpuNum": 4
   },
   {
    "_defaultOrder": 48,
    "_isFastLaunch": false,
    "category": "Accelerated computing",
    "gpuNum": 1,
    "hideHardwareSpecs": false,
    "memoryGiB": 32,
    "name": "ml.g5.2xlarge",
    "vcpuNum": 8
   },
   {
    "_defaultOrder": 49,
    "_isFastLaunch": false,
    "category": "Accelerated computing",
    "gpuNum": 1,
    "hideHardwareSpecs": false,
    "memoryGiB": 64,
    "name": "ml.g5.4xlarge",
    "vcpuNum": 16
   },
   {
    "_defaultOrder": 50,
    "_isFastLaunch": false,
    "category": "Accelerated computing",
    "gpuNum": 1,
    "hideHardwareSpecs": false,
    "memoryGiB": 128,
    "name": "ml.g5.8xlarge",
    "vcpuNum": 32
   },
   {
    "_defaultOrder": 51,
    "_isFastLaunch": false,
    "category": "Accelerated computing",
    "gpuNum": 1,
    "hideHardwareSpecs": false,
    "memoryGiB": 256,
    "name": "ml.g5.16xlarge",
    "vcpuNum": 64
   },
   {
    "_defaultOrder": 52,
    "_isFastLaunch": false,
    "category": "Accelerated computing",
    "gpuNum": 4,
    "hideHardwareSpecs": false,
    "memoryGiB": 192,
    "name": "ml.g5.12xlarge",
    "vcpuNum": 48
   },
   {
    "_defaultOrder": 53,
    "_isFastLaunch": false,
    "category": "Accelerated computing",
    "gpuNum": 4,
    "hideHardwareSpecs": false,
    "memoryGiB": 384,
    "name": "ml.g5.24xlarge",
    "vcpuNum": 96
   },
   {
    "_defaultOrder": 54,
    "_isFastLaunch": false,
    "category": "Accelerated computing",
    "gpuNum": 8,
    "hideHardwareSpecs": false,
    "memoryGiB": 768,
    "name": "ml.g5.48xlarge",
    "vcpuNum": 192
   },
   {
    "_defaultOrder": 55,
    "_isFastLaunch": false,
    "category": "Accelerated computing",
    "gpuNum": 8,
    "hideHardwareSpecs": false,
    "memoryGiB": 1152,
    "name": "ml.p4d.24xlarge",
    "vcpuNum": 96
   },
   {
    "_defaultOrder": 56,
    "_isFastLaunch": false,
    "category": "Accelerated computing",
    "gpuNum": 8,
    "hideHardwareSpecs": false,
    "memoryGiB": 1152,
    "name": "ml.p4de.24xlarge",
    "vcpuNum": 96
   }
  ],
  "instance_type": "ml.t3.medium",
  "kernelspec": {
   "display_name": "Python 3 (Data Science)",
   "language": "python",
   "name": "python3__SAGEMAKER_INTERNAL__arn:aws:sagemaker:us-east-1:081325390199:image/datascience-1.0"
  },
  "language_info": {
   "codemirror_mode": {
    "name": "ipython",
    "version": 3
   },
   "file_extension": ".py",
   "mimetype": "text/x-python",
   "name": "python",
   "nbconvert_exporter": "python",
   "pygments_lexer": "ipython3",
   "version": "3.7.10"
  }
 },
 "nbformat": 4,
 "nbformat_minor": 5
}
